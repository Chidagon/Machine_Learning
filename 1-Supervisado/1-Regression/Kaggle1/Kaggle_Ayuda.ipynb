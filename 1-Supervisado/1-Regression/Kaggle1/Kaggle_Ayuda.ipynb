{
 "cells": [
  {
   "cell_type": "markdown",
   "metadata": {},
   "source": [
    "#### Aquí encontrarás todo lo que necesitas saber: https://www.kaggle.com/t/ab8726f0cfc84544abbae69a6be88071"
   ]
  },
  {
   "cell_type": "markdown",
   "metadata": {},
   "source": [
    "## Librerias"
   ]
  },
  {
   "cell_type": "code",
   "execution_count": 110,
   "metadata": {},
   "outputs": [],
   "source": [
    "import pandas as pd\n",
    "\n",
    "import urllib.request\n",
    "from PIL import Image"
   ]
  },
  {
   "cell_type": "markdown",
   "metadata": {},
   "source": [
    "## Data"
   ]
  },
  {
   "cell_type": "code",
   "execution_count": 111,
   "metadata": {},
   "outputs": [
    {
     "data": {
      "text/html": [
       "<div>\n",
       "<style scoped>\n",
       "    .dataframe tbody tr th:only-of-type {\n",
       "        vertical-align: middle;\n",
       "    }\n",
       "\n",
       "    .dataframe tbody tr th {\n",
       "        vertical-align: top;\n",
       "    }\n",
       "\n",
       "    .dataframe thead th {\n",
       "        text-align: right;\n",
       "    }\n",
       "</style>\n",
       "<table border=\"1\" class=\"dataframe\">\n",
       "  <thead>\n",
       "    <tr style=\"text-align: right;\">\n",
       "      <th></th>\n",
       "      <th>laptop_ID</th>\n",
       "      <th>Company</th>\n",
       "      <th>TypeName</th>\n",
       "      <th>Inches</th>\n",
       "      <th>ScreenResolution</th>\n",
       "      <th>Ram</th>\n",
       "      <th>OpSys</th>\n",
       "      <th>Weight</th>\n",
       "      <th>Price_euros</th>\n",
       "      <th>HDD</th>\n",
       "      <th>SSD</th>\n",
       "    </tr>\n",
       "  </thead>\n",
       "  <tbody>\n",
       "    <tr>\n",
       "      <th>0</th>\n",
       "      <td>1104</td>\n",
       "      <td>5</td>\n",
       "      <td>1</td>\n",
       "      <td>15.6</td>\n",
       "      <td>2</td>\n",
       "      <td>4</td>\n",
       "      <td>1</td>\n",
       "      <td>2.40</td>\n",
       "      <td>387.00</td>\n",
       "      <td>500.0</td>\n",
       "      <td>0.0</td>\n",
       "    </tr>\n",
       "    <tr>\n",
       "      <th>1</th>\n",
       "      <td>172</td>\n",
       "      <td>5</td>\n",
       "      <td>1</td>\n",
       "      <td>17.3</td>\n",
       "      <td>1</td>\n",
       "      <td>8</td>\n",
       "      <td>1</td>\n",
       "      <td>3.00</td>\n",
       "      <td>854.00</td>\n",
       "      <td>0.0</td>\n",
       "      <td>256.0</td>\n",
       "    </tr>\n",
       "    <tr>\n",
       "      <th>2</th>\n",
       "      <td>1150</td>\n",
       "      <td>1</td>\n",
       "      <td>1</td>\n",
       "      <td>15.6</td>\n",
       "      <td>1</td>\n",
       "      <td>16</td>\n",
       "      <td>1</td>\n",
       "      <td>2.50</td>\n",
       "      <td>1099.00</td>\n",
       "      <td>0.0</td>\n",
       "      <td>0.0</td>\n",
       "    </tr>\n",
       "    <tr>\n",
       "      <th>3</th>\n",
       "      <td>63</td>\n",
       "      <td>1</td>\n",
       "      <td>1</td>\n",
       "      <td>14.0</td>\n",
       "      <td>1</td>\n",
       "      <td>8</td>\n",
       "      <td>2</td>\n",
       "      <td>1.70</td>\n",
       "      <td>599.00</td>\n",
       "      <td>0.0</td>\n",
       "      <td>256.0</td>\n",
       "    </tr>\n",
       "    <tr>\n",
       "      <th>4</th>\n",
       "      <td>108</td>\n",
       "      <td>3</td>\n",
       "      <td>1</td>\n",
       "      <td>14.0</td>\n",
       "      <td>1</td>\n",
       "      <td>6</td>\n",
       "      <td>1</td>\n",
       "      <td>1.58</td>\n",
       "      <td>659.00</td>\n",
       "      <td>0.0</td>\n",
       "      <td>256.0</td>\n",
       "    </tr>\n",
       "    <tr>\n",
       "      <th>...</th>\n",
       "      <td>...</td>\n",
       "      <td>...</td>\n",
       "      <td>...</td>\n",
       "      <td>...</td>\n",
       "      <td>...</td>\n",
       "      <td>...</td>\n",
       "      <td>...</td>\n",
       "      <td>...</td>\n",
       "      <td>...</td>\n",
       "      <td>...</td>\n",
       "      <td>...</td>\n",
       "    </tr>\n",
       "    <tr>\n",
       "      <th>696</th>\n",
       "      <td>123</td>\n",
       "      <td>5</td>\n",
       "      <td>1</td>\n",
       "      <td>15.6</td>\n",
       "      <td>1</td>\n",
       "      <td>6</td>\n",
       "      <td>1</td>\n",
       "      <td>2.10</td>\n",
       "      <td>479.00</td>\n",
       "      <td>1000.0</td>\n",
       "      <td>0.0</td>\n",
       "    </tr>\n",
       "    <tr>\n",
       "      <th>697</th>\n",
       "      <td>996</td>\n",
       "      <td>1</td>\n",
       "      <td>1</td>\n",
       "      <td>15.6</td>\n",
       "      <td>1</td>\n",
       "      <td>6</td>\n",
       "      <td>1</td>\n",
       "      <td>2.20</td>\n",
       "      <td>549.00</td>\n",
       "      <td>0.0</td>\n",
       "      <td>256.0</td>\n",
       "    </tr>\n",
       "    <tr>\n",
       "      <th>698</th>\n",
       "      <td>276</td>\n",
       "      <td>4</td>\n",
       "      <td>3</td>\n",
       "      <td>17.3</td>\n",
       "      <td>1</td>\n",
       "      <td>16</td>\n",
       "      <td>1</td>\n",
       "      <td>3.20</td>\n",
       "      <td>1549.00</td>\n",
       "      <td>1000.0</td>\n",
       "      <td>256.0</td>\n",
       "    </tr>\n",
       "    <tr>\n",
       "      <th>699</th>\n",
       "      <td>585</td>\n",
       "      <td>6</td>\n",
       "      <td>3</td>\n",
       "      <td>17.3</td>\n",
       "      <td>1</td>\n",
       "      <td>16</td>\n",
       "      <td>1</td>\n",
       "      <td>4.14</td>\n",
       "      <td>2729.00</td>\n",
       "      <td>1000.0</td>\n",
       "      <td>512.0</td>\n",
       "    </tr>\n",
       "    <tr>\n",
       "      <th>700</th>\n",
       "      <td>1173</td>\n",
       "      <td>3</td>\n",
       "      <td>1</td>\n",
       "      <td>15.6</td>\n",
       "      <td>1</td>\n",
       "      <td>4</td>\n",
       "      <td>1</td>\n",
       "      <td>1.91</td>\n",
       "      <td>478.89</td>\n",
       "      <td>0.0</td>\n",
       "      <td>256.0</td>\n",
       "    </tr>\n",
       "  </tbody>\n",
       "</table>\n",
       "<p>701 rows × 11 columns</p>\n",
       "</div>"
      ],
      "text/plain": [
       "     laptop_ID  Company  TypeName  Inches  ScreenResolution  Ram  OpSys  \\\n",
       "0         1104        5         1    15.6                 2    4      1   \n",
       "1          172        5         1    17.3                 1    8      1   \n",
       "2         1150        1         1    15.6                 1   16      1   \n",
       "3           63        1         1    14.0                 1    8      2   \n",
       "4          108        3         1    14.0                 1    6      1   \n",
       "..         ...      ...       ...     ...               ...  ...    ...   \n",
       "696        123        5         1    15.6                 1    6      1   \n",
       "697        996        1         1    15.6                 1    6      1   \n",
       "698        276        4         3    17.3                 1   16      1   \n",
       "699        585        6         3    17.3                 1   16      1   \n",
       "700       1173        3         1    15.6                 1    4      1   \n",
       "\n",
       "     Weight  Price_euros     HDD    SSD  \n",
       "0      2.40       387.00   500.0    0.0  \n",
       "1      3.00       854.00     0.0  256.0  \n",
       "2      2.50      1099.00     0.0    0.0  \n",
       "3      1.70       599.00     0.0  256.0  \n",
       "4      1.58       659.00     0.0  256.0  \n",
       "..      ...          ...     ...    ...  \n",
       "696    2.10       479.00  1000.0    0.0  \n",
       "697    2.20       549.00     0.0  256.0  \n",
       "698    3.20      1549.00  1000.0  256.0  \n",
       "699    4.14      2729.00  1000.0  512.0  \n",
       "700    1.91       478.89     0.0  256.0  \n",
       "\n",
       "[701 rows x 11 columns]"
      ]
     },
     "execution_count": 111,
     "metadata": {},
     "output_type": "execute_result"
    }
   ],
   "source": [
    "### Para que funcione necesitas bajarte los archivos de datos de Kaggle \n",
    "train = pd.read_csv(r\"C:\\Users\\DEEPGAMING\\Documents\\Machineleraning\\train2.csv\")\n",
    "train= train.drop(['Unnamed: 0'], axis=1)\n",
    "train"
   ]
  },
  {
   "cell_type": "markdown",
   "metadata": {},
   "source": [
    "## Data exploration"
   ]
  },
  {
   "cell_type": "code",
   "execution_count": 112,
   "metadata": {},
   "outputs": [
    {
     "name": "stdout",
     "output_type": "stream",
     "text": [
      "<class 'pandas.core.frame.DataFrame'>\n",
      "RangeIndex: 701 entries, 0 to 700\n",
      "Data columns (total 11 columns):\n",
      " #   Column            Non-Null Count  Dtype  \n",
      "---  ------            --------------  -----  \n",
      " 0   laptop_ID         701 non-null    int64  \n",
      " 1   Company           701 non-null    int64  \n",
      " 2   TypeName          701 non-null    int64  \n",
      " 3   Inches            701 non-null    float64\n",
      " 4   ScreenResolution  701 non-null    int64  \n",
      " 5   Ram               701 non-null    int64  \n",
      " 6   OpSys             701 non-null    int64  \n",
      " 7   Weight            701 non-null    float64\n",
      " 8   Price_euros       701 non-null    float64\n",
      " 9   HDD               701 non-null    float64\n",
      " 10  SSD               701 non-null    float64\n",
      "dtypes: float64(5), int64(6)\n",
      "memory usage: 60.4 KB\n"
     ]
    }
   ],
   "source": [
    "train.info()"
   ]
  },
  {
   "cell_type": "code",
   "execution_count": 113,
   "metadata": {},
   "outputs": [
    {
     "data": {
      "text/html": [
       "<div>\n",
       "<style scoped>\n",
       "    .dataframe tbody tr th:only-of-type {\n",
       "        vertical-align: middle;\n",
       "    }\n",
       "\n",
       "    .dataframe tbody tr th {\n",
       "        vertical-align: top;\n",
       "    }\n",
       "\n",
       "    .dataframe thead th {\n",
       "        text-align: right;\n",
       "    }\n",
       "</style>\n",
       "<table border=\"1\" class=\"dataframe\">\n",
       "  <thead>\n",
       "    <tr style=\"text-align: right;\">\n",
       "      <th></th>\n",
       "      <th>laptop_ID</th>\n",
       "      <th>Company</th>\n",
       "      <th>TypeName</th>\n",
       "      <th>Inches</th>\n",
       "      <th>ScreenResolution</th>\n",
       "      <th>Ram</th>\n",
       "      <th>OpSys</th>\n",
       "      <th>Weight</th>\n",
       "      <th>Price_euros</th>\n",
       "      <th>HDD</th>\n",
       "      <th>SSD</th>\n",
       "    </tr>\n",
       "  </thead>\n",
       "  <tbody>\n",
       "    <tr>\n",
       "      <th>0</th>\n",
       "      <td>1104</td>\n",
       "      <td>5</td>\n",
       "      <td>1</td>\n",
       "      <td>15.6</td>\n",
       "      <td>2</td>\n",
       "      <td>4</td>\n",
       "      <td>1</td>\n",
       "      <td>2.40</td>\n",
       "      <td>387.0</td>\n",
       "      <td>500.0</td>\n",
       "      <td>0.0</td>\n",
       "    </tr>\n",
       "    <tr>\n",
       "      <th>1</th>\n",
       "      <td>172</td>\n",
       "      <td>5</td>\n",
       "      <td>1</td>\n",
       "      <td>17.3</td>\n",
       "      <td>1</td>\n",
       "      <td>8</td>\n",
       "      <td>1</td>\n",
       "      <td>3.00</td>\n",
       "      <td>854.0</td>\n",
       "      <td>0.0</td>\n",
       "      <td>256.0</td>\n",
       "    </tr>\n",
       "    <tr>\n",
       "      <th>2</th>\n",
       "      <td>1150</td>\n",
       "      <td>1</td>\n",
       "      <td>1</td>\n",
       "      <td>15.6</td>\n",
       "      <td>1</td>\n",
       "      <td>16</td>\n",
       "      <td>1</td>\n",
       "      <td>2.50</td>\n",
       "      <td>1099.0</td>\n",
       "      <td>0.0</td>\n",
       "      <td>0.0</td>\n",
       "    </tr>\n",
       "    <tr>\n",
       "      <th>3</th>\n",
       "      <td>63</td>\n",
       "      <td>1</td>\n",
       "      <td>1</td>\n",
       "      <td>14.0</td>\n",
       "      <td>1</td>\n",
       "      <td>8</td>\n",
       "      <td>2</td>\n",
       "      <td>1.70</td>\n",
       "      <td>599.0</td>\n",
       "      <td>0.0</td>\n",
       "      <td>256.0</td>\n",
       "    </tr>\n",
       "    <tr>\n",
       "      <th>4</th>\n",
       "      <td>108</td>\n",
       "      <td>3</td>\n",
       "      <td>1</td>\n",
       "      <td>14.0</td>\n",
       "      <td>1</td>\n",
       "      <td>6</td>\n",
       "      <td>1</td>\n",
       "      <td>1.58</td>\n",
       "      <td>659.0</td>\n",
       "      <td>0.0</td>\n",
       "      <td>256.0</td>\n",
       "    </tr>\n",
       "  </tbody>\n",
       "</table>\n",
       "</div>"
      ],
      "text/plain": [
       "   laptop_ID  Company  TypeName  Inches  ScreenResolution  Ram  OpSys  Weight  \\\n",
       "0       1104        5         1    15.6                 2    4      1    2.40   \n",
       "1        172        5         1    17.3                 1    8      1    3.00   \n",
       "2       1150        1         1    15.6                 1   16      1    2.50   \n",
       "3         63        1         1    14.0                 1    8      2    1.70   \n",
       "4        108        3         1    14.0                 1    6      1    1.58   \n",
       "\n",
       "   Price_euros    HDD    SSD  \n",
       "0        387.0  500.0    0.0  \n",
       "1        854.0    0.0  256.0  \n",
       "2       1099.0    0.0    0.0  \n",
       "3        599.0    0.0  256.0  \n",
       "4        659.0    0.0  256.0  "
      ]
     },
     "execution_count": 113,
     "metadata": {},
     "output_type": "execute_result"
    }
   ],
   "source": [
    "train.head()"
   ]
  },
  {
   "cell_type": "markdown",
   "metadata": {},
   "source": [
    "## Data processing"
   ]
  },
  {
   "cell_type": "code",
   "execution_count": null,
   "metadata": {},
   "outputs": [],
   "source": []
  },
  {
   "cell_type": "code",
   "execution_count": null,
   "metadata": {},
   "outputs": [],
   "source": []
  },
  {
   "cell_type": "code",
   "execution_count": null,
   "metadata": {},
   "outputs": [],
   "source": []
  },
  {
   "cell_type": "markdown",
   "metadata": {},
   "source": [
    "-----------------------------------------------------------------------------------------------------------------"
   ]
  },
  {
   "cell_type": "markdown",
   "metadata": {},
   "source": [
    "## Pasos que si o si debéis realizar para poder participar en la competición:"
   ]
  },
  {
   "cell_type": "markdown",
   "metadata": {},
   "source": [
    "### 1. Definir X e y"
   ]
  },
  {
   "cell_type": "code",
   "execution_count": 114,
   "metadata": {},
   "outputs": [
    {
     "data": {
      "text/plain": [
       "(701, 10)"
      ]
     },
     "execution_count": 114,
     "metadata": {},
     "output_type": "execute_result"
    }
   ],
   "source": [
    "X = train.drop(['Price_euros'], axis=1)\n",
    "y = train['Price_euros'].copy()\n",
    "X.shape"
   ]
  },
  {
   "cell_type": "code",
   "execution_count": 115,
   "metadata": {},
   "outputs": [
    {
     "data": {
      "text/plain": [
       "(701,)"
      ]
     },
     "execution_count": 115,
     "metadata": {},
     "output_type": "execute_result"
    }
   ],
   "source": [
    "y.shape"
   ]
  },
  {
   "cell_type": "markdown",
   "metadata": {},
   "source": [
    "### 2. Dividir X_train, X_test, y_train, y_test"
   ]
  },
  {
   "cell_type": "code",
   "execution_count": 116,
   "metadata": {},
   "outputs": [],
   "source": [
    "from sklearn.model_selection import train_test_split\n",
    "X_train, X_test, y_train, y_test = train_test_split(X, y, test_size = 0.20, random_state = 42)"
   ]
  },
  {
   "cell_type": "code",
   "execution_count": 117,
   "metadata": {},
   "outputs": [
    {
     "data": {
      "text/html": [
       "<div>\n",
       "<style scoped>\n",
       "    .dataframe tbody tr th:only-of-type {\n",
       "        vertical-align: middle;\n",
       "    }\n",
       "\n",
       "    .dataframe tbody tr th {\n",
       "        vertical-align: top;\n",
       "    }\n",
       "\n",
       "    .dataframe thead th {\n",
       "        text-align: right;\n",
       "    }\n",
       "</style>\n",
       "<table border=\"1\" class=\"dataframe\">\n",
       "  <thead>\n",
       "    <tr style=\"text-align: right;\">\n",
       "      <th></th>\n",
       "      <th>laptop_ID</th>\n",
       "      <th>Company</th>\n",
       "      <th>TypeName</th>\n",
       "      <th>Inches</th>\n",
       "      <th>ScreenResolution</th>\n",
       "      <th>Ram</th>\n",
       "      <th>OpSys</th>\n",
       "      <th>Weight</th>\n",
       "      <th>HDD</th>\n",
       "      <th>SSD</th>\n",
       "    </tr>\n",
       "  </thead>\n",
       "  <tbody>\n",
       "    <tr>\n",
       "      <th>165</th>\n",
       "      <td>100</td>\n",
       "      <td>4</td>\n",
       "      <td>1</td>\n",
       "      <td>15.6</td>\n",
       "      <td>1</td>\n",
       "      <td>6</td>\n",
       "      <td>1</td>\n",
       "      <td>2.00</td>\n",
       "      <td>0.0</td>\n",
       "      <td>256.0</td>\n",
       "    </tr>\n",
       "    <tr>\n",
       "      <th>542</th>\n",
       "      <td>1194</td>\n",
       "      <td>1</td>\n",
       "      <td>1</td>\n",
       "      <td>15.6</td>\n",
       "      <td>1</td>\n",
       "      <td>4</td>\n",
       "      <td>4</td>\n",
       "      <td>2.32</td>\n",
       "      <td>0.0</td>\n",
       "      <td>0.0</td>\n",
       "    </tr>\n",
       "    <tr>\n",
       "      <th>284</th>\n",
       "      <td>883</td>\n",
       "      <td>7</td>\n",
       "      <td>1</td>\n",
       "      <td>15.6</td>\n",
       "      <td>1</td>\n",
       "      <td>8</td>\n",
       "      <td>1</td>\n",
       "      <td>2.00</td>\n",
       "      <td>0.0</td>\n",
       "      <td>256.0</td>\n",
       "    </tr>\n",
       "    <tr>\n",
       "      <th>360</th>\n",
       "      <td>935</td>\n",
       "      <td>3</td>\n",
       "      <td>2</td>\n",
       "      <td>15.6</td>\n",
       "      <td>1</td>\n",
       "      <td>8</td>\n",
       "      <td>1</td>\n",
       "      <td>1.84</td>\n",
       "      <td>0.0</td>\n",
       "      <td>256.0</td>\n",
       "    </tr>\n",
       "    <tr>\n",
       "      <th>110</th>\n",
       "      <td>1093</td>\n",
       "      <td>1</td>\n",
       "      <td>1</td>\n",
       "      <td>15.6</td>\n",
       "      <td>2</td>\n",
       "      <td>4</td>\n",
       "      <td>1</td>\n",
       "      <td>2.10</td>\n",
       "      <td>500.0</td>\n",
       "      <td>0.0</td>\n",
       "    </tr>\n",
       "    <tr>\n",
       "      <th>...</th>\n",
       "      <td>...</td>\n",
       "      <td>...</td>\n",
       "      <td>...</td>\n",
       "      <td>...</td>\n",
       "      <td>...</td>\n",
       "      <td>...</td>\n",
       "      <td>...</td>\n",
       "      <td>...</td>\n",
       "      <td>...</td>\n",
       "      <td>...</td>\n",
       "    </tr>\n",
       "    <tr>\n",
       "      <th>71</th>\n",
       "      <td>673</td>\n",
       "      <td>7</td>\n",
       "      <td>1</td>\n",
       "      <td>15.6</td>\n",
       "      <td>2</td>\n",
       "      <td>4</td>\n",
       "      <td>1</td>\n",
       "      <td>2.10</td>\n",
       "      <td>0.0</td>\n",
       "      <td>128.0</td>\n",
       "    </tr>\n",
       "    <tr>\n",
       "      <th>106</th>\n",
       "      <td>1318</td>\n",
       "      <td>1</td>\n",
       "      <td>1</td>\n",
       "      <td>14.0</td>\n",
       "      <td>2</td>\n",
       "      <td>2</td>\n",
       "      <td>1</td>\n",
       "      <td>1.50</td>\n",
       "      <td>0.0</td>\n",
       "      <td>0.0</td>\n",
       "    </tr>\n",
       "    <tr>\n",
       "      <th>270</th>\n",
       "      <td>710</td>\n",
       "      <td>1</td>\n",
       "      <td>1</td>\n",
       "      <td>15.6</td>\n",
       "      <td>2</td>\n",
       "      <td>8</td>\n",
       "      <td>1</td>\n",
       "      <td>2.20</td>\n",
       "      <td>1000.0</td>\n",
       "      <td>0.0</td>\n",
       "    </tr>\n",
       "    <tr>\n",
       "      <th>435</th>\n",
       "      <td>909</td>\n",
       "      <td>3</td>\n",
       "      <td>1</td>\n",
       "      <td>15.6</td>\n",
       "      <td>1</td>\n",
       "      <td>8</td>\n",
       "      <td>1</td>\n",
       "      <td>2.04</td>\n",
       "      <td>1000.0</td>\n",
       "      <td>0.0</td>\n",
       "    </tr>\n",
       "    <tr>\n",
       "      <th>102</th>\n",
       "      <td>739</td>\n",
       "      <td>2</td>\n",
       "      <td>1</td>\n",
       "      <td>15.6</td>\n",
       "      <td>2</td>\n",
       "      <td>12</td>\n",
       "      <td>1</td>\n",
       "      <td>2.25</td>\n",
       "      <td>1000.0</td>\n",
       "      <td>0.0</td>\n",
       "    </tr>\n",
       "  </tbody>\n",
       "</table>\n",
       "<p>560 rows × 10 columns</p>\n",
       "</div>"
      ],
      "text/plain": [
       "     laptop_ID  Company  TypeName  Inches  ScreenResolution  Ram  OpSys  \\\n",
       "165        100        4         1    15.6                 1    6      1   \n",
       "542       1194        1         1    15.6                 1    4      4   \n",
       "284        883        7         1    15.6                 1    8      1   \n",
       "360        935        3         2    15.6                 1    8      1   \n",
       "110       1093        1         1    15.6                 2    4      1   \n",
       "..         ...      ...       ...     ...               ...  ...    ...   \n",
       "71         673        7         1    15.6                 2    4      1   \n",
       "106       1318        1         1    14.0                 2    2      1   \n",
       "270        710        1         1    15.6                 2    8      1   \n",
       "435        909        3         1    15.6                 1    8      1   \n",
       "102        739        2         1    15.6                 2   12      1   \n",
       "\n",
       "     Weight     HDD    SSD  \n",
       "165    2.00     0.0  256.0  \n",
       "542    2.32     0.0    0.0  \n",
       "284    2.00     0.0  256.0  \n",
       "360    1.84     0.0  256.0  \n",
       "110    2.10   500.0    0.0  \n",
       "..      ...     ...    ...  \n",
       "71     2.10     0.0  128.0  \n",
       "106    1.50     0.0    0.0  \n",
       "270    2.20  1000.0    0.0  \n",
       "435    2.04  1000.0    0.0  \n",
       "102    2.25  1000.0    0.0  \n",
       "\n",
       "[560 rows x 10 columns]"
      ]
     },
     "execution_count": 117,
     "metadata": {},
     "output_type": "execute_result"
    }
   ],
   "source": [
    "X_train"
   ]
  },
  {
   "cell_type": "markdown",
   "metadata": {},
   "source": [
    "### 3. Asignar el modelo (vacío) a una variable\n"
   ]
  },
  {
   "cell_type": "code",
   "execution_count": 118,
   "metadata": {},
   "outputs": [],
   "source": [
    "from sklearn.linear_model import LinearRegression  \n",
    "\n",
    "model = LinearRegression()"
   ]
  },
  {
   "cell_type": "code",
   "execution_count": 119,
   "metadata": {},
   "outputs": [
    {
     "data": {
      "text/plain": [
       "LinearRegression()"
      ]
     },
     "execution_count": 119,
     "metadata": {},
     "output_type": "execute_result"
    }
   ],
   "source": [
    "model.fit((X_train), (y_train))"
   ]
  },
  {
   "cell_type": "code",
   "execution_count": 120,
   "metadata": {},
   "outputs": [
    {
     "data": {
      "text/plain": [
       "array([1279.75771092, 1171.10835514,  827.28204976,  625.70407404,\n",
       "       1214.28898671,  358.07829627,  999.78054895,  631.6164544 ,\n",
       "       1270.25637362,  904.55747868,  330.32647336, 1496.15255426,\n",
       "       2748.92512958,  721.00285321, 1055.21703059, 1082.20093204,\n",
       "        476.63648515,  682.63672938,  515.34029826, 1034.73819837,\n",
       "        865.61535093, 1390.85692143, 1288.76499382,  641.30466122,\n",
       "       1622.77002044, 1305.84000076, 1822.69377647,  414.48044829,\n",
       "        808.01090057,  374.20801645, 1091.93870881,  556.20634105,\n",
       "        788.41131935, 1228.54078773,  677.87571766, 1263.25396292,\n",
       "       1287.73097556,  496.2049214 ,  923.01394916,  776.61147524,\n",
       "        473.33909234, 1705.02224293, 1195.04983118, 1252.97068303,\n",
       "       1966.99400304, 1032.06510024,  459.82146477, 1883.24094999,\n",
       "       1085.57236762, 1126.34891686,  968.81360556,  518.30448652,\n",
       "       1112.55309894, 1386.11250497, 1223.46993718, 1004.2965541 ,\n",
       "        554.69612643,  790.69036348, 1150.9442471 ,  634.04042645,\n",
       "        415.11748347, 1261.43377602,  419.88465194,  440.73286611,\n",
       "       1033.23141547,  422.79848957, 1471.2848227 ,  302.822813  ,\n",
       "        456.53589782, 1658.88541305,  967.124459  , 1140.82550479,\n",
       "       1193.07917981, 1604.93627826, 1256.38459085, 1166.42918978,\n",
       "        479.76539075, 1130.00922924,  564.44183608, 1319.34585988,\n",
       "        811.87282484,  984.94234175, 1683.30746667,  727.27483538,\n",
       "       1450.71740387, 1384.54840461, 1645.64717572,  963.81350024,\n",
       "       1108.73393179, 1139.17469853, 1079.4637564 ,  407.15376622,\n",
       "       1398.56666141, 1268.46887671, 1161.88010411, 1154.74373937,\n",
       "       1355.98432064,  379.49737855, 1213.5647429 ,  931.79055401,\n",
       "        589.5901272 , 1040.12788418,  821.18312063, 1779.45466645,\n",
       "        431.47071353, 1902.36003087, 1782.72732973,  589.69239327,\n",
       "       1025.06516336,  995.5820622 , 1181.8425678 , 1098.73161935,\n",
       "        836.975472  , 1976.37606809,  322.17716238, 1041.82186783,\n",
       "        828.55448354,  979.87875583,  775.72041011, 1074.7714553 ,\n",
       "        412.37385261, 1461.95929898, 1917.99947563,  374.77354961,\n",
       "       1056.90532656,  401.23066103,  755.12782169, 1218.40361112,\n",
       "       1200.33251388,  655.97182598, 1141.87726788, 1504.71030229,\n",
       "        630.65530364, 1674.17692622, 1076.72658076,  967.98533109,\n",
       "        315.37515216, 1091.37687494, 1091.56368371, 1030.82313671,\n",
       "       1067.29086692])"
      ]
     },
     "execution_count": 120,
     "metadata": {},
     "output_type": "execute_result"
    }
   ],
   "source": [
    "predict = model.predict((X_test))\n",
    "predict"
   ]
  },
  {
   "cell_type": "markdown",
   "metadata": {},
   "source": [
    "### 4. Sacar métricas, valorar el modelo \n",
    "\n",
    "Recuerda que en la competición se va a evaluar con la métrica de MAE."
   ]
  },
  {
   "cell_type": "code",
   "execution_count": 121,
   "metadata": {},
   "outputs": [
    {
     "name": "stdout",
     "output_type": "stream",
     "text": [
      "RMSE: 385.05786551207876\n"
     ]
    }
   ],
   "source": [
    "from sklearn.metrics import mean_squared_error\n",
    "import numpy as np\n",
    "\n",
    "print('RMSE:',np.sqrt(mean_squared_error(y_test, predict)))"
   ]
  },
  {
   "cell_type": "code",
   "execution_count": null,
   "metadata": {},
   "outputs": [],
   "source": []
  },
  {
   "cell_type": "markdown",
   "metadata": {},
   "source": [
    "-----------------------------------------------------------------"
   ]
  },
  {
   "cell_type": "markdown",
   "metadata": {},
   "source": [
    "## Una vez listo el modelo, toca predecir con el dataset de predicción "
   ]
  },
  {
   "cell_type": "markdown",
   "metadata": {},
   "source": [
    "Definición de **modelo que está listo**. \n",
    "\n",
    "Tras hacer suficientes pruebas, analizar los datos, hacer feature engineering, probar diferentes modelos con diferentes parámetros, es con este con el que observo mejores métricas y menos overfitting. ¡Cuidado con el overfitting aquí! Si vuestro modelo aprende muy bien de estos datos pero hay overfitting cuando le pasemos los datos desconocidos de `test.csv` nos arriesgamos a que digamos, no salga lo esperado."
   ]
  },
  {
   "cell_type": "markdown",
   "metadata": {},
   "source": [
    "### 1. Entrena dicho modelo con TODOS tus datos de train, esto es con `train.csv` al completo.\n",
    "\n",
    "\n",
    "**CON LAS TRANSFORMACIONES QUE LE HAYAS REALIZADO A `X` INCLUÍDAS.**\n",
    "\n",
    "\n",
    "Véase:\n",
    "- Estandarización/Normalización\n",
    "- Eliminación de Outliers\n",
    "- Eliminación de columnas\n",
    "- Creación de columnas nuevas\n",
    "- Gestión de valores nulos\n",
    "- Y un largo etcétera de técnicas que como Data Scientist hayas considerado las mejores para tu dataset."
   ]
  },
  {
   "cell_type": "code",
   "execution_count": 122,
   "metadata": {},
   "outputs": [],
   "source": [
    "from sklearn.linear_model import LinearRegression  \n",
    "\n",
    "model = LinearRegression()"
   ]
  },
  {
   "cell_type": "code",
   "execution_count": 123,
   "metadata": {},
   "outputs": [
    {
     "data": {
      "text/plain": [
       "LinearRegression()"
      ]
     },
     "execution_count": 123,
     "metadata": {},
     "output_type": "execute_result"
    }
   ],
   "source": [
    "model.fit((X), (y))"
   ]
  },
  {
   "cell_type": "markdown",
   "metadata": {},
   "source": [
    "### 2. Carga los datos de `test.csv` para predecir."
   ]
  },
  {
   "cell_type": "code",
   "execution_count": 210,
   "metadata": {},
   "outputs": [],
   "source": [
    "test=pd.read_csv(r\"C:\\Users\\DEEPGAMING\\Documents\\Machineleraning\\Machine_Learning\\1-Supervisado\\1-Regression\\Kaggle1\\data\\test.csv\")"
   ]
  },
  {
   "cell_type": "code",
   "execution_count": 211,
   "metadata": {},
   "outputs": [
    {
     "name": "stdout",
     "output_type": "stream",
     "text": [
      "<class 'pandas.core.frame.DataFrame'>\n",
      "RangeIndex: 391 entries, 0 to 390\n",
      "Data columns (total 12 columns):\n",
      " #   Column            Non-Null Count  Dtype  \n",
      "---  ------            --------------  -----  \n",
      " 0   laptop_ID         391 non-null    int64  \n",
      " 1   Company           391 non-null    object \n",
      " 2   Product           391 non-null    object \n",
      " 3   TypeName          391 non-null    object \n",
      " 4   Inches            391 non-null    float64\n",
      " 5   ScreenResolution  391 non-null    object \n",
      " 6   Cpu               391 non-null    object \n",
      " 7   Ram               391 non-null    object \n",
      " 8   Memory            391 non-null    object \n",
      " 9   Gpu               391 non-null    object \n",
      " 10  OpSys             391 non-null    object \n",
      " 11  Weight            391 non-null    object \n",
      "dtypes: float64(1), int64(1), object(10)\n",
      "memory usage: 36.8+ KB\n"
     ]
    }
   ],
   "source": [
    "test.info()"
   ]
  },
  {
   "cell_type": "code",
   "execution_count": 212,
   "metadata": {},
   "outputs": [
    {
     "data": {
      "text/plain": [
       "2     85\n",
       "1     82\n",
       "3     78\n",
       "4     54\n",
       "5     34\n",
       "6     19\n",
       "7     16\n",
       "9      5\n",
       "11     4\n",
       "10     4\n",
       "17     3\n",
       "15     2\n",
       "19     2\n",
       "12     1\n",
       "18     1\n",
       "14     1\n",
       "Name: Company, dtype: int64"
      ]
     },
     "execution_count": 212,
     "metadata": {},
     "output_type": "execute_result"
    }
   ],
   "source": [
    "company_dict = {'Lenovo':1, 'Dell':2, 'HP':3, 'Asus':4, 'Acer':5, 'MSI':6, 'Toshiba':7,'Xiaomi':8,'Apple':9,'Samsung':10,'Razer':11,'Fujitsu':12,'Microsoft':13,'LG':14,'Mediacom':15,'Google':16,'Vero':17,'Huawei':18,'Chuwi':19}\n",
    "test['Company'] = test['Company'].replace(company_dict)\n",
    "test['Company']=test['Company'].astype('int64')\n",
    "test['Company'].value_counts()"
   ]
  },
  {
   "cell_type": "code",
   "execution_count": 213,
   "metadata": {},
   "outputs": [
    {
     "data": {
      "text/plain": [
       "1    212\n",
       "3     71\n",
       "2     55\n",
       "4     38\n",
       "5      9\n",
       "6      6\n",
       "Name: TypeName, dtype: int64"
      ]
     },
     "execution_count": 213,
     "metadata": {},
     "output_type": "execute_result"
    }
   ],
   "source": [
    "TypeName_dict = {'Notebook':1, 'Ultrabook':2, 'Gaming':3, '2 in 1 Convertible':4,'Workstation':5,'Netbook':6}\n",
    "test['TypeName'] = test['TypeName'].replace(TypeName_dict)\n",
    "test['TypeName']=test['TypeName'].astype('int64')\n",
    "test['TypeName'].value_counts()"
   ]
  },
  {
   "cell_type": "code",
   "execution_count": 214,
   "metadata": {},
   "outputs": [
    {
     "data": {
      "text/plain": [
       "15.6    211\n",
       "17.3     54\n",
       "13.3     48\n",
       "14.0     46\n",
       "11.6     11\n",
       "12.5     10\n",
       "10.1      2\n",
       "13.9      2\n",
       "12.3      2\n",
       "15.0      2\n",
       "15.4      1\n",
       "11.3      1\n",
       "13.0      1\n",
       "Name: Inches, dtype: int64"
      ]
     },
     "execution_count": 214,
     "metadata": {},
     "output_type": "execute_result"
    }
   ],
   "source": [
    "\n",
    "test['Inches'].value_counts()"
   ]
  },
  {
   "cell_type": "code",
   "execution_count": 215,
   "metadata": {},
   "outputs": [
    {
     "data": {
      "text/plain": [
       "Full HD 1920x1080                                162\n",
       "IPS Panel Full HD 1920x1080                       72\n",
       "1366x768                                          69\n",
       "IPS Panel Full HD / Touchscreen 1920x1080         21\n",
       "Full HD / Touchscreen 1920x1080                   11\n",
       "1600x900                                           7\n",
       "Touchscreen 1366x768                               7\n",
       "4K Ultra HD / Touchscreen 3840x2160                5\n",
       "IPS Panel Retina Display 2560x1600                 4\n",
       "Quad HD+ / Touchscreen 3200x1800                   3\n",
       "IPS Panel 1366x768                                 3\n",
       "IPS Panel 4K Ultra HD 3840x2160                    2\n",
       "4K Ultra HD 3840x2160                              2\n",
       "IPS Panel Touchscreen 1920x1200                    2\n",
       "Touchscreen 2560x1440                              2\n",
       "IPS Panel Quad HD+ / Touchscreen 3200x1800         2\n",
       "IPS Panel Full HD 1366x768                         1\n",
       "2560x1440                                          1\n",
       "IPS Panel Touchscreen 2560x1440                    1\n",
       "IPS Panel Retina Display 2736x1824                 1\n",
       "1920x1080                                          1\n",
       "IPS Panel 2560x1440                                1\n",
       "Touchscreen / Full HD 1920x1080                    1\n",
       "IPS Panel Full HD 2160x1440                        1\n",
       "Quad HD+ 3200x1800                                 1\n",
       "IPS Panel 4K Ultra HD / Touchscreen 3840x2160      1\n",
       "IPS Panel Touchscreen 2400x1600                    1\n",
       "IPS Panel Full HD 1920x1200                        1\n",
       "IPS Panel Quad HD+ 3200x1800                       1\n",
       "IPS Panel Retina Display 2880x1800                 1\n",
       "IPS Panel Touchscreen 1366x768                     1\n",
       "IPS Panel Quad HD+ 2560x1440                       1\n",
       "Touchscreen / 4K Ultra HD 3840x2160                1\n",
       "Name: ScreenResolution, dtype: int64"
      ]
     },
     "execution_count": 215,
     "metadata": {},
     "output_type": "execute_result"
    }
   ],
   "source": [
    "test['ScreenResolution'].value_counts()"
   ]
  },
  {
   "cell_type": "code",
   "execution_count": 216,
   "metadata": {},
   "outputs": [
    {
     "data": {
      "text/plain": [
       "1920x1080    268\n",
       "1366x768      81\n",
       "3840x2160     11\n",
       "3200x1800      7\n",
       "1600x900       7\n",
       "2560x1440      6\n",
       "2560x1600      4\n",
       "1920x1200      3\n",
       "2880x1800      1\n",
       "2400x1600      1\n",
       "2160x1440      1\n",
       "2736x1824      1\n",
       "Name: ScreenResolution, dtype: int64"
      ]
     },
     "execution_count": 216,
     "metadata": {},
     "output_type": "execute_result"
    }
   ],
   "source": [
    "test['ScreenResolution']=test['ScreenResolution'].str[-10:]\n",
    "test['ScreenResolution']= test['ScreenResolution'].str.replace('n','')\n",
    "test['ScreenResolution']= test['ScreenResolution'].str.replace('l','')\n",
    "test['ScreenResolution']= test['ScreenResolution'].str.replace('D','')\n",
    "test['ScreenResolution']= test['ScreenResolution'].str.replace(' ','')\n",
    "\n",
    "test['ScreenResolution'].value_counts()"
   ]
  },
  {
   "cell_type": "code",
   "execution_count": 217,
   "metadata": {},
   "outputs": [
    {
     "data": {
      "text/plain": [
       "1     268\n",
       "2      81\n",
       "3      11\n",
       "4       7\n",
       "12      7\n",
       "5       6\n",
       "6       4\n",
       "7       3\n",
       "8       1\n",
       "9       1\n",
       "10      1\n",
       "11      1\n",
       "Name: ScreenResolution, dtype: int64"
      ]
     },
     "execution_count": 217,
     "metadata": {},
     "output_type": "execute_result"
    }
   ],
   "source": [
    "Screen_dict = {'1920x1080':1, '1366x768':2,'3840x2160':3, '3200x1800':4, '2560x1440':5,'2560x1600':6 ,'1920x1200':7,'2880x1800':8,'2400x1600':9,'2160x1440':10,'2736x1824':11,'1600x900':12}\n",
    "test['ScreenResolution'] = test['ScreenResolution'].replace(Screen_dict)\n",
    "test['ScreenResolution'].value_counts()"
   ]
  },
  {
   "cell_type": "code",
   "execution_count": 204,
   "metadata": {},
   "outputs": [
    {
     "data": {
      "text/plain": [
       "1     268\n",
       "2      81\n",
       "3      11\n",
       "4       7\n",
       "12      7\n",
       "5       6\n",
       "6       4\n",
       "7       3\n",
       "8       1\n",
       "9       1\n",
       "10      1\n",
       "11      1\n",
       "Name: ScreenResolution, dtype: int64"
      ]
     },
     "execution_count": 204,
     "metadata": {},
     "output_type": "execute_result"
    }
   ],
   "source": [
    "test[\"ScreenResolution\"].astype('float64')\n",
    "test[\"ScreenResolution\"].value_counts()"
   ]
  },
  {
   "cell_type": "code",
   "execution_count": 218,
   "metadata": {},
   "outputs": [],
   "source": [
    "for index, row in test.iterrows():\n",
    "    # Comprobar si la descripción del disco duro contiene \"SSD\"\n",
    "    if \"SSD\" in row[\"Memory\"]:\n",
    "        test.loc[index, \"SSD\"] = row[\"Memory\"]\n",
    "    # Comprobar si la descripción del disco duro contiene \"HDD\"\n",
    "    if \"HDD\" in row[\"Memory\"]:\n",
    "        test.loc[index, \"HDD\"] = row[\"Memory\"]"
   ]
  },
  {
   "cell_type": "code",
   "execution_count": 219,
   "metadata": {},
   "outputs": [
    {
     "name": "stderr",
     "output_type": "stream",
     "text": [
      "C:\\Users\\DEEPGAMING\\AppData\\Roaming\\Python\\Python37\\site-packages\\ipykernel_launcher.py:2: FutureWarning: The default value of regex will change from True to False in a future version. In addition, single character regular expressions will *not* be treated as literal strings when regex=True.\n",
      "  \n"
     ]
    },
    {
     "data": {
      "text/plain": [
       "0      256\n",
       "1        0\n",
       "2        0\n",
       "3        0\n",
       "4        0\n",
       "      ... \n",
       "386    256\n",
       "387    256\n",
       "388    256\n",
       "389      0\n",
       "390    240\n",
       "Name: SSD, Length: 391, dtype: object"
      ]
     },
     "execution_count": 219,
     "metadata": {},
     "output_type": "execute_result"
    }
   ],
   "source": [
    "test['SSD']=test['SSD'].str[:5]\n",
    "test['SSD']=test['SSD'].str.replace('+','')\n",
    "test['SSD']=test['SSD'].str.replace('GB','')\n",
    "test['SSD']=test['SSD'].str.replace('S','')\n",
    "test['SSD']=test['SSD'].str.replace('TB','000')\n",
    "#test['SSD']=test['SSD'].str.replace(' ','')\n",
    "test['SSD']=test['SSD'].fillna(0)\n",
    "test['SSD']"
   ]
  },
  {
   "cell_type": "code",
   "execution_count": 220,
   "metadata": {},
   "outputs": [
    {
     "data": {
      "text/plain": [
       "0      256.0\n",
       "1        0.0\n",
       "2        0.0\n",
       "3        0.0\n",
       "4        0.0\n",
       "       ...  \n",
       "386    256.0\n",
       "387    256.0\n",
       "388    256.0\n",
       "389      0.0\n",
       "390    240.0\n",
       "Name: SSD, Length: 391, dtype: float64"
      ]
     },
     "execution_count": 220,
     "metadata": {},
     "output_type": "execute_result"
    }
   ],
   "source": [
    "test['SSD']=test['SSD'].astype(\"float64\")\n",
    "test['SSD']"
   ]
  },
  {
   "cell_type": "code",
   "execution_count": 221,
   "metadata": {},
   "outputs": [
    {
     "name": "stderr",
     "output_type": "stream",
     "text": [
      "C:\\Users\\DEEPGAMING\\AppData\\Roaming\\Python\\Python37\\site-packages\\ipykernel_launcher.py:4: FutureWarning: The default value of regex will change from True to False in a future version. In addition, single character regular expressions will *not* be treated as literal strings when regex=True.\n",
      "  after removing the cwd from sys.path.\n"
     ]
    },
    {
     "data": {
      "text/plain": [
       "0         0\n",
       "1        32\n",
       "2         0\n",
       "3      1000\n",
       "4         0\n",
       "       ... \n",
       "386    1000\n",
       "387       0\n",
       "388       0\n",
       "389    1000\n",
       "390       0\n",
       "Name: HDD, Length: 391, dtype: object"
      ]
     },
     "execution_count": 221,
     "metadata": {},
     "output_type": "execute_result"
    }
   ],
   "source": [
    "test['HDD']=test['HDD'].str[-10:]\n",
    "test['HDD']=test['HDD'].str.replace('GB','')\n",
    "test['HDD']=test['HDD'].str.replace('TB','000')\n",
    "test['HDD']=test['HDD'].str.replace('+','')\n",
    "test['HDD']=test['HDD'].str.replace(' ','')\n",
    "test['HDD']=test['HDD'].str.replace('HDD','')\n",
    "test['HDD']=test['HDD'].fillna(0)\n",
    "test['HDD']\n"
   ]
  },
  {
   "cell_type": "code",
   "execution_count": 222,
   "metadata": {},
   "outputs": [],
   "source": [
    "test['HDD']=test['HDD'].astype(\"float64\")"
   ]
  },
  {
   "cell_type": "code",
   "execution_count": 223,
   "metadata": {},
   "outputs": [
    {
     "data": {
      "text/plain": [
       "8     189\n",
       "4     102\n",
       "16     62\n",
       "6      14\n",
       "2       8\n",
       "12      8\n",
       "32      5\n",
       "24      2\n",
       "64      1\n",
       "Name: Ram, dtype: int64"
      ]
     },
     "execution_count": 223,
     "metadata": {},
     "output_type": "execute_result"
    }
   ],
   "source": [
    "test[\"Ram\"]=test['Ram'].str.replace('GB','')\n",
    "test[\"Ram\"]=test[\"Ram\"].astype(\"int64\")\n",
    "test[\"Ram\"].value_counts()"
   ]
  },
  {
   "cell_type": "code",
   "execution_count": null,
   "metadata": {},
   "outputs": [
    {
     "data": {
      "text/plain": [
       "Windows 10      321\n",
       "Linux            22\n",
       "No OS            19\n",
       "Windows 7        14\n",
       "Chrome OS         8\n",
       "macOS             5\n",
       "Android           1\n",
       "Windows 10 S      1\n",
       "Name: OpSys, dtype: int64"
      ]
     },
     "execution_count": 187,
     "metadata": {},
     "output_type": "execute_result"
    }
   ],
   "source": [
    "test['OpSys'].value_counts()"
   ]
  },
  {
   "cell_type": "code",
   "execution_count": 224,
   "metadata": {},
   "outputs": [
    {
     "data": {
      "text/plain": [
       "1    321\n",
       "3     22\n",
       "2     19\n",
       "4     14\n",
       "5      8\n",
       "7      5\n",
       "8      1\n",
       "6      1\n",
       "Name: OpSys, dtype: int64"
      ]
     },
     "execution_count": 224,
     "metadata": {},
     "output_type": "execute_result"
    }
   ],
   "source": [
    "\n",
    "OpSys_dict = {'Windows 10':1, 'No OS':2, 'Linux':3, 'Windows 7':4,'Chrome OS':5,'Windows 10 S':6,'macOS':7,'Android':8}\n",
    "test['OpSys'] = test['OpSys'].replace(OpSys_dict)\n",
    "test['OpSys']=test['OpSys'].astype('int64')\n",
    "test['OpSys'].value_counts()"
   ]
  },
  {
   "cell_type": "code",
   "execution_count": 225,
   "metadata": {},
   "outputs": [
    {
     "data": {
      "text/plain": [
       "2.20    34\n",
       "2.40    18\n",
       "2.10    17\n",
       "2.30    16\n",
       "2.00    14\n",
       "        ..\n",
       "2.15     1\n",
       "1.85     1\n",
       "1.35     1\n",
       "1.44     1\n",
       "1.39     1\n",
       "Name: Weight, Length: 116, dtype: int64"
      ]
     },
     "execution_count": 225,
     "metadata": {},
     "output_type": "execute_result"
    }
   ],
   "source": [
    "test[\"Weight\"]=test['Weight'].str.replace('kg','')\n",
    "test[\"Weight\"]=test[\"Weight\"].astype(\"float64\")\n",
    "test[\"Weight\"].value_counts()  "
   ]
  },
  {
   "cell_type": "code",
   "execution_count": 226,
   "metadata": {},
   "outputs": [],
   "source": [
    "test = test.drop(['Product','Cpu','Memory',\"Gpu\"],axis=1 )"
   ]
  },
  {
   "cell_type": "code",
   "execution_count": 227,
   "metadata": {},
   "outputs": [
    {
     "name": "stdout",
     "output_type": "stream",
     "text": [
      "<class 'pandas.core.frame.DataFrame'>\n",
      "RangeIndex: 391 entries, 0 to 390\n",
      "Data columns (total 10 columns):\n",
      " #   Column            Non-Null Count  Dtype  \n",
      "---  ------            --------------  -----  \n",
      " 0   laptop_ID         391 non-null    int64  \n",
      " 1   Company           391 non-null    int64  \n",
      " 2   TypeName          391 non-null    int64  \n",
      " 3   Inches            391 non-null    float64\n",
      " 4   ScreenResolution  391 non-null    int64  \n",
      " 5   Ram               391 non-null    int64  \n",
      " 6   OpSys             391 non-null    int64  \n",
      " 7   Weight            391 non-null    float64\n",
      " 8   SSD               391 non-null    float64\n",
      " 9   HDD               391 non-null    float64\n",
      "dtypes: float64(4), int64(6)\n",
      "memory usage: 30.7 KB\n"
     ]
    }
   ],
   "source": [
    "test.info()"
   ]
  },
  {
   "cell_type": "code",
   "execution_count": 228,
   "metadata": {},
   "outputs": [
    {
     "data": {
      "text/html": [
       "<div>\n",
       "<style scoped>\n",
       "    .dataframe tbody tr th:only-of-type {\n",
       "        vertical-align: middle;\n",
       "    }\n",
       "\n",
       "    .dataframe tbody tr th {\n",
       "        vertical-align: top;\n",
       "    }\n",
       "\n",
       "    .dataframe thead th {\n",
       "        text-align: right;\n",
       "    }\n",
       "</style>\n",
       "<table border=\"1\" class=\"dataframe\">\n",
       "  <thead>\n",
       "    <tr style=\"text-align: right;\">\n",
       "      <th></th>\n",
       "      <th>laptop_ID</th>\n",
       "      <th>Company</th>\n",
       "      <th>TypeName</th>\n",
       "      <th>Inches</th>\n",
       "      <th>ScreenResolution</th>\n",
       "      <th>Ram</th>\n",
       "      <th>OpSys</th>\n",
       "      <th>Weight</th>\n",
       "      <th>SSD</th>\n",
       "      <th>HDD</th>\n",
       "    </tr>\n",
       "  </thead>\n",
       "  <tbody>\n",
       "    <tr>\n",
       "      <th>0</th>\n",
       "      <td>750</td>\n",
       "      <td>7</td>\n",
       "      <td>1</td>\n",
       "      <td>14.0</td>\n",
       "      <td>1</td>\n",
       "      <td>8</td>\n",
       "      <td>1</td>\n",
       "      <td>1.25</td>\n",
       "      <td>256.0</td>\n",
       "      <td>0.0</td>\n",
       "    </tr>\n",
       "    <tr>\n",
       "      <th>1</th>\n",
       "      <td>726</td>\n",
       "      <td>15</td>\n",
       "      <td>1</td>\n",
       "      <td>14.0</td>\n",
       "      <td>7</td>\n",
       "      <td>4</td>\n",
       "      <td>1</td>\n",
       "      <td>1.40</td>\n",
       "      <td>0.0</td>\n",
       "      <td>32.0</td>\n",
       "    </tr>\n",
       "    <tr>\n",
       "      <th>2</th>\n",
       "      <td>633</td>\n",
       "      <td>15</td>\n",
       "      <td>1</td>\n",
       "      <td>14.0</td>\n",
       "      <td>1</td>\n",
       "      <td>2</td>\n",
       "      <td>1</td>\n",
       "      <td>1.40</td>\n",
       "      <td>0.0</td>\n",
       "      <td>0.0</td>\n",
       "    </tr>\n",
       "    <tr>\n",
       "      <th>3</th>\n",
       "      <td>363</td>\n",
       "      <td>2</td>\n",
       "      <td>3</td>\n",
       "      <td>15.6</td>\n",
       "      <td>1</td>\n",
       "      <td>8</td>\n",
       "      <td>1</td>\n",
       "      <td>2.65</td>\n",
       "      <td>0.0</td>\n",
       "      <td>1000.0</td>\n",
       "    </tr>\n",
       "    <tr>\n",
       "      <th>4</th>\n",
       "      <td>319</td>\n",
       "      <td>4</td>\n",
       "      <td>4</td>\n",
       "      <td>11.6</td>\n",
       "      <td>2</td>\n",
       "      <td>2</td>\n",
       "      <td>1</td>\n",
       "      <td>1.10</td>\n",
       "      <td>0.0</td>\n",
       "      <td>0.0</td>\n",
       "    </tr>\n",
       "  </tbody>\n",
       "</table>\n",
       "</div>"
      ],
      "text/plain": [
       "   laptop_ID  Company  TypeName  Inches  ScreenResolution  Ram  OpSys  Weight  \\\n",
       "0        750        7         1    14.0                 1    8      1    1.25   \n",
       "1        726       15         1    14.0                 7    4      1    1.40   \n",
       "2        633       15         1    14.0                 1    2      1    1.40   \n",
       "3        363        2         3    15.6                 1    8      1    2.65   \n",
       "4        319        4         4    11.6                 2    2      1    1.10   \n",
       "\n",
       "     SSD     HDD  \n",
       "0  256.0     0.0  \n",
       "1    0.0    32.0  \n",
       "2    0.0     0.0  \n",
       "3    0.0  1000.0  \n",
       "4    0.0     0.0  "
      ]
     },
     "execution_count": 228,
     "metadata": {},
     "output_type": "execute_result"
    }
   ],
   "source": [
    "X_pred = test\n",
    "X_pred.head()"
   ]
  },
  {
   "cell_type": "code",
   "execution_count": 229,
   "metadata": {},
   "outputs": [
    {
     "name": "stdout",
     "output_type": "stream",
     "text": [
      "<class 'pandas.core.frame.DataFrame'>\n",
      "RangeIndex: 391 entries, 0 to 390\n",
      "Data columns (total 10 columns):\n",
      " #   Column            Non-Null Count  Dtype  \n",
      "---  ------            --------------  -----  \n",
      " 0   laptop_ID         391 non-null    int64  \n",
      " 1   Company           391 non-null    int64  \n",
      " 2   TypeName          391 non-null    int64  \n",
      " 3   Inches            391 non-null    float64\n",
      " 4   ScreenResolution  391 non-null    int64  \n",
      " 5   Ram               391 non-null    int64  \n",
      " 6   OpSys             391 non-null    int64  \n",
      " 7   Weight            391 non-null    float64\n",
      " 8   SSD               391 non-null    float64\n",
      " 9   HDD               391 non-null    float64\n",
      "dtypes: float64(4), int64(6)\n",
      "memory usage: 30.7 KB\n"
     ]
    }
   ],
   "source": [
    "X_pred.info()"
   ]
  },
  {
   "cell_type": "code",
   "execution_count": 230,
   "metadata": {},
   "outputs": [
    {
     "data": {
      "text/plain": [
       "(391, 10)"
      ]
     },
     "execution_count": 230,
     "metadata": {},
     "output_type": "execute_result"
    }
   ],
   "source": [
    "X_pred.shape"
   ]
  },
  {
   "cell_type": "markdown",
   "metadata": {},
   "source": [
    "**¿Por qué da error?** "
   ]
  },
  {
   "cell_type": "code",
   "execution_count": 231,
   "metadata": {},
   "outputs": [
    {
     "name": "stderr",
     "output_type": "stream",
     "text": [
      "c:\\Users\\DEEPGAMING\\AppData\\Local\\Programs\\Python\\Python37\\lib\\site-packages\\sklearn\\base.py:493: FutureWarning: The feature names should match those that were passed during fit. Starting version 1.2, an error will be raised.\n",
      "Feature names must be in the same order as they were in fit.\n",
      "\n",
      "  warnings.warn(message, FutureWarning)\n"
     ]
    },
    {
     "data": {
      "text/plain": [
       "array([  971.88813803,  -106.56257992,   881.33731969,  1920.04698899,\n",
       "         627.91652898,   498.40982313,  1374.70750952,  2500.98264868,\n",
       "        1413.87387301,  1975.03972293,   699.88275849,   813.41906011,\n",
       "        1964.90052784,   533.4633915 ,   494.835858  ,   826.71886438,\n",
       "         824.6503909 ,  1768.36647362,  1608.27212218,  1776.83288426,\n",
       "         889.12044711,  1711.08537492,   992.74942232,   721.71296579,\n",
       "         423.86496776,    83.04103739,  1598.44598345,  2575.81616511,\n",
       "        1534.33669827,  1936.9119335 ,  1645.04813362,  1777.34829649,\n",
       "         766.28346007,  1961.44735951,  1165.75630991,   946.4980789 ,\n",
       "        1752.2442415 ,  1056.65134844,  2596.63163073,  1548.95330883,\n",
       "        2620.52407619,  1814.14702529,   349.30382386,    59.64908674,\n",
       "         744.1409115 ,  2578.87301585,  1909.98254349,  2398.38893387,\n",
       "         871.36073443,  1562.5795979 ,  1172.09258796,  1474.3624249 ,\n",
       "        1704.77082515,   883.40924586,   275.03042606,   651.36155168,\n",
       "        1852.90413525,   878.40846503,   949.36563878,  1043.87079358,\n",
       "         596.29889458,  1152.22269949,  1052.00629922,   998.44677421,\n",
       "         747.24865228,  1898.88874977,  2155.21921603,  2362.2798076 ,\n",
       "        1737.60688141,  1131.9302674 ,   391.38662666,    66.38718746,\n",
       "        3481.95982099,  1270.57798115,  1683.35574589,  1681.04764784,\n",
       "         503.66050661,    58.72103485,  2545.50339885,  2161.58002838,\n",
       "         967.0544083 ,  2843.56155096,   812.35117726,  2638.91086204,\n",
       "        1922.57244176,  1817.48694645,  1082.02110327,  1212.80032576,\n",
       "         936.01163463,  1672.37365614,   371.84888494,  1868.37189596,\n",
       "         887.31461248,   991.25403126,  1162.38357875,  1129.82670635,\n",
       "         881.49970086,   815.22259697,  1362.05412084,  1333.29666308,\n",
       "        1915.37347727,  1743.88151274,   717.85854776,  1370.10879794,\n",
       "        2408.44071591,  1317.40406336,  1132.48794218,  1294.41188775,\n",
       "         914.24642804,   953.32814102,   939.14236285,  -138.38573194,\n",
       "         920.84710922,  2333.6924458 ,   981.98755426,   107.52669235,\n",
       "         946.79754857,  3025.59718131,  1080.2357409 ,  1042.4931851 ,\n",
       "        1768.729146  ,   955.39871112,  2672.01913265,  1132.95032439,\n",
       "        1575.94473734,   905.82260102,  1489.96493827,  -323.32618712,\n",
       "         650.92449515,   852.35089012,  1508.64982652,  1667.21548965,\n",
       "        1828.43780421,   957.76492452,  -169.37085792,  1478.80074367,\n",
       "        1287.70043754,  2497.68528066,  1731.65522212,   812.31926338,\n",
       "         850.19886915,  2144.37893318,   536.09292057,  2528.04398596,\n",
       "        1536.08236342,  1049.74251569,  2482.85448199,  1800.49933781,\n",
       "        1791.09715644,   879.59951676,  1219.8611837 ,  2115.46070655,\n",
       "         515.90172393,   285.2061534 ,  1277.56451672,   719.99376651,\n",
       "         943.18869336,  1701.62520479,  1190.19581983,  2013.02768378,\n",
       "        2216.15458651,  2117.53695621,  1650.84837746,  1431.45694465,\n",
       "         828.64711936,  2581.2596675 ,   739.35269732,   886.50958299,\n",
       "        1023.28215424,   792.93132254,   810.4353068 ,  1576.17517945,\n",
       "        1640.37213883,  1473.83731963,  2394.50041759,   927.35642327,\n",
       "        1894.79680016,   414.95658485,  1118.174394  ,   902.2386341 ,\n",
       "        2484.23328897,  2308.88013732,   868.5887253 ,   829.45513916,\n",
       "        2140.66615724,   784.77332612,   809.26660263, -1629.58550772,\n",
       "         800.77894174,  1422.3357249 ,   840.00711809,  1592.90343174,\n",
       "        1176.54289917,  1420.85554428,   921.08951644,  2525.60667792,\n",
       "          61.45686986,  1505.19879488,  1661.67266654,  1917.76461809,\n",
       "        1088.79826072,   758.18744976,   820.37744898,  1967.59655932,\n",
       "        1621.73709398,  1134.73696378,  1402.89846331,   838.57575203,\n",
       "        1999.00790756,   277.93522345,  1097.65025427,  1354.17322937,\n",
       "        1401.79273491,   879.4836697 ,  2032.84442792,   444.63678496,\n",
       "        1832.02438174,  2004.1795966 ,   530.08693413,   954.04096738,\n",
       "        1346.77286452,  1763.97431665,   828.65150446,   884.26790125,\n",
       "         631.14036535,  1466.74267772,  1017.77729427,  1228.61256842,\n",
       "        1006.1292791 ,  1112.41407305,  -565.32368133,  1386.75719758,\n",
       "         634.27453395,  2085.53046889,   834.75801666,   581.03252902,\n",
       "        1821.20025621,  1660.81259956,   602.31085686,   583.63745608,\n",
       "         974.37773513,  1074.95486403,  -390.6807859 ,  2054.37474645,\n",
       "        1777.44317238,   913.75407191,  -602.55884036,   486.31459492,\n",
       "         951.36384488,  1123.33205656,  1846.92971903,  2976.45154953,\n",
       "         919.10970945,   787.27767251,   932.98078821,   920.35784632,\n",
       "        1018.41815604,  1129.07437856,   729.38055295,  2054.8665132 ,\n",
       "         629.61680621,   627.10792455,  1058.11636974,  1560.45893106,\n",
       "        1275.85592913,  1022.63218153,   869.12740272,  1096.0652635 ,\n",
       "        1972.52166901,  1763.30509994,   876.8059213 ,   729.25176695,\n",
       "         826.85758229,  1397.36637296,  2627.46219715,  1633.76073824,\n",
       "        2473.7625572 ,  1139.81133164,  1653.99990358,  2706.29186922,\n",
       "         956.0212149 ,   370.03453337,  4331.95962801,  -521.3349203 ,\n",
       "        1828.33732665,   858.69066422,   786.63144116,  1939.44293688,\n",
       "       -1049.09678705,   444.40849799,  2429.68287479,  1325.22019556,\n",
       "        1892.22966596,   746.95269217,  1472.13478944,  1762.66844242,\n",
       "         959.79338659,  1660.54089391,   865.53651379,   696.28162372,\n",
       "         895.86229548,   313.61785949,  1456.1893798 ,  2094.20028621,\n",
       "         849.32490781,  2514.15564965,  1278.08633977,   676.63663527,\n",
       "        2577.94040241,  2369.03223978,  1035.8131036 ,   890.64346169,\n",
       "        1261.98979159,  1548.90437507,  2161.89466869,   912.51415215,\n",
       "        2577.39228355,  1876.17243367,  1025.99420363,  1062.50562158,\n",
       "         261.36551485,  1022.83863228,  3038.78381303,  -482.32932166,\n",
       "         772.28052414, -1411.19994678,   980.96267702,   751.70277232,\n",
       "        2549.03120065,   786.2524214 ,   483.16373256,   699.98659101,\n",
       "        1686.61988526,  2016.92139483,   778.7802686 ,  1045.95771709,\n",
       "        1253.81071307,  1895.65024849,   908.15236806,   939.49285644,\n",
       "         851.72102264,  2643.21458733,   874.0156899 ,  1022.88318686,\n",
       "        1578.47599433,  1661.963007  ,  1057.27444772,  1925.90931937,\n",
       "         732.94394155,  1085.72331804,   798.41387148,  2603.41308149,\n",
       "         343.1844996 ,  1052.68004709,  2392.65118167,   877.9877554 ,\n",
       "         521.60491298,  3486.01926295, -1234.32985832,  1755.1961222 ,\n",
       "        1107.30334498,   850.94679711,   941.27123322,  2365.24647843,\n",
       "         973.74060707,   996.05057333,  1374.2652605 ,   929.8993699 ,\n",
       "         308.88650047,   690.43345337,  1009.70037151,  1314.88834488,\n",
       "        1833.54874963,  2599.57254852,  1028.3778061 ,   866.78255635,\n",
       "        1127.51355732,  1000.05947403,   767.16949876,  1097.54839828,\n",
       "        1013.95149089,  1164.4832133 ,   765.69821299,  1535.48150112,\n",
       "        1267.11833683,   829.76289616,  2541.72769812,   946.05888228,\n",
       "         517.91173321,  1568.08062804,   641.76649334])"
      ]
     },
     "execution_count": 231,
     "metadata": {},
     "output_type": "execute_result"
    }
   ],
   "source": [
    "predictions_submit = model.predict(X_pred)\n",
    "predictions_submit"
   ]
  },
  {
   "cell_type": "markdown",
   "metadata": {},
   "source": [
    "IMPORTANTE: APLICAR LO MISMO A ESTOS DATOS QUE HAYÁIS APLICADO A LOS DATOS DE ENTRENAMIENTO\n",
    "\n",
    "- SI EL ARRAY CON EL QUE HICISTEIS `.fit()` ERA DE 4 COLUMNAS, PARA `.predict()` DEBEN SER LAS MISMAS\n",
    "- SI AL ARRAY CON EL QUE HICISTEIS `.fit()` LO NORMALIZASTEIS, PARA `.predict()` DEBÉIS NORMALIZARLO\n",
    "- TODO IGUAL SALVO BORRAR FILAS, EL NÚMERO DE ROWS SE DEBE MANTENER EN ESTE SET, PUES LA PREDICCIÓN DEBE TENER 391 FILAS, SI O SI"
   ]
  },
  {
   "cell_type": "markdown",
   "metadata": {},
   "source": [
    "**Entonces, si al cargar los datos de train usé `index_col=0` para que utilizara la primera columna del conjunto de datos como índice, ¿tendré que hacerlo también para el conjunto `test.csv`?**"
   ]
  },
  {
   "cell_type": "code",
   "execution_count": null,
   "metadata": {},
   "outputs": [],
   "source": [
    "# ¿Qué opináis?\n",
    "# Sí"
   ]
  },
  {
   "cell_type": "markdown",
   "metadata": {},
   "source": [
    "![](https://www.tierraljelechu.com/web/img/wiki_up/1.996-SorpresaDto.-1-Red.jpg)"
   ]
  },
  {
   "cell_type": "markdown",
   "metadata": {},
   "source": [
    "### 3. AHORA puedo hacer la predicción que será lo que subirás a Kaggle. "
   ]
  },
  {
   "cell_type": "markdown",
   "metadata": {},
   "source": [
    "**¿Qué es lo que subirás a Kaggle?**"
   ]
  },
  {
   "cell_type": "code",
   "execution_count": 232,
   "metadata": {},
   "outputs": [
    {
     "name": "stderr",
     "output_type": "stream",
     "text": [
      "c:\\Users\\DEEPGAMING\\AppData\\Local\\Programs\\Python\\Python37\\lib\\site-packages\\sklearn\\base.py:493: FutureWarning: The feature names should match those that were passed during fit. Starting version 1.2, an error will be raised.\n",
      "Feature names must be in the same order as they were in fit.\n",
      "\n",
      "  warnings.warn(message, FutureWarning)\n"
     ]
    },
    {
     "data": {
      "text/plain": [
       "array([  971.88813803,  -106.56257992,   881.33731969,  1920.04698899,\n",
       "         627.91652898,   498.40982313,  1374.70750952,  2500.98264868,\n",
       "        1413.87387301,  1975.03972293,   699.88275849,   813.41906011,\n",
       "        1964.90052784,   533.4633915 ,   494.835858  ,   826.71886438,\n",
       "         824.6503909 ,  1768.36647362,  1608.27212218,  1776.83288426,\n",
       "         889.12044711,  1711.08537492,   992.74942232,   721.71296579,\n",
       "         423.86496776,    83.04103739,  1598.44598345,  2575.81616511,\n",
       "        1534.33669827,  1936.9119335 ,  1645.04813362,  1777.34829649,\n",
       "         766.28346007,  1961.44735951,  1165.75630991,   946.4980789 ,\n",
       "        1752.2442415 ,  1056.65134844,  2596.63163073,  1548.95330883,\n",
       "        2620.52407619,  1814.14702529,   349.30382386,    59.64908674,\n",
       "         744.1409115 ,  2578.87301585,  1909.98254349,  2398.38893387,\n",
       "         871.36073443,  1562.5795979 ,  1172.09258796,  1474.3624249 ,\n",
       "        1704.77082515,   883.40924586,   275.03042606,   651.36155168,\n",
       "        1852.90413525,   878.40846503,   949.36563878,  1043.87079358,\n",
       "         596.29889458,  1152.22269949,  1052.00629922,   998.44677421,\n",
       "         747.24865228,  1898.88874977,  2155.21921603,  2362.2798076 ,\n",
       "        1737.60688141,  1131.9302674 ,   391.38662666,    66.38718746,\n",
       "        3481.95982099,  1270.57798115,  1683.35574589,  1681.04764784,\n",
       "         503.66050661,    58.72103485,  2545.50339885,  2161.58002838,\n",
       "         967.0544083 ,  2843.56155096,   812.35117726,  2638.91086204,\n",
       "        1922.57244176,  1817.48694645,  1082.02110327,  1212.80032576,\n",
       "         936.01163463,  1672.37365614,   371.84888494,  1868.37189596,\n",
       "         887.31461248,   991.25403126,  1162.38357875,  1129.82670635,\n",
       "         881.49970086,   815.22259697,  1362.05412084,  1333.29666308,\n",
       "        1915.37347727,  1743.88151274,   717.85854776,  1370.10879794,\n",
       "        2408.44071591,  1317.40406336,  1132.48794218,  1294.41188775,\n",
       "         914.24642804,   953.32814102,   939.14236285,  -138.38573194,\n",
       "         920.84710922,  2333.6924458 ,   981.98755426,   107.52669235,\n",
       "         946.79754857,  3025.59718131,  1080.2357409 ,  1042.4931851 ,\n",
       "        1768.729146  ,   955.39871112,  2672.01913265,  1132.95032439,\n",
       "        1575.94473734,   905.82260102,  1489.96493827,  -323.32618712,\n",
       "         650.92449515,   852.35089012,  1508.64982652,  1667.21548965,\n",
       "        1828.43780421,   957.76492452,  -169.37085792,  1478.80074367,\n",
       "        1287.70043754,  2497.68528066,  1731.65522212,   812.31926338,\n",
       "         850.19886915,  2144.37893318,   536.09292057,  2528.04398596,\n",
       "        1536.08236342,  1049.74251569,  2482.85448199,  1800.49933781,\n",
       "        1791.09715644,   879.59951676,  1219.8611837 ,  2115.46070655,\n",
       "         515.90172393,   285.2061534 ,  1277.56451672,   719.99376651,\n",
       "         943.18869336,  1701.62520479,  1190.19581983,  2013.02768378,\n",
       "        2216.15458651,  2117.53695621,  1650.84837746,  1431.45694465,\n",
       "         828.64711936,  2581.2596675 ,   739.35269732,   886.50958299,\n",
       "        1023.28215424,   792.93132254,   810.4353068 ,  1576.17517945,\n",
       "        1640.37213883,  1473.83731963,  2394.50041759,   927.35642327,\n",
       "        1894.79680016,   414.95658485,  1118.174394  ,   902.2386341 ,\n",
       "        2484.23328897,  2308.88013732,   868.5887253 ,   829.45513916,\n",
       "        2140.66615724,   784.77332612,   809.26660263, -1629.58550772,\n",
       "         800.77894174,  1422.3357249 ,   840.00711809,  1592.90343174,\n",
       "        1176.54289917,  1420.85554428,   921.08951644,  2525.60667792,\n",
       "          61.45686986,  1505.19879488,  1661.67266654,  1917.76461809,\n",
       "        1088.79826072,   758.18744976,   820.37744898,  1967.59655932,\n",
       "        1621.73709398,  1134.73696378,  1402.89846331,   838.57575203,\n",
       "        1999.00790756,   277.93522345,  1097.65025427,  1354.17322937,\n",
       "        1401.79273491,   879.4836697 ,  2032.84442792,   444.63678496,\n",
       "        1832.02438174,  2004.1795966 ,   530.08693413,   954.04096738,\n",
       "        1346.77286452,  1763.97431665,   828.65150446,   884.26790125,\n",
       "         631.14036535,  1466.74267772,  1017.77729427,  1228.61256842,\n",
       "        1006.1292791 ,  1112.41407305,  -565.32368133,  1386.75719758,\n",
       "         634.27453395,  2085.53046889,   834.75801666,   581.03252902,\n",
       "        1821.20025621,  1660.81259956,   602.31085686,   583.63745608,\n",
       "         974.37773513,  1074.95486403,  -390.6807859 ,  2054.37474645,\n",
       "        1777.44317238,   913.75407191,  -602.55884036,   486.31459492,\n",
       "         951.36384488,  1123.33205656,  1846.92971903,  2976.45154953,\n",
       "         919.10970945,   787.27767251,   932.98078821,   920.35784632,\n",
       "        1018.41815604,  1129.07437856,   729.38055295,  2054.8665132 ,\n",
       "         629.61680621,   627.10792455,  1058.11636974,  1560.45893106,\n",
       "        1275.85592913,  1022.63218153,   869.12740272,  1096.0652635 ,\n",
       "        1972.52166901,  1763.30509994,   876.8059213 ,   729.25176695,\n",
       "         826.85758229,  1397.36637296,  2627.46219715,  1633.76073824,\n",
       "        2473.7625572 ,  1139.81133164,  1653.99990358,  2706.29186922,\n",
       "         956.0212149 ,   370.03453337,  4331.95962801,  -521.3349203 ,\n",
       "        1828.33732665,   858.69066422,   786.63144116,  1939.44293688,\n",
       "       -1049.09678705,   444.40849799,  2429.68287479,  1325.22019556,\n",
       "        1892.22966596,   746.95269217,  1472.13478944,  1762.66844242,\n",
       "         959.79338659,  1660.54089391,   865.53651379,   696.28162372,\n",
       "         895.86229548,   313.61785949,  1456.1893798 ,  2094.20028621,\n",
       "         849.32490781,  2514.15564965,  1278.08633977,   676.63663527,\n",
       "        2577.94040241,  2369.03223978,  1035.8131036 ,   890.64346169,\n",
       "        1261.98979159,  1548.90437507,  2161.89466869,   912.51415215,\n",
       "        2577.39228355,  1876.17243367,  1025.99420363,  1062.50562158,\n",
       "         261.36551485,  1022.83863228,  3038.78381303,  -482.32932166,\n",
       "         772.28052414, -1411.19994678,   980.96267702,   751.70277232,\n",
       "        2549.03120065,   786.2524214 ,   483.16373256,   699.98659101,\n",
       "        1686.61988526,  2016.92139483,   778.7802686 ,  1045.95771709,\n",
       "        1253.81071307,  1895.65024849,   908.15236806,   939.49285644,\n",
       "         851.72102264,  2643.21458733,   874.0156899 ,  1022.88318686,\n",
       "        1578.47599433,  1661.963007  ,  1057.27444772,  1925.90931937,\n",
       "         732.94394155,  1085.72331804,   798.41387148,  2603.41308149,\n",
       "         343.1844996 ,  1052.68004709,  2392.65118167,   877.9877554 ,\n",
       "         521.60491298,  3486.01926295, -1234.32985832,  1755.1961222 ,\n",
       "        1107.30334498,   850.94679711,   941.27123322,  2365.24647843,\n",
       "         973.74060707,   996.05057333,  1374.2652605 ,   929.8993699 ,\n",
       "         308.88650047,   690.43345337,  1009.70037151,  1314.88834488,\n",
       "        1833.54874963,  2599.57254852,  1028.3778061 ,   866.78255635,\n",
       "        1127.51355732,  1000.05947403,   767.16949876,  1097.54839828,\n",
       "        1013.95149089,  1164.4832133 ,   765.69821299,  1535.48150112,\n",
       "        1267.11833683,   829.76289616,  2541.72769812,   946.05888228,\n",
       "         517.91173321,  1568.08062804,   641.76649334])"
      ]
     },
     "execution_count": 232,
     "metadata": {},
     "output_type": "execute_result"
    }
   ],
   "source": [
    "predictions_submit = model.predict(X_pred)\n",
    "predictions_submit"
   ]
  },
  {
   "cell_type": "markdown",
   "metadata": {},
   "source": [
    "**¡PERO! Para subir a Kaggle la predicción, ésta tendrá que tener una forma específica y no valdrá otra.**\n",
    "\n",
    "En este caso, la **MISMA** forma que `sample_submission.csv`. "
   ]
  },
  {
   "cell_type": "code",
   "execution_count": 233,
   "metadata": {},
   "outputs": [
    {
     "data": {
      "text/html": [
       "<div>\n",
       "<style scoped>\n",
       "    .dataframe tbody tr th:only-of-type {\n",
       "        vertical-align: middle;\n",
       "    }\n",
       "\n",
       "    .dataframe tbody tr th {\n",
       "        vertical-align: top;\n",
       "    }\n",
       "\n",
       "    .dataframe thead th {\n",
       "        text-align: right;\n",
       "    }\n",
       "</style>\n",
       "<table border=\"1\" class=\"dataframe\">\n",
       "  <thead>\n",
       "    <tr style=\"text-align: right;\">\n",
       "      <th></th>\n",
       "      <th>laptop_ID</th>\n",
       "      <th>Price_euros</th>\n",
       "    </tr>\n",
       "  </thead>\n",
       "  <tbody>\n",
       "    <tr>\n",
       "      <th>0</th>\n",
       "      <td>750</td>\n",
       "      <td>500</td>\n",
       "    </tr>\n",
       "    <tr>\n",
       "      <th>1</th>\n",
       "      <td>726</td>\n",
       "      <td>500</td>\n",
       "    </tr>\n",
       "    <tr>\n",
       "      <th>2</th>\n",
       "      <td>633</td>\n",
       "      <td>500</td>\n",
       "    </tr>\n",
       "    <tr>\n",
       "      <th>3</th>\n",
       "      <td>363</td>\n",
       "      <td>650</td>\n",
       "    </tr>\n",
       "    <tr>\n",
       "      <th>4</th>\n",
       "      <td>319</td>\n",
       "      <td>650</td>\n",
       "    </tr>\n",
       "    <tr>\n",
       "      <th>...</th>\n",
       "      <td>...</td>\n",
       "      <td>...</td>\n",
       "    </tr>\n",
       "    <tr>\n",
       "      <th>386</th>\n",
       "      <td>693</td>\n",
       "      <td>650</td>\n",
       "    </tr>\n",
       "    <tr>\n",
       "      <th>387</th>\n",
       "      <td>1132</td>\n",
       "      <td>500</td>\n",
       "    </tr>\n",
       "    <tr>\n",
       "      <th>388</th>\n",
       "      <td>49</td>\n",
       "      <td>650</td>\n",
       "    </tr>\n",
       "    <tr>\n",
       "      <th>389</th>\n",
       "      <td>1243</td>\n",
       "      <td>650</td>\n",
       "    </tr>\n",
       "    <tr>\n",
       "      <th>390</th>\n",
       "      <td>924</td>\n",
       "      <td>500</td>\n",
       "    </tr>\n",
       "  </tbody>\n",
       "</table>\n",
       "<p>391 rows × 2 columns</p>\n",
       "</div>"
      ],
      "text/plain": [
       "     laptop_ID  Price_euros\n",
       "0          750          500\n",
       "1          726          500\n",
       "2          633          500\n",
       "3          363          650\n",
       "4          319          650\n",
       "..         ...          ...\n",
       "386        693          650\n",
       "387       1132          500\n",
       "388         49          650\n",
       "389       1243          650\n",
       "390        924          500\n",
       "\n",
       "[391 rows x 2 columns]"
      ]
     },
     "execution_count": 233,
     "metadata": {},
     "output_type": "execute_result"
    }
   ],
   "source": [
    "sample = pd.read_csv(r\"C:\\Users\\DEEPGAMING\\Documents\\Machineleraning\\Machine_Learning\\1-Supervisado\\1-Regression\\Kaggle1\\data\\sample_submission.csv\")\n",
    "sample"
   ]
  },
  {
   "cell_type": "code",
   "execution_count": 234,
   "metadata": {},
   "outputs": [
    {
     "data": {
      "text/html": [
       "<div>\n",
       "<style scoped>\n",
       "    .dataframe tbody tr th:only-of-type {\n",
       "        vertical-align: middle;\n",
       "    }\n",
       "\n",
       "    .dataframe tbody tr th {\n",
       "        vertical-align: top;\n",
       "    }\n",
       "\n",
       "    .dataframe thead th {\n",
       "        text-align: right;\n",
       "    }\n",
       "</style>\n",
       "<table border=\"1\" class=\"dataframe\">\n",
       "  <thead>\n",
       "    <tr style=\"text-align: right;\">\n",
       "      <th></th>\n",
       "      <th>laptop_ID</th>\n",
       "      <th>Price_euros</th>\n",
       "    </tr>\n",
       "  </thead>\n",
       "  <tbody>\n",
       "    <tr>\n",
       "      <th>0</th>\n",
       "      <td>750</td>\n",
       "      <td>500</td>\n",
       "    </tr>\n",
       "    <tr>\n",
       "      <th>1</th>\n",
       "      <td>726</td>\n",
       "      <td>500</td>\n",
       "    </tr>\n",
       "    <tr>\n",
       "      <th>2</th>\n",
       "      <td>633</td>\n",
       "      <td>500</td>\n",
       "    </tr>\n",
       "    <tr>\n",
       "      <th>3</th>\n",
       "      <td>363</td>\n",
       "      <td>650</td>\n",
       "    </tr>\n",
       "    <tr>\n",
       "      <th>4</th>\n",
       "      <td>319</td>\n",
       "      <td>650</td>\n",
       "    </tr>\n",
       "  </tbody>\n",
       "</table>\n",
       "</div>"
      ],
      "text/plain": [
       "   laptop_ID  Price_euros\n",
       "0        750          500\n",
       "1        726          500\n",
       "2        633          500\n",
       "3        363          650\n",
       "4        319          650"
      ]
     },
     "execution_count": 234,
     "metadata": {},
     "output_type": "execute_result"
    }
   ],
   "source": [
    "sample.head()"
   ]
  },
  {
   "cell_type": "code",
   "execution_count": 235,
   "metadata": {},
   "outputs": [
    {
     "data": {
      "text/plain": [
       "(391, 2)"
      ]
     },
     "execution_count": 235,
     "metadata": {},
     "output_type": "execute_result"
    }
   ],
   "source": [
    "sample.shape"
   ]
  },
  {
   "cell_type": "markdown",
   "metadata": {},
   "source": [
    "### 4. Mete tus predicciones en un dataframe. \n",
    "\n",
    "En este caso, la **MISMA** forma que `sample_submission.csv`. "
   ]
  },
  {
   "cell_type": "code",
   "execution_count": 257,
   "metadata": {},
   "outputs": [],
   "source": [
    "submission = pd.DataFrame({\"laptop_ID\": sample['laptop_ID'], \"Price_euros\": predictions_submit})"
   ]
  },
  {
   "cell_type": "code",
   "execution_count": 258,
   "metadata": {},
   "outputs": [
    {
     "data": {
      "text/html": [
       "<div>\n",
       "<style scoped>\n",
       "    .dataframe tbody tr th:only-of-type {\n",
       "        vertical-align: middle;\n",
       "    }\n",
       "\n",
       "    .dataframe tbody tr th {\n",
       "        vertical-align: top;\n",
       "    }\n",
       "\n",
       "    .dataframe thead th {\n",
       "        text-align: right;\n",
       "    }\n",
       "</style>\n",
       "<table border=\"1\" class=\"dataframe\">\n",
       "  <thead>\n",
       "    <tr style=\"text-align: right;\">\n",
       "      <th></th>\n",
       "      <th>laptop_ID</th>\n",
       "      <th>Price_euros</th>\n",
       "    </tr>\n",
       "  </thead>\n",
       "  <tbody>\n",
       "    <tr>\n",
       "      <th>0</th>\n",
       "      <td>750</td>\n",
       "      <td>971.888138</td>\n",
       "    </tr>\n",
       "    <tr>\n",
       "      <th>1</th>\n",
       "      <td>726</td>\n",
       "      <td>-106.562580</td>\n",
       "    </tr>\n",
       "    <tr>\n",
       "      <th>2</th>\n",
       "      <td>633</td>\n",
       "      <td>881.337320</td>\n",
       "    </tr>\n",
       "    <tr>\n",
       "      <th>3</th>\n",
       "      <td>363</td>\n",
       "      <td>1920.046989</td>\n",
       "    </tr>\n",
       "    <tr>\n",
       "      <th>4</th>\n",
       "      <td>319</td>\n",
       "      <td>627.916529</td>\n",
       "    </tr>\n",
       "  </tbody>\n",
       "</table>\n",
       "</div>"
      ],
      "text/plain": [
       "   laptop_ID  Price_euros\n",
       "0        750   971.888138\n",
       "1        726  -106.562580\n",
       "2        633   881.337320\n",
       "3        363  1920.046989\n",
       "4        319   627.916529"
      ]
     },
     "execution_count": 258,
     "metadata": {},
     "output_type": "execute_result"
    }
   ],
   "source": [
    "submission.head()"
   ]
  },
  {
   "cell_type": "code",
   "execution_count": 259,
   "metadata": {},
   "outputs": [
    {
     "data": {
      "text/plain": [
       "(391, 2)"
      ]
     },
     "execution_count": 259,
     "metadata": {},
     "output_type": "execute_result"
    }
   ],
   "source": [
    "submission.shape"
   ]
  },
  {
   "cell_type": "markdown",
   "metadata": {},
   "source": [
    "### 5. Pásale el CHEQUEATOR para comprobar que efectivamente está listo para subir a Kaggle."
   ]
  },
  {
   "cell_type": "code",
   "execution_count": 260,
   "metadata": {},
   "outputs": [],
   "source": [
    "def chequeator(df_to_submit):\n",
    "    \"\"\"\n",
    "    Esta función se asegura de que tu submission tenga la forma requerida por Kaggle.\n",
    "    \n",
    "    Si es así, se guardará el dataframe en un `csv` y estará listo para subir a Kaggle.\n",
    "    \n",
    "    Si no, LEE EL MENSAJE Y HAZLE CASO.\n",
    "    \n",
    "    Si aún no:\n",
    "    - apaga tu ordenador, \n",
    "    - date una vuelta, \n",
    "    - enciendelo otra vez, \n",
    "    - abre este notebook y \n",
    "    - leelo todo de nuevo. \n",
    "    Todos nos merecemos una segunda oportunidad. También tú.\n",
    "    \"\"\"\n",
    "    if df_to_submit.shape == sample.shape:\n",
    "        if df_to_submit.columns.all() == sample.columns.all():\n",
    "            if df_to_submit.laptop_ID.all() == sample.laptop_ID.all():\n",
    "                print(\"You're ready to submit!\")\n",
    "                submission.to_csv(\"submission.csv\", index = False) #muy importante el index = False\n",
    "                urllib.request.urlretrieve(\"https://i.kym-cdn.com/photos/images/facebook/000/747/556/27a.jpg\", \"gfg.png\")     \n",
    "                img = Image.open(\"gfg.png\")\n",
    "                img.show()   \n",
    "            else:\n",
    "                print(\"Check the ids and try again\")\n",
    "        else:\n",
    "            print(\"Check the names of the columns and try again\")\n",
    "    else:\n",
    "        print(\"Check the number of rows and/or columns and try again\")\n",
    "        print(\"\\nMensaje secreto de Clara: No me puedo creer que después de todo este notebook hayas hecho algún cambio en las filas de `diamonds_test.csv`. Lloro.\")\n"
   ]
  },
  {
   "cell_type": "code",
   "execution_count": 261,
   "metadata": {},
   "outputs": [
    {
     "name": "stdout",
     "output_type": "stream",
     "text": [
      "You're ready to submit!\n"
     ]
    }
   ],
   "source": [
    "chequeator(submission)"
   ]
  },
  {
   "cell_type": "code",
   "execution_count": null,
   "metadata": {},
   "outputs": [],
   "source": []
  }
 ],
 "metadata": {
  "kernelspec": {
   "display_name": "Python 3",
   "language": "python",
   "name": "python3"
  },
  "language_info": {
   "codemirror_mode": {
    "name": "ipython",
    "version": 3
   },
   "file_extension": ".py",
   "mimetype": "text/x-python",
   "name": "python",
   "nbconvert_exporter": "python",
   "pygments_lexer": "ipython3",
   "version": "3.7.4"
  }
 },
 "nbformat": 4,
 "nbformat_minor": 4
}
