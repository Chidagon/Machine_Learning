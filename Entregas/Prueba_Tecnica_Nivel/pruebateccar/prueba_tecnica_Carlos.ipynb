{
 "cells": [
  {
   "attachments": {},
   "cell_type": "markdown",
   "metadata": {},
   "source": [
    "Estimado candidato,\n",
    "\n",
    "Estamos encantados de que estés considerando unirte a nuestro equipo de ciencia de datos. Como parte de nuestro proceso de evaluación, te pedimos que completes la siguiente prueba técnica.\n",
    "\n",
    "**Descripción de la tarea:**\n",
    "\n",
    "Se te proporciona un conjunto de datos anónimos que consta de varias columnas nombradas como 'col1', 'col2', 'col3', etc., hasta 'col20', y una columna 'target' que representa la variable objetivo. Tu tarea es realizar un análisis exploratorio de datos (EDA) y construir un modelo de aprendizaje automático para predecir la variable 'target'.\n",
    "\n",
    "**Detalles de la tarea:**\n",
    "\n",
    "1. **Análisis exploratorio de datos (EDA):** Realiza un análisis exploratorio detallado de los datos. Esto debe incluir, pero no está limitado a:\n",
    "   - Estadísticas descriptivas de las variables (mínimo, máximo, media, mediana, desviación estándar, etc.).\n",
    "   - Verificación de valores perdidos o anómalos.\n",
    "   - Análisis de correlación entre las variables.\n",
    "   - Visualizaciones para entender mejor las distribuciones y relaciones de los datos.\n",
    "\n",
    "2. **Preprocesamiento de datos:** Prepárate para realizar cualquier limpieza o transformación necesaria de los datos basándote en tu EDA.\n",
    "\n",
    "3. **Creación de un modelo de línea base (Baseline):** Entrena varios modelos de aprendizaje automático para predecir la variable 'target'. Comienza con modelos sencillos como la regresión logística y avanza hacia modelos más complejos como los árboles de decisión, random forest, SVM, XGBoost, etc.\n",
    "\n",
    "4. **Evaluación del modelo:** Evalúa el rendimiento de cada modelo utilizando métricas apropiadas. Por ejemplo, si 'target' es una variable binaria, podrías considerar la precisión, la sensibilidad, la especificidad, el AUC-ROC, etc.\n",
    "\n",
    "5. **Selección del modelo:** Selecciona el modelo que creas que funciona mejor. Justifica tu elección basándote en las métricas de evaluación y cualquier otra consideración pertinente.\n",
    "\n",
    "6. **Predicción:** Usa tu modelo seleccionado para hacer predicciones en el conjunto de datos.\n",
    "\n",
    "**Entregables:**\n",
    "\n",
    "Por favor, proporciona el código que hayas utilizado para completar esta tarea, junto con un informe detallado que explique tu enfoque y los resultados. El informe debe estar bien estructurado y ser fácil de seguir, permitiendo a los evaluadores entender tu proceso de pensamiento y las decisiones que hayas tomado.\n",
    "\n",
    "¡Buena suerte y esperamos ver tu solución!"
   ]
  },
  {
   "cell_type": "code",
   "execution_count": 6,
   "metadata": {},
   "outputs": [],
   "source": [
    "import numpy as np\n",
    "import matplotlib.pyplot as plt\n",
    "import pandas as pd\n",
    "import seaborn as sns\n",
    "import matplotlib.pyplot as plt"
   ]
  },
  {
   "cell_type": "code",
   "execution_count": 7,
   "metadata": {},
   "outputs": [],
   "source": [
    "train = pd.read_csv(r\"C:\\Users\\suert\\OneDrive\\Documentos\\GitHub\\Machine_Learning\\Entregas\\Prueba_Tecnica_Nivel\\data\\train.csv\")"
   ]
  },
  {
   "cell_type": "code",
   "execution_count": 8,
   "metadata": {},
   "outputs": [
    {
     "data": {
      "text/html": [
       "<div>\n",
       "<style scoped>\n",
       "    .dataframe tbody tr th:only-of-type {\n",
       "        vertical-align: middle;\n",
       "    }\n",
       "\n",
       "    .dataframe tbody tr th {\n",
       "        vertical-align: top;\n",
       "    }\n",
       "\n",
       "    .dataframe thead th {\n",
       "        text-align: right;\n",
       "    }\n",
       "</style>\n",
       "<table border=\"1\" class=\"dataframe\">\n",
       "  <thead>\n",
       "    <tr style=\"text-align: right;\">\n",
       "      <th></th>\n",
       "      <th>ID</th>\n",
       "      <th>col1</th>\n",
       "      <th>col2</th>\n",
       "      <th>col3</th>\n",
       "      <th>col4</th>\n",
       "      <th>col5</th>\n",
       "      <th>col6</th>\n",
       "      <th>col7</th>\n",
       "      <th>col8</th>\n",
       "      <th>col9</th>\n",
       "      <th>...</th>\n",
       "      <th>col12</th>\n",
       "      <th>col13</th>\n",
       "      <th>col14</th>\n",
       "      <th>col15</th>\n",
       "      <th>col16</th>\n",
       "      <th>col17</th>\n",
       "      <th>col18</th>\n",
       "      <th>col19</th>\n",
       "      <th>col20</th>\n",
       "      <th>target</th>\n",
       "    </tr>\n",
       "  </thead>\n",
       "  <tbody>\n",
       "    <tr>\n",
       "      <th>0</th>\n",
       "      <td>4995</td>\n",
       "      <td>0.02</td>\n",
       "      <td>26.80</td>\n",
       "      <td>0.09</td>\n",
       "      <td>1.35</td>\n",
       "      <td>0.060</td>\n",
       "      <td>0.09</td>\n",
       "      <td>0.09</td>\n",
       "      <td>1.97</td>\n",
       "      <td>1.48</td>\n",
       "      <td>...</td>\n",
       "      <td>0.031</td>\n",
       "      <td>9.52</td>\n",
       "      <td>0.84</td>\n",
       "      <td>0.001</td>\n",
       "      <td>1.24</td>\n",
       "      <td>0.96</td>\n",
       "      <td>0.09</td>\n",
       "      <td>0.08</td>\n",
       "      <td>0.08</td>\n",
       "      <td>0</td>\n",
       "    </tr>\n",
       "    <tr>\n",
       "      <th>1</th>\n",
       "      <td>1709</td>\n",
       "      <td>1.13</td>\n",
       "      <td>3.95</td>\n",
       "      <td>0.32</td>\n",
       "      <td>3.95</td>\n",
       "      <td>0.030</td>\n",
       "      <td>4.66</td>\n",
       "      <td>0.56</td>\n",
       "      <td>1.89</td>\n",
       "      <td>1.36</td>\n",
       "      <td>...</td>\n",
       "      <td>0.170</td>\n",
       "      <td>13.83</td>\n",
       "      <td>1.15</td>\n",
       "      <td>0.006</td>\n",
       "      <td>10.55</td>\n",
       "      <td>3.76</td>\n",
       "      <td>0.02</td>\n",
       "      <td>0.45</td>\n",
       "      <td>0.06</td>\n",
       "      <td>0</td>\n",
       "    </tr>\n",
       "    <tr>\n",
       "      <th>2</th>\n",
       "      <td>7825</td>\n",
       "      <td>0.07</td>\n",
       "      <td>8.05</td>\n",
       "      <td>0.04</td>\n",
       "      <td>0.14</td>\n",
       "      <td>0.040</td>\n",
       "      <td>0.06</td>\n",
       "      <td>0.06</td>\n",
       "      <td>0.05</td>\n",
       "      <td>0.00</td>\n",
       "      <td>...</td>\n",
       "      <td>0.120</td>\n",
       "      <td>2.61</td>\n",
       "      <td>1.52</td>\n",
       "      <td>0.008</td>\n",
       "      <td>4.13</td>\n",
       "      <td>0.27</td>\n",
       "      <td>0.03</td>\n",
       "      <td>0.03</td>\n",
       "      <td>0.01</td>\n",
       "      <td>0</td>\n",
       "    </tr>\n",
       "    <tr>\n",
       "      <th>3</th>\n",
       "      <td>6918</td>\n",
       "      <td>0.09</td>\n",
       "      <td>26.40</td>\n",
       "      <td>0.03</td>\n",
       "      <td>0.92</td>\n",
       "      <td>0.090</td>\n",
       "      <td>0.57</td>\n",
       "      <td>0.00</td>\n",
       "      <td>0.36</td>\n",
       "      <td>0.03</td>\n",
       "      <td>...</td>\n",
       "      <td>0.055</td>\n",
       "      <td>5.22</td>\n",
       "      <td>1.96</td>\n",
       "      <td>0.000</td>\n",
       "      <td>11.32</td>\n",
       "      <td>0.25</td>\n",
       "      <td>0.09</td>\n",
       "      <td>0.01</td>\n",
       "      <td>0.05</td>\n",
       "      <td>0</td>\n",
       "    </tr>\n",
       "    <tr>\n",
       "      <th>4</th>\n",
       "      <td>5</td>\n",
       "      <td>0.94</td>\n",
       "      <td>14.47</td>\n",
       "      <td>0.03</td>\n",
       "      <td>2.88</td>\n",
       "      <td>0.003</td>\n",
       "      <td>0.80</td>\n",
       "      <td>0.43</td>\n",
       "      <td>1.38</td>\n",
       "      <td>0.11</td>\n",
       "      <td>...</td>\n",
       "      <td>0.135</td>\n",
       "      <td>9.75</td>\n",
       "      <td>1.89</td>\n",
       "      <td>0.006</td>\n",
       "      <td>27.17</td>\n",
       "      <td>5.42</td>\n",
       "      <td>0.08</td>\n",
       "      <td>0.19</td>\n",
       "      <td>0.02</td>\n",
       "      <td>1</td>\n",
       "    </tr>\n",
       "  </tbody>\n",
       "</table>\n",
       "<p>5 rows × 22 columns</p>\n",
       "</div>"
      ],
      "text/plain": [
       "     ID  col1   col2  col3  col4   col5  col6  col7  col8  col9  ...  col12   \n",
       "0  4995  0.02  26.80  0.09  1.35  0.060  0.09  0.09  1.97  1.48  ...  0.031  \\\n",
       "1  1709  1.13   3.95  0.32  3.95  0.030  4.66  0.56  1.89  1.36  ...  0.170   \n",
       "2  7825  0.07   8.05  0.04  0.14  0.040  0.06  0.06  0.05  0.00  ...  0.120   \n",
       "3  6918  0.09  26.40  0.03  0.92  0.090  0.57  0.00  0.36  0.03  ...  0.055   \n",
       "4     5  0.94  14.47  0.03  2.88  0.003  0.80  0.43  1.38  0.11  ...  0.135   \n",
       "\n",
       "   col13  col14  col15  col16  col17  col18  col19  col20  target  \n",
       "0   9.52   0.84  0.001   1.24   0.96   0.09   0.08   0.08       0  \n",
       "1  13.83   1.15  0.006  10.55   3.76   0.02   0.45   0.06       0  \n",
       "2   2.61   1.52  0.008   4.13   0.27   0.03   0.03   0.01       0  \n",
       "3   5.22   1.96  0.000  11.32   0.25   0.09   0.01   0.05       0  \n",
       "4   9.75   1.89  0.006  27.17   5.42   0.08   0.19   0.02       1  \n",
       "\n",
       "[5 rows x 22 columns]"
      ]
     },
     "execution_count": 8,
     "metadata": {},
     "output_type": "execute_result"
    }
   ],
   "source": [
    "train.head()"
   ]
  },
  {
   "attachments": {},
   "cell_type": "markdown",
   "metadata": {},
   "source": [
    "Comprobamos si hay valores perdidos y vemos que no hay"
   ]
  },
  {
   "cell_type": "code",
   "execution_count": 9,
   "metadata": {},
   "outputs": [
    {
     "name": "stdout",
     "output_type": "stream",
     "text": [
      "<class 'pandas.core.frame.DataFrame'>\n",
      "RangeIndex: 5597 entries, 0 to 5596\n",
      "Data columns (total 22 columns):\n",
      " #   Column  Non-Null Count  Dtype  \n",
      "---  ------  --------------  -----  \n",
      " 0   ID      5597 non-null   int64  \n",
      " 1   col1    5597 non-null   float64\n",
      " 2   col2    5597 non-null   float64\n",
      " 3   col3    5597 non-null   float64\n",
      " 4   col4    5597 non-null   float64\n",
      " 5   col5    5597 non-null   float64\n",
      " 6   col6    5597 non-null   float64\n",
      " 7   col7    5597 non-null   float64\n",
      " 8   col8    5597 non-null   float64\n",
      " 9   col9    5597 non-null   float64\n",
      " 10  col10   5597 non-null   float64\n",
      " 11  col11   5597 non-null   float64\n",
      " 12  col12   5597 non-null   float64\n",
      " 13  col13   5597 non-null   float64\n",
      " 14  col14   5597 non-null   float64\n",
      " 15  col15   5597 non-null   float64\n",
      " 16  col16   5597 non-null   float64\n",
      " 17  col17   5597 non-null   float64\n",
      " 18  col18   5597 non-null   float64\n",
      " 19  col19   5597 non-null   float64\n",
      " 20  col20   5597 non-null   float64\n",
      " 21  target  5597 non-null   int64  \n",
      "dtypes: float64(20), int64(2)\n",
      "memory usage: 962.1 KB\n"
     ]
    }
   ],
   "source": [
    "train.info()"
   ]
  },
  {
   "attachments": {},
   "cell_type": "markdown",
   "metadata": {},
   "source": [
    "Vemos las estadisticas descripitivas de todo el Dataframe"
   ]
  },
  {
   "cell_type": "code",
   "execution_count": 10,
   "metadata": {},
   "outputs": [
    {
     "data": {
      "text/html": [
       "<div>\n",
       "<style scoped>\n",
       "    .dataframe tbody tr th:only-of-type {\n",
       "        vertical-align: middle;\n",
       "    }\n",
       "\n",
       "    .dataframe tbody tr th {\n",
       "        vertical-align: top;\n",
       "    }\n",
       "\n",
       "    .dataframe thead th {\n",
       "        text-align: right;\n",
       "    }\n",
       "</style>\n",
       "<table border=\"1\" class=\"dataframe\">\n",
       "  <thead>\n",
       "    <tr style=\"text-align: right;\">\n",
       "      <th></th>\n",
       "      <th>ID</th>\n",
       "      <th>col1</th>\n",
       "      <th>col2</th>\n",
       "      <th>col3</th>\n",
       "      <th>col4</th>\n",
       "      <th>col5</th>\n",
       "      <th>col6</th>\n",
       "      <th>col7</th>\n",
       "      <th>col8</th>\n",
       "      <th>col9</th>\n",
       "      <th>...</th>\n",
       "      <th>col12</th>\n",
       "      <th>col13</th>\n",
       "      <th>col14</th>\n",
       "      <th>col15</th>\n",
       "      <th>col16</th>\n",
       "      <th>col17</th>\n",
       "      <th>col18</th>\n",
       "      <th>col19</th>\n",
       "      <th>col20</th>\n",
       "      <th>target</th>\n",
       "    </tr>\n",
       "  </thead>\n",
       "  <tbody>\n",
       "    <tr>\n",
       "      <th>count</th>\n",
       "      <td>5597.000000</td>\n",
       "      <td>5597.000000</td>\n",
       "      <td>5597.000000</td>\n",
       "      <td>5597.000000</td>\n",
       "      <td>5597.000000</td>\n",
       "      <td>5597.000000</td>\n",
       "      <td>5597.000000</td>\n",
       "      <td>5597.000000</td>\n",
       "      <td>5597.000000</td>\n",
       "      <td>5597.000000</td>\n",
       "      <td>...</td>\n",
       "      <td>5597.000000</td>\n",
       "      <td>5597.000000</td>\n",
       "      <td>5597.000000</td>\n",
       "      <td>5597.000000</td>\n",
       "      <td>5597.000000</td>\n",
       "      <td>5597.000000</td>\n",
       "      <td>5597.000000</td>\n",
       "      <td>5597.000000</td>\n",
       "      <td>5597.000000</td>\n",
       "      <td>5597.000000</td>\n",
       "    </tr>\n",
       "    <tr>\n",
       "      <th>mean</th>\n",
       "      <td>3962.909952</td>\n",
       "      <td>0.674797</td>\n",
       "      <td>14.438840</td>\n",
       "      <td>0.163603</td>\n",
       "      <td>1.579702</td>\n",
       "      <td>0.042747</td>\n",
       "      <td>2.213093</td>\n",
       "      <td>0.250890</td>\n",
       "      <td>0.807654</td>\n",
       "      <td>0.766057</td>\n",
       "      <td>...</td>\n",
       "      <td>0.100050</td>\n",
       "      <td>9.819267</td>\n",
       "      <td>1.331880</td>\n",
       "      <td>0.005194</td>\n",
       "      <td>16.621249</td>\n",
       "      <td>2.931896</td>\n",
       "      <td>0.049602</td>\n",
       "      <td>0.149855</td>\n",
       "      <td>0.044999</td>\n",
       "      <td>0.114347</td>\n",
       "    </tr>\n",
       "    <tr>\n",
       "      <th>std</th>\n",
       "      <td>2311.129964</td>\n",
       "      <td>1.273677</td>\n",
       "      <td>8.851097</td>\n",
       "      <td>0.254659</td>\n",
       "      <td>1.221220</td>\n",
       "      <td>0.036072</td>\n",
       "      <td>2.581244</td>\n",
       "      <td>0.272472</td>\n",
       "      <td>0.652471</td>\n",
       "      <td>0.436435</td>\n",
       "      <td>...</td>\n",
       "      <td>0.057997</td>\n",
       "      <td>5.581795</td>\n",
       "      <td>0.568734</td>\n",
       "      <td>0.002960</td>\n",
       "      <td>17.729833</td>\n",
       "      <td>2.327347</td>\n",
       "      <td>0.028827</td>\n",
       "      <td>0.144170</td>\n",
       "      <td>0.026929</td>\n",
       "      <td>0.318261</td>\n",
       "    </tr>\n",
       "    <tr>\n",
       "      <th>min</th>\n",
       "      <td>0.000000</td>\n",
       "      <td>0.000000</td>\n",
       "      <td>-0.080000</td>\n",
       "      <td>0.000000</td>\n",
       "      <td>0.000000</td>\n",
       "      <td>0.000000</td>\n",
       "      <td>0.000000</td>\n",
       "      <td>0.000000</td>\n",
       "      <td>0.000000</td>\n",
       "      <td>0.000000</td>\n",
       "      <td>...</td>\n",
       "      <td>0.001000</td>\n",
       "      <td>0.010000</td>\n",
       "      <td>0.000000</td>\n",
       "      <td>0.000000</td>\n",
       "      <td>0.000000</td>\n",
       "      <td>0.000000</td>\n",
       "      <td>0.000000</td>\n",
       "      <td>0.000000</td>\n",
       "      <td>0.000000</td>\n",
       "      <td>0.000000</td>\n",
       "    </tr>\n",
       "    <tr>\n",
       "      <th>25%</th>\n",
       "      <td>1963.000000</td>\n",
       "      <td>0.040000</td>\n",
       "      <td>6.850000</td>\n",
       "      <td>0.030000</td>\n",
       "      <td>0.550000</td>\n",
       "      <td>0.008000</td>\n",
       "      <td>0.100000</td>\n",
       "      <td>0.050000</td>\n",
       "      <td>0.090000</td>\n",
       "      <td>0.400000</td>\n",
       "      <td>...</td>\n",
       "      <td>0.049000</td>\n",
       "      <td>4.940000</td>\n",
       "      <td>1.010000</td>\n",
       "      <td>0.003000</td>\n",
       "      <td>2.220000</td>\n",
       "      <td>0.820000</td>\n",
       "      <td>0.020000</td>\n",
       "      <td>0.040000</td>\n",
       "      <td>0.020000</td>\n",
       "      <td>0.000000</td>\n",
       "    </tr>\n",
       "    <tr>\n",
       "      <th>50%</th>\n",
       "      <td>3922.000000</td>\n",
       "      <td>0.070000</td>\n",
       "      <td>14.390000</td>\n",
       "      <td>0.050000</td>\n",
       "      <td>1.210000</td>\n",
       "      <td>0.040000</td>\n",
       "      <td>0.550000</td>\n",
       "      <td>0.090000</td>\n",
       "      <td>0.750000</td>\n",
       "      <td>0.760000</td>\n",
       "      <td>...</td>\n",
       "      <td>0.103000</td>\n",
       "      <td>9.860000</td>\n",
       "      <td>1.420000</td>\n",
       "      <td>0.005000</td>\n",
       "      <td>7.840000</td>\n",
       "      <td>2.430000</td>\n",
       "      <td>0.050000</td>\n",
       "      <td>0.080000</td>\n",
       "      <td>0.050000</td>\n",
       "      <td>0.000000</td>\n",
       "    </tr>\n",
       "    <tr>\n",
       "      <th>75%</th>\n",
       "      <td>5960.000000</td>\n",
       "      <td>0.290000</td>\n",
       "      <td>22.260000</td>\n",
       "      <td>0.100000</td>\n",
       "      <td>2.510000</td>\n",
       "      <td>0.070000</td>\n",
       "      <td>4.330000</td>\n",
       "      <td>0.450000</td>\n",
       "      <td>1.390000</td>\n",
       "      <td>1.160000</td>\n",
       "      <td>...</td>\n",
       "      <td>0.151000</td>\n",
       "      <td>14.690000</td>\n",
       "      <td>1.760000</td>\n",
       "      <td>0.008000</td>\n",
       "      <td>29.980000</td>\n",
       "      <td>4.670000</td>\n",
       "      <td>0.070000</td>\n",
       "      <td>0.250000</td>\n",
       "      <td>0.070000</td>\n",
       "      <td>0.000000</td>\n",
       "    </tr>\n",
       "    <tr>\n",
       "      <th>max</th>\n",
       "      <td>7993.000000</td>\n",
       "      <td>5.050000</td>\n",
       "      <td>29.840000</td>\n",
       "      <td>1.050000</td>\n",
       "      <td>4.940000</td>\n",
       "      <td>0.130000</td>\n",
       "      <td>8.660000</td>\n",
       "      <td>0.900000</td>\n",
       "      <td>2.000000</td>\n",
       "      <td>1.500000</td>\n",
       "      <td>...</td>\n",
       "      <td>0.200000</td>\n",
       "      <td>19.820000</td>\n",
       "      <td>2.890000</td>\n",
       "      <td>0.010000</td>\n",
       "      <td>60.010000</td>\n",
       "      <td>7.990000</td>\n",
       "      <td>0.100000</td>\n",
       "      <td>0.500000</td>\n",
       "      <td>0.090000</td>\n",
       "      <td>1.000000</td>\n",
       "    </tr>\n",
       "  </tbody>\n",
       "</table>\n",
       "<p>8 rows × 22 columns</p>\n",
       "</div>"
      ],
      "text/plain": [
       "                ID         col1         col2         col3         col4   \n",
       "count  5597.000000  5597.000000  5597.000000  5597.000000  5597.000000  \\\n",
       "mean   3962.909952     0.674797    14.438840     0.163603     1.579702   \n",
       "std    2311.129964     1.273677     8.851097     0.254659     1.221220   \n",
       "min       0.000000     0.000000    -0.080000     0.000000     0.000000   \n",
       "25%    1963.000000     0.040000     6.850000     0.030000     0.550000   \n",
       "50%    3922.000000     0.070000    14.390000     0.050000     1.210000   \n",
       "75%    5960.000000     0.290000    22.260000     0.100000     2.510000   \n",
       "max    7993.000000     5.050000    29.840000     1.050000     4.940000   \n",
       "\n",
       "              col5         col6         col7         col8         col9  ...   \n",
       "count  5597.000000  5597.000000  5597.000000  5597.000000  5597.000000  ...  \\\n",
       "mean      0.042747     2.213093     0.250890     0.807654     0.766057  ...   \n",
       "std       0.036072     2.581244     0.272472     0.652471     0.436435  ...   \n",
       "min       0.000000     0.000000     0.000000     0.000000     0.000000  ...   \n",
       "25%       0.008000     0.100000     0.050000     0.090000     0.400000  ...   \n",
       "50%       0.040000     0.550000     0.090000     0.750000     0.760000  ...   \n",
       "75%       0.070000     4.330000     0.450000     1.390000     1.160000  ...   \n",
       "max       0.130000     8.660000     0.900000     2.000000     1.500000  ...   \n",
       "\n",
       "             col12        col13        col14        col15        col16   \n",
       "count  5597.000000  5597.000000  5597.000000  5597.000000  5597.000000  \\\n",
       "mean      0.100050     9.819267     1.331880     0.005194    16.621249   \n",
       "std       0.057997     5.581795     0.568734     0.002960    17.729833   \n",
       "min       0.001000     0.010000     0.000000     0.000000     0.000000   \n",
       "25%       0.049000     4.940000     1.010000     0.003000     2.220000   \n",
       "50%       0.103000     9.860000     1.420000     0.005000     7.840000   \n",
       "75%       0.151000    14.690000     1.760000     0.008000    29.980000   \n",
       "max       0.200000    19.820000     2.890000     0.010000    60.010000   \n",
       "\n",
       "             col17        col18        col19        col20       target  \n",
       "count  5597.000000  5597.000000  5597.000000  5597.000000  5597.000000  \n",
       "mean      2.931896     0.049602     0.149855     0.044999     0.114347  \n",
       "std       2.327347     0.028827     0.144170     0.026929     0.318261  \n",
       "min       0.000000     0.000000     0.000000     0.000000     0.000000  \n",
       "25%       0.820000     0.020000     0.040000     0.020000     0.000000  \n",
       "50%       2.430000     0.050000     0.080000     0.050000     0.000000  \n",
       "75%       4.670000     0.070000     0.250000     0.070000     0.000000  \n",
       "max       7.990000     0.100000     0.500000     0.090000     1.000000  \n",
       "\n",
       "[8 rows x 22 columns]"
      ]
     },
     "execution_count": 10,
     "metadata": {},
     "output_type": "execute_result"
    }
   ],
   "source": [
    "train.describe()"
   ]
  },
  {
   "attachments": {},
   "cell_type": "markdown",
   "metadata": {},
   "source": [
    "Vemos la correlación entre las mismas"
   ]
  },
  {
   "cell_type": "code",
   "execution_count": 11,
   "metadata": {},
   "outputs": [
    {
     "data": {
      "text/html": [
       "<div>\n",
       "<style scoped>\n",
       "    .dataframe tbody tr th:only-of-type {\n",
       "        vertical-align: middle;\n",
       "    }\n",
       "\n",
       "    .dataframe tbody tr th {\n",
       "        vertical-align: top;\n",
       "    }\n",
       "\n",
       "    .dataframe thead th {\n",
       "        text-align: right;\n",
       "    }\n",
       "</style>\n",
       "<table border=\"1\" class=\"dataframe\">\n",
       "  <thead>\n",
       "    <tr style=\"text-align: right;\">\n",
       "      <th></th>\n",
       "      <th>ID</th>\n",
       "      <th>col1</th>\n",
       "      <th>col2</th>\n",
       "      <th>col3</th>\n",
       "      <th>col4</th>\n",
       "      <th>col5</th>\n",
       "      <th>col6</th>\n",
       "      <th>col7</th>\n",
       "      <th>col8</th>\n",
       "      <th>col9</th>\n",
       "      <th>...</th>\n",
       "      <th>col12</th>\n",
       "      <th>col13</th>\n",
       "      <th>col14</th>\n",
       "      <th>col15</th>\n",
       "      <th>col16</th>\n",
       "      <th>col17</th>\n",
       "      <th>col18</th>\n",
       "      <th>col19</th>\n",
       "      <th>col20</th>\n",
       "      <th>target</th>\n",
       "    </tr>\n",
       "  </thead>\n",
       "  <tbody>\n",
       "    <tr>\n",
       "      <th>ID</th>\n",
       "      <td>1.000000</td>\n",
       "      <td>-0.622316</td>\n",
       "      <td>-0.182153</td>\n",
       "      <td>-0.272298</td>\n",
       "      <td>-0.495355</td>\n",
       "      <td>0.269412</td>\n",
       "      <td>-0.670282</td>\n",
       "      <td>-0.625041</td>\n",
       "      <td>-0.129477</td>\n",
       "      <td>-0.009559</td>\n",
       "      <td>...</td>\n",
       "      <td>0.022009</td>\n",
       "      <td>0.000314</td>\n",
       "      <td>-0.186106</td>\n",
       "      <td>0.011536</td>\n",
       "      <td>-0.635645</td>\n",
       "      <td>-0.386412</td>\n",
       "      <td>-0.002904</td>\n",
       "      <td>-0.590629</td>\n",
       "      <td>-0.007583</td>\n",
       "      <td>-0.416405</td>\n",
       "    </tr>\n",
       "    <tr>\n",
       "      <th>col1</th>\n",
       "      <td>-0.622316</td>\n",
       "      <td>1.000000</td>\n",
       "      <td>0.068536</td>\n",
       "      <td>0.209239</td>\n",
       "      <td>0.296823</td>\n",
       "      <td>-0.110139</td>\n",
       "      <td>0.366900</td>\n",
       "      <td>0.340983</td>\n",
       "      <td>0.169893</td>\n",
       "      <td>-0.001603</td>\n",
       "      <td>...</td>\n",
       "      <td>0.020401</td>\n",
       "      <td>-0.006932</td>\n",
       "      <td>0.232193</td>\n",
       "      <td>-0.012520</td>\n",
       "      <td>0.345596</td>\n",
       "      <td>0.244387</td>\n",
       "      <td>0.000861</td>\n",
       "      <td>0.327539</td>\n",
       "      <td>0.025411</td>\n",
       "      <td>0.358168</td>\n",
       "    </tr>\n",
       "    <tr>\n",
       "      <th>col2</th>\n",
       "      <td>-0.182153</td>\n",
       "      <td>0.068536</td>\n",
       "      <td>1.000000</td>\n",
       "      <td>0.055166</td>\n",
       "      <td>0.082996</td>\n",
       "      <td>-0.001662</td>\n",
       "      <td>0.110731</td>\n",
       "      <td>0.121478</td>\n",
       "      <td>0.022057</td>\n",
       "      <td>-0.018710</td>\n",
       "      <td>...</td>\n",
       "      <td>-0.048791</td>\n",
       "      <td>0.008791</td>\n",
       "      <td>-0.058001</td>\n",
       "      <td>0.008801</td>\n",
       "      <td>0.096208</td>\n",
       "      <td>0.049775</td>\n",
       "      <td>0.029816</td>\n",
       "      <td>0.078308</td>\n",
       "      <td>0.024384</td>\n",
       "      <td>-0.017318</td>\n",
       "    </tr>\n",
       "    <tr>\n",
       "      <th>col3</th>\n",
       "      <td>-0.272298</td>\n",
       "      <td>0.209239</td>\n",
       "      <td>0.055166</td>\n",
       "      <td>1.000000</td>\n",
       "      <td>0.360306</td>\n",
       "      <td>0.343399</td>\n",
       "      <td>0.355561</td>\n",
       "      <td>0.310508</td>\n",
       "      <td>-0.033510</td>\n",
       "      <td>0.004984</td>\n",
       "      <td>...</td>\n",
       "      <td>-0.092149</td>\n",
       "      <td>0.028841</td>\n",
       "      <td>0.301948</td>\n",
       "      <td>-0.016883</td>\n",
       "      <td>0.328398</td>\n",
       "      <td>0.227257</td>\n",
       "      <td>-0.008053</td>\n",
       "      <td>0.303467</td>\n",
       "      <td>0.002591</td>\n",
       "      <td>-0.132675</td>\n",
       "    </tr>\n",
       "    <tr>\n",
       "      <th>col4</th>\n",
       "      <td>-0.495355</td>\n",
       "      <td>0.296823</td>\n",
       "      <td>0.082996</td>\n",
       "      <td>0.360306</td>\n",
       "      <td>1.000000</td>\n",
       "      <td>-0.037666</td>\n",
       "      <td>0.445365</td>\n",
       "      <td>0.416649</td>\n",
       "      <td>0.078317</td>\n",
       "      <td>-0.023541</td>\n",
       "      <td>...</td>\n",
       "      <td>-0.055882</td>\n",
       "      <td>-0.005803</td>\n",
       "      <td>0.317054</td>\n",
       "      <td>-0.006503</td>\n",
       "      <td>0.471041</td>\n",
       "      <td>0.294568</td>\n",
       "      <td>0.033050</td>\n",
       "      <td>0.435385</td>\n",
       "      <td>0.001960</td>\n",
       "      <td>0.104875</td>\n",
       "    </tr>\n",
       "    <tr>\n",
       "      <th>col5</th>\n",
       "      <td>0.269412</td>\n",
       "      <td>-0.110139</td>\n",
       "      <td>-0.001662</td>\n",
       "      <td>0.343399</td>\n",
       "      <td>-0.037666</td>\n",
       "      <td>1.000000</td>\n",
       "      <td>-0.138517</td>\n",
       "      <td>-0.152531</td>\n",
       "      <td>-0.120050</td>\n",
       "      <td>0.001908</td>\n",
       "      <td>...</td>\n",
       "      <td>-0.046023</td>\n",
       "      <td>0.019647</td>\n",
       "      <td>-0.014961</td>\n",
       "      <td>-0.011347</td>\n",
       "      <td>-0.141748</td>\n",
       "      <td>-0.093256</td>\n",
       "      <td>0.003784</td>\n",
       "      <td>-0.153398</td>\n",
       "      <td>-0.005593</td>\n",
       "      <td>-0.271454</td>\n",
       "    </tr>\n",
       "    <tr>\n",
       "      <th>col6</th>\n",
       "      <td>-0.670282</td>\n",
       "      <td>0.366900</td>\n",
       "      <td>0.110731</td>\n",
       "      <td>0.355561</td>\n",
       "      <td>0.445365</td>\n",
       "      <td>-0.138517</td>\n",
       "      <td>1.000000</td>\n",
       "      <td>0.551453</td>\n",
       "      <td>0.129136</td>\n",
       "      <td>0.012978</td>\n",
       "      <td>...</td>\n",
       "      <td>-0.034044</td>\n",
       "      <td>0.003866</td>\n",
       "      <td>0.384610</td>\n",
       "      <td>-0.027252</td>\n",
       "      <td>0.590410</td>\n",
       "      <td>0.385324</td>\n",
       "      <td>0.006608</td>\n",
       "      <td>0.518238</td>\n",
       "      <td>-0.006657</td>\n",
       "      <td>0.198555</td>\n",
       "    </tr>\n",
       "    <tr>\n",
       "      <th>col7</th>\n",
       "      <td>-0.625041</td>\n",
       "      <td>0.340983</td>\n",
       "      <td>0.121478</td>\n",
       "      <td>0.310508</td>\n",
       "      <td>0.416649</td>\n",
       "      <td>-0.152531</td>\n",
       "      <td>0.551453</td>\n",
       "      <td>1.000000</td>\n",
       "      <td>0.121669</td>\n",
       "      <td>-0.001397</td>\n",
       "      <td>...</td>\n",
       "      <td>-0.058285</td>\n",
       "      <td>-0.015734</td>\n",
       "      <td>0.340895</td>\n",
       "      <td>-0.040220</td>\n",
       "      <td>0.516192</td>\n",
       "      <td>0.311134</td>\n",
       "      <td>0.029873</td>\n",
       "      <td>0.513997</td>\n",
       "      <td>-0.004092</td>\n",
       "      <td>0.174420</td>\n",
       "    </tr>\n",
       "    <tr>\n",
       "      <th>col8</th>\n",
       "      <td>-0.129477</td>\n",
       "      <td>0.169893</td>\n",
       "      <td>0.022057</td>\n",
       "      <td>-0.033510</td>\n",
       "      <td>0.078317</td>\n",
       "      <td>-0.120050</td>\n",
       "      <td>0.129136</td>\n",
       "      <td>0.121669</td>\n",
       "      <td>1.000000</td>\n",
       "      <td>0.013048</td>\n",
       "      <td>...</td>\n",
       "      <td>0.120507</td>\n",
       "      <td>-0.006042</td>\n",
       "      <td>0.168918</td>\n",
       "      <td>0.015245</td>\n",
       "      <td>0.109354</td>\n",
       "      <td>0.039575</td>\n",
       "      <td>0.008354</td>\n",
       "      <td>0.092649</td>\n",
       "      <td>0.012929</td>\n",
       "      <td>0.031497</td>\n",
       "    </tr>\n",
       "    <tr>\n",
       "      <th>col9</th>\n",
       "      <td>-0.009559</td>\n",
       "      <td>-0.001603</td>\n",
       "      <td>-0.018710</td>\n",
       "      <td>0.004984</td>\n",
       "      <td>-0.023541</td>\n",
       "      <td>0.001908</td>\n",
       "      <td>0.012978</td>\n",
       "      <td>-0.001397</td>\n",
       "      <td>0.013048</td>\n",
       "      <td>1.000000</td>\n",
       "      <td>...</td>\n",
       "      <td>0.030067</td>\n",
       "      <td>-0.002626</td>\n",
       "      <td>-0.021988</td>\n",
       "      <td>0.002967</td>\n",
       "      <td>-0.017018</td>\n",
       "      <td>0.006563</td>\n",
       "      <td>0.025123</td>\n",
       "      <td>0.013472</td>\n",
       "      <td>0.006963</td>\n",
       "      <td>0.003556</td>\n",
       "    </tr>\n",
       "    <tr>\n",
       "      <th>col10</th>\n",
       "      <td>-0.015632</td>\n",
       "      <td>-0.067864</td>\n",
       "      <td>0.062191</td>\n",
       "      <td>0.029915</td>\n",
       "      <td>0.096494</td>\n",
       "      <td>-0.102955</td>\n",
       "      <td>0.148296</td>\n",
       "      <td>0.142238</td>\n",
       "      <td>0.146040</td>\n",
       "      <td>0.010122</td>\n",
       "      <td>...</td>\n",
       "      <td>-0.023395</td>\n",
       "      <td>-0.035384</td>\n",
       "      <td>0.256457</td>\n",
       "      <td>-0.011409</td>\n",
       "      <td>0.142987</td>\n",
       "      <td>0.095851</td>\n",
       "      <td>-0.014576</td>\n",
       "      <td>0.147694</td>\n",
       "      <td>0.048650</td>\n",
       "      <td>-0.014044</td>\n",
       "    </tr>\n",
       "    <tr>\n",
       "      <th>col11</th>\n",
       "      <td>-0.025061</td>\n",
       "      <td>-0.065127</td>\n",
       "      <td>0.102278</td>\n",
       "      <td>0.005056</td>\n",
       "      <td>-0.009518</td>\n",
       "      <td>0.017308</td>\n",
       "      <td>0.004406</td>\n",
       "      <td>0.003811</td>\n",
       "      <td>0.000896</td>\n",
       "      <td>0.012020</td>\n",
       "      <td>...</td>\n",
       "      <td>0.027644</td>\n",
       "      <td>-0.044710</td>\n",
       "      <td>-0.088667</td>\n",
       "      <td>0.014547</td>\n",
       "      <td>-0.001591</td>\n",
       "      <td>-0.023772</td>\n",
       "      <td>-0.036378</td>\n",
       "      <td>0.008567</td>\n",
       "      <td>0.063486</td>\n",
       "      <td>-0.086419</td>\n",
       "    </tr>\n",
       "    <tr>\n",
       "      <th>col12</th>\n",
       "      <td>0.022009</td>\n",
       "      <td>0.020401</td>\n",
       "      <td>-0.048791</td>\n",
       "      <td>-0.092149</td>\n",
       "      <td>-0.055882</td>\n",
       "      <td>-0.046023</td>\n",
       "      <td>-0.034044</td>\n",
       "      <td>-0.058285</td>\n",
       "      <td>0.120507</td>\n",
       "      <td>0.030067</td>\n",
       "      <td>...</td>\n",
       "      <td>1.000000</td>\n",
       "      <td>0.025702</td>\n",
       "      <td>-0.046964</td>\n",
       "      <td>-0.007591</td>\n",
       "      <td>-0.028387</td>\n",
       "      <td>-0.049815</td>\n",
       "      <td>0.040271</td>\n",
       "      <td>-0.056991</td>\n",
       "      <td>-0.005333</td>\n",
       "      <td>-0.001483</td>\n",
       "    </tr>\n",
       "    <tr>\n",
       "      <th>col13</th>\n",
       "      <td>0.000314</td>\n",
       "      <td>-0.006932</td>\n",
       "      <td>0.008791</td>\n",
       "      <td>0.028841</td>\n",
       "      <td>-0.005803</td>\n",
       "      <td>0.019647</td>\n",
       "      <td>0.003866</td>\n",
       "      <td>-0.015734</td>\n",
       "      <td>-0.006042</td>\n",
       "      <td>-0.002626</td>\n",
       "      <td>...</td>\n",
       "      <td>0.025702</td>\n",
       "      <td>1.000000</td>\n",
       "      <td>0.010128</td>\n",
       "      <td>-0.029357</td>\n",
       "      <td>-0.004422</td>\n",
       "      <td>-0.014877</td>\n",
       "      <td>0.038597</td>\n",
       "      <td>0.005057</td>\n",
       "      <td>0.003584</td>\n",
       "      <td>-0.062230</td>\n",
       "    </tr>\n",
       "    <tr>\n",
       "      <th>col14</th>\n",
       "      <td>-0.186106</td>\n",
       "      <td>0.232193</td>\n",
       "      <td>-0.058001</td>\n",
       "      <td>0.301948</td>\n",
       "      <td>0.317054</td>\n",
       "      <td>-0.014961</td>\n",
       "      <td>0.384610</td>\n",
       "      <td>0.340895</td>\n",
       "      <td>0.168918</td>\n",
       "      <td>-0.021988</td>\n",
       "      <td>...</td>\n",
       "      <td>-0.046964</td>\n",
       "      <td>0.010128</td>\n",
       "      <td>1.000000</td>\n",
       "      <td>-0.012951</td>\n",
       "      <td>0.349062</td>\n",
       "      <td>0.276917</td>\n",
       "      <td>0.003366</td>\n",
       "      <td>0.342973</td>\n",
       "      <td>-0.013593</td>\n",
       "      <td>0.054494</td>\n",
       "    </tr>\n",
       "    <tr>\n",
       "      <th>col15</th>\n",
       "      <td>0.011536</td>\n",
       "      <td>-0.012520</td>\n",
       "      <td>0.008801</td>\n",
       "      <td>-0.016883</td>\n",
       "      <td>-0.006503</td>\n",
       "      <td>-0.011347</td>\n",
       "      <td>-0.027252</td>\n",
       "      <td>-0.040220</td>\n",
       "      <td>0.015245</td>\n",
       "      <td>0.002967</td>\n",
       "      <td>...</td>\n",
       "      <td>-0.007591</td>\n",
       "      <td>-0.029357</td>\n",
       "      <td>-0.012951</td>\n",
       "      <td>1.000000</td>\n",
       "      <td>-0.002218</td>\n",
       "      <td>0.030627</td>\n",
       "      <td>0.035922</td>\n",
       "      <td>0.002767</td>\n",
       "      <td>0.036096</td>\n",
       "      <td>-0.046551</td>\n",
       "    </tr>\n",
       "    <tr>\n",
       "      <th>col16</th>\n",
       "      <td>-0.635645</td>\n",
       "      <td>0.345596</td>\n",
       "      <td>0.096208</td>\n",
       "      <td>0.328398</td>\n",
       "      <td>0.471041</td>\n",
       "      <td>-0.141748</td>\n",
       "      <td>0.590410</td>\n",
       "      <td>0.516192</td>\n",
       "      <td>0.109354</td>\n",
       "      <td>-0.017018</td>\n",
       "      <td>...</td>\n",
       "      <td>-0.028387</td>\n",
       "      <td>-0.004422</td>\n",
       "      <td>0.349062</td>\n",
       "      <td>-0.002218</td>\n",
       "      <td>1.000000</td>\n",
       "      <td>0.381683</td>\n",
       "      <td>0.012500</td>\n",
       "      <td>0.506427</td>\n",
       "      <td>0.010487</td>\n",
       "      <td>0.067342</td>\n",
       "    </tr>\n",
       "    <tr>\n",
       "      <th>col17</th>\n",
       "      <td>-0.386412</td>\n",
       "      <td>0.244387</td>\n",
       "      <td>0.049775</td>\n",
       "      <td>0.227257</td>\n",
       "      <td>0.294568</td>\n",
       "      <td>-0.093256</td>\n",
       "      <td>0.385324</td>\n",
       "      <td>0.311134</td>\n",
       "      <td>0.039575</td>\n",
       "      <td>0.006563</td>\n",
       "      <td>...</td>\n",
       "      <td>-0.049815</td>\n",
       "      <td>-0.014877</td>\n",
       "      <td>0.276917</td>\n",
       "      <td>0.030627</td>\n",
       "      <td>0.381683</td>\n",
       "      <td>1.000000</td>\n",
       "      <td>0.036735</td>\n",
       "      <td>0.359355</td>\n",
       "      <td>0.025026</td>\n",
       "      <td>0.069023</td>\n",
       "    </tr>\n",
       "    <tr>\n",
       "      <th>col18</th>\n",
       "      <td>-0.002904</td>\n",
       "      <td>0.000861</td>\n",
       "      <td>0.029816</td>\n",
       "      <td>-0.008053</td>\n",
       "      <td>0.033050</td>\n",
       "      <td>0.003784</td>\n",
       "      <td>0.006608</td>\n",
       "      <td>0.029873</td>\n",
       "      <td>0.008354</td>\n",
       "      <td>0.025123</td>\n",
       "      <td>...</td>\n",
       "      <td>0.040271</td>\n",
       "      <td>0.038597</td>\n",
       "      <td>0.003366</td>\n",
       "      <td>0.035922</td>\n",
       "      <td>0.012500</td>\n",
       "      <td>0.036735</td>\n",
       "      <td>1.000000</td>\n",
       "      <td>-0.020343</td>\n",
       "      <td>-0.022548</td>\n",
       "      <td>-0.021912</td>\n",
       "    </tr>\n",
       "    <tr>\n",
       "      <th>col19</th>\n",
       "      <td>-0.590629</td>\n",
       "      <td>0.327539</td>\n",
       "      <td>0.078308</td>\n",
       "      <td>0.303467</td>\n",
       "      <td>0.435385</td>\n",
       "      <td>-0.153398</td>\n",
       "      <td>0.518238</td>\n",
       "      <td>0.513997</td>\n",
       "      <td>0.092649</td>\n",
       "      <td>0.013472</td>\n",
       "      <td>...</td>\n",
       "      <td>-0.056991</td>\n",
       "      <td>0.005057</td>\n",
       "      <td>0.342973</td>\n",
       "      <td>0.002767</td>\n",
       "      <td>0.506427</td>\n",
       "      <td>0.359355</td>\n",
       "      <td>-0.020343</td>\n",
       "      <td>1.000000</td>\n",
       "      <td>0.011017</td>\n",
       "      <td>0.105710</td>\n",
       "    </tr>\n",
       "    <tr>\n",
       "      <th>col20</th>\n",
       "      <td>-0.007583</td>\n",
       "      <td>0.025411</td>\n",
       "      <td>0.024384</td>\n",
       "      <td>0.002591</td>\n",
       "      <td>0.001960</td>\n",
       "      <td>-0.005593</td>\n",
       "      <td>-0.006657</td>\n",
       "      <td>-0.004092</td>\n",
       "      <td>0.012929</td>\n",
       "      <td>0.006963</td>\n",
       "      <td>...</td>\n",
       "      <td>-0.005333</td>\n",
       "      <td>0.003584</td>\n",
       "      <td>-0.013593</td>\n",
       "      <td>0.036096</td>\n",
       "      <td>0.010487</td>\n",
       "      <td>0.025026</td>\n",
       "      <td>-0.022548</td>\n",
       "      <td>0.011017</td>\n",
       "      <td>1.000000</td>\n",
       "      <td>-0.068796</td>\n",
       "    </tr>\n",
       "    <tr>\n",
       "      <th>target</th>\n",
       "      <td>-0.416405</td>\n",
       "      <td>0.358168</td>\n",
       "      <td>-0.017318</td>\n",
       "      <td>-0.132675</td>\n",
       "      <td>0.104875</td>\n",
       "      <td>-0.271454</td>\n",
       "      <td>0.198555</td>\n",
       "      <td>0.174420</td>\n",
       "      <td>0.031497</td>\n",
       "      <td>0.003556</td>\n",
       "      <td>...</td>\n",
       "      <td>-0.001483</td>\n",
       "      <td>-0.062230</td>\n",
       "      <td>0.054494</td>\n",
       "      <td>-0.046551</td>\n",
       "      <td>0.067342</td>\n",
       "      <td>0.069023</td>\n",
       "      <td>-0.021912</td>\n",
       "      <td>0.105710</td>\n",
       "      <td>-0.068796</td>\n",
       "      <td>1.000000</td>\n",
       "    </tr>\n",
       "  </tbody>\n",
       "</table>\n",
       "<p>22 rows × 22 columns</p>\n",
       "</div>"
      ],
      "text/plain": [
       "              ID      col1      col2      col3      col4      col5      col6   \n",
       "ID      1.000000 -0.622316 -0.182153 -0.272298 -0.495355  0.269412 -0.670282  \\\n",
       "col1   -0.622316  1.000000  0.068536  0.209239  0.296823 -0.110139  0.366900   \n",
       "col2   -0.182153  0.068536  1.000000  0.055166  0.082996 -0.001662  0.110731   \n",
       "col3   -0.272298  0.209239  0.055166  1.000000  0.360306  0.343399  0.355561   \n",
       "col4   -0.495355  0.296823  0.082996  0.360306  1.000000 -0.037666  0.445365   \n",
       "col5    0.269412 -0.110139 -0.001662  0.343399 -0.037666  1.000000 -0.138517   \n",
       "col6   -0.670282  0.366900  0.110731  0.355561  0.445365 -0.138517  1.000000   \n",
       "col7   -0.625041  0.340983  0.121478  0.310508  0.416649 -0.152531  0.551453   \n",
       "col8   -0.129477  0.169893  0.022057 -0.033510  0.078317 -0.120050  0.129136   \n",
       "col9   -0.009559 -0.001603 -0.018710  0.004984 -0.023541  0.001908  0.012978   \n",
       "col10  -0.015632 -0.067864  0.062191  0.029915  0.096494 -0.102955  0.148296   \n",
       "col11  -0.025061 -0.065127  0.102278  0.005056 -0.009518  0.017308  0.004406   \n",
       "col12   0.022009  0.020401 -0.048791 -0.092149 -0.055882 -0.046023 -0.034044   \n",
       "col13   0.000314 -0.006932  0.008791  0.028841 -0.005803  0.019647  0.003866   \n",
       "col14  -0.186106  0.232193 -0.058001  0.301948  0.317054 -0.014961  0.384610   \n",
       "col15   0.011536 -0.012520  0.008801 -0.016883 -0.006503 -0.011347 -0.027252   \n",
       "col16  -0.635645  0.345596  0.096208  0.328398  0.471041 -0.141748  0.590410   \n",
       "col17  -0.386412  0.244387  0.049775  0.227257  0.294568 -0.093256  0.385324   \n",
       "col18  -0.002904  0.000861  0.029816 -0.008053  0.033050  0.003784  0.006608   \n",
       "col19  -0.590629  0.327539  0.078308  0.303467  0.435385 -0.153398  0.518238   \n",
       "col20  -0.007583  0.025411  0.024384  0.002591  0.001960 -0.005593 -0.006657   \n",
       "target -0.416405  0.358168 -0.017318 -0.132675  0.104875 -0.271454  0.198555   \n",
       "\n",
       "            col7      col8      col9  ...     col12     col13     col14   \n",
       "ID     -0.625041 -0.129477 -0.009559  ...  0.022009  0.000314 -0.186106  \\\n",
       "col1    0.340983  0.169893 -0.001603  ...  0.020401 -0.006932  0.232193   \n",
       "col2    0.121478  0.022057 -0.018710  ... -0.048791  0.008791 -0.058001   \n",
       "col3    0.310508 -0.033510  0.004984  ... -0.092149  0.028841  0.301948   \n",
       "col4    0.416649  0.078317 -0.023541  ... -0.055882 -0.005803  0.317054   \n",
       "col5   -0.152531 -0.120050  0.001908  ... -0.046023  0.019647 -0.014961   \n",
       "col6    0.551453  0.129136  0.012978  ... -0.034044  0.003866  0.384610   \n",
       "col7    1.000000  0.121669 -0.001397  ... -0.058285 -0.015734  0.340895   \n",
       "col8    0.121669  1.000000  0.013048  ...  0.120507 -0.006042  0.168918   \n",
       "col9   -0.001397  0.013048  1.000000  ...  0.030067 -0.002626 -0.021988   \n",
       "col10   0.142238  0.146040  0.010122  ... -0.023395 -0.035384  0.256457   \n",
       "col11   0.003811  0.000896  0.012020  ...  0.027644 -0.044710 -0.088667   \n",
       "col12  -0.058285  0.120507  0.030067  ...  1.000000  0.025702 -0.046964   \n",
       "col13  -0.015734 -0.006042 -0.002626  ...  0.025702  1.000000  0.010128   \n",
       "col14   0.340895  0.168918 -0.021988  ... -0.046964  0.010128  1.000000   \n",
       "col15  -0.040220  0.015245  0.002967  ... -0.007591 -0.029357 -0.012951   \n",
       "col16   0.516192  0.109354 -0.017018  ... -0.028387 -0.004422  0.349062   \n",
       "col17   0.311134  0.039575  0.006563  ... -0.049815 -0.014877  0.276917   \n",
       "col18   0.029873  0.008354  0.025123  ...  0.040271  0.038597  0.003366   \n",
       "col19   0.513997  0.092649  0.013472  ... -0.056991  0.005057  0.342973   \n",
       "col20  -0.004092  0.012929  0.006963  ... -0.005333  0.003584 -0.013593   \n",
       "target  0.174420  0.031497  0.003556  ... -0.001483 -0.062230  0.054494   \n",
       "\n",
       "           col15     col16     col17     col18     col19     col20    target  \n",
       "ID      0.011536 -0.635645 -0.386412 -0.002904 -0.590629 -0.007583 -0.416405  \n",
       "col1   -0.012520  0.345596  0.244387  0.000861  0.327539  0.025411  0.358168  \n",
       "col2    0.008801  0.096208  0.049775  0.029816  0.078308  0.024384 -0.017318  \n",
       "col3   -0.016883  0.328398  0.227257 -0.008053  0.303467  0.002591 -0.132675  \n",
       "col4   -0.006503  0.471041  0.294568  0.033050  0.435385  0.001960  0.104875  \n",
       "col5   -0.011347 -0.141748 -0.093256  0.003784 -0.153398 -0.005593 -0.271454  \n",
       "col6   -0.027252  0.590410  0.385324  0.006608  0.518238 -0.006657  0.198555  \n",
       "col7   -0.040220  0.516192  0.311134  0.029873  0.513997 -0.004092  0.174420  \n",
       "col8    0.015245  0.109354  0.039575  0.008354  0.092649  0.012929  0.031497  \n",
       "col9    0.002967 -0.017018  0.006563  0.025123  0.013472  0.006963  0.003556  \n",
       "col10  -0.011409  0.142987  0.095851 -0.014576  0.147694  0.048650 -0.014044  \n",
       "col11   0.014547 -0.001591 -0.023772 -0.036378  0.008567  0.063486 -0.086419  \n",
       "col12  -0.007591 -0.028387 -0.049815  0.040271 -0.056991 -0.005333 -0.001483  \n",
       "col13  -0.029357 -0.004422 -0.014877  0.038597  0.005057  0.003584 -0.062230  \n",
       "col14  -0.012951  0.349062  0.276917  0.003366  0.342973 -0.013593  0.054494  \n",
       "col15   1.000000 -0.002218  0.030627  0.035922  0.002767  0.036096 -0.046551  \n",
       "col16  -0.002218  1.000000  0.381683  0.012500  0.506427  0.010487  0.067342  \n",
       "col17   0.030627  0.381683  1.000000  0.036735  0.359355  0.025026  0.069023  \n",
       "col18   0.035922  0.012500  0.036735  1.000000 -0.020343 -0.022548 -0.021912  \n",
       "col19   0.002767  0.506427  0.359355 -0.020343  1.000000  0.011017  0.105710  \n",
       "col20   0.036096  0.010487  0.025026 -0.022548  0.011017  1.000000 -0.068796  \n",
       "target -0.046551  0.067342  0.069023 -0.021912  0.105710 -0.068796  1.000000  \n",
       "\n",
       "[22 rows x 22 columns]"
      ]
     },
     "execution_count": 11,
     "metadata": {},
     "output_type": "execute_result"
    }
   ],
   "source": [
    "train.corr()"
   ]
  },
  {
   "attachments": {},
   "cell_type": "markdown",
   "metadata": {},
   "source": [
    "Hacemos un Heatmap para verlo de una manera más visual"
   ]
  },
  {
   "cell_type": "code",
   "execution_count": 12,
   "metadata": {},
   "outputs": [
    {
     "data": {
      "text/plain": [
       "<Axes: >"
      ]
     },
     "execution_count": 12,
     "metadata": {},
     "output_type": "execute_result"
    },
    {
     "data": {
      "image/png": "[encoded data removed]",
      "text/plain": [
       "<Figure size 1500x1500 with 2 Axes>"
      ]
     },
     "metadata": {},
     "output_type": "display_data"
    }
   ],
   "source": [
    "correlation = train.corr()\n",
    "plt.figure(figsize=(15, 15))\n",
    "sns.heatmap(correlation, annot=True, cmap=\"coolwarm\", linewidths=0.5, fmt=\".2f\", annot_kws={\"size\": 10})  "
   ]
  },
  {
   "attachments": {},
   "cell_type": "markdown",
   "metadata": {},
   "source": [
    "Procedemos a estudiar cada una de las columnas"
   ]
  },
  {
   "cell_type": "code",
   "execution_count": 13,
   "metadata": {},
   "outputs": [
    {
     "data": {
      "text/plain": [
       "col1\n",
       "0.09    414\n",
       "0.07    404\n",
       "0.02    393\n",
       "0.01    381\n",
       "0.05    377\n",
       "       ... \n",
       "3.21      1\n",
       "1.53      1\n",
       "1.28      1\n",
       "4.63      1\n",
       "2.87      1\n",
       "Name: count, Length: 479, dtype: int64"
      ]
     },
     "execution_count": 13,
     "metadata": {},
     "output_type": "execute_result"
    }
   ],
   "source": [
    "train[\"col1\"].value_counts()"
   ]
  },
  {
   "cell_type": "code",
   "execution_count": 14,
   "metadata": {},
   "outputs": [
    {
     "data": {
      "text/plain": [
       "count    5597.000000\n",
       "mean        0.674797\n",
       "std         1.273677\n",
       "min         0.000000\n",
       "25%         0.040000\n",
       "50%         0.070000\n",
       "75%         0.290000\n",
       "max         5.050000\n",
       "Name: col1, dtype: float64"
      ]
     },
     "execution_count": 14,
     "metadata": {},
     "output_type": "execute_result"
    }
   ],
   "source": [
    "train[\"col1\"].describe()"
   ]
  },
  {
   "cell_type": "code",
   "execution_count": 15,
   "metadata": {},
   "outputs": [
    {
     "data": {
      "text/plain": [
       "col2\n",
       "0.37     9\n",
       "9.92     9\n",
       "9.82     9\n",
       "13.74    9\n",
       "0.17     8\n",
       "        ..\n",
       "2.72     1\n",
       "24.81    1\n",
       "20.80    1\n",
       "15.00    1\n",
       "4.95     1\n",
       "Name: count, Length: 2320, dtype: int64"
      ]
     },
     "execution_count": 15,
     "metadata": {},
     "output_type": "execute_result"
    }
   ],
   "source": [
    "train[\"col2\"].value_counts()"
   ]
  },
  {
   "cell_type": "code",
   "execution_count": 16,
   "metadata": {},
   "outputs": [
    {
     "data": {
      "text/plain": [
       "count    5597.000000\n",
       "mean       14.438840\n",
       "std         8.851097\n",
       "min        -0.080000\n",
       "25%         6.850000\n",
       "50%        14.390000\n",
       "75%        22.260000\n",
       "max        29.840000\n",
       "Name: col2, dtype: float64"
      ]
     },
     "execution_count": 16,
     "metadata": {},
     "output_type": "execute_result"
    }
   ],
   "source": [
    "train[\"col2\"].describe()"
   ]
  },
  {
   "cell_type": "code",
   "execution_count": 17,
   "metadata": {},
   "outputs": [
    {
     "data": {
      "text/plain": [
       "col3\n",
       "0.04    609\n",
       "0.02    563\n",
       "0.03    557\n",
       "0.01    535\n",
       "0.05    438\n",
       "       ... \n",
       "0.98      7\n",
       "1.01      7\n",
       "1.03      6\n",
       "1.05      1\n",
       "1.04      1\n",
       "Name: count, Length: 107, dtype: int64"
      ]
     },
     "execution_count": 17,
     "metadata": {},
     "output_type": "execute_result"
    }
   ],
   "source": [
    "train[\"col3\"].value_counts()"
   ]
  },
  {
   "cell_type": "code",
   "execution_count": 18,
   "metadata": {},
   "outputs": [
    {
     "data": {
      "text/plain": [
       "count    5597.000000\n",
       "mean        0.163603\n",
       "std         0.254659\n",
       "min         0.000000\n",
       "25%         0.030000\n",
       "50%         0.050000\n",
       "75%         0.100000\n",
       "max         1.050000\n",
       "Name: col3, dtype: float64"
      ]
     },
     "execution_count": 18,
     "metadata": {},
     "output_type": "execute_result"
    }
   ],
   "source": [
    "train[\"col3\"].describe()"
   ]
  },
  {
   "cell_type": "code",
   "execution_count": 19,
   "metadata": {},
   "outputs": [
    {
     "data": {
      "text/plain": [
       "col4\n",
       "0.32    35\n",
       "0.23    35\n",
       "0.38    35\n",
       "0.94    34\n",
       "0.58    33\n",
       "        ..\n",
       "4.57     1\n",
       "4.48     1\n",
       "4.21     1\n",
       "4.69     1\n",
       "4.88     1\n",
       "Name: count, Length: 470, dtype: int64"
      ]
     },
     "execution_count": 19,
     "metadata": {},
     "output_type": "execute_result"
    }
   ],
   "source": [
    "train[\"col4\"].value_counts()"
   ]
  },
  {
   "cell_type": "code",
   "execution_count": 20,
   "metadata": {},
   "outputs": [
    {
     "data": {
      "text/plain": [
       "count    5597.000000\n",
       "mean        1.579702\n",
       "std         1.221220\n",
       "min         0.000000\n",
       "25%         0.550000\n",
       "50%         1.210000\n",
       "75%         2.510000\n",
       "max         4.940000\n",
       "Name: col4, dtype: float64"
      ]
     },
     "execution_count": 20,
     "metadata": {},
     "output_type": "execute_result"
    }
   ],
   "source": [
    "train[\"col4\"].describe()"
   ]
  },
  {
   "cell_type": "code",
   "execution_count": 21,
   "metadata": {},
   "outputs": [
    {
     "data": {
      "text/plain": [
       "col5\n",
       "0.060    421\n",
       "0.040    391\n",
       "0.070    391\n",
       "0.090    389\n",
       "0.050    388\n",
       "0.020    376\n",
       "0.030    374\n",
       "0.080    373\n",
       "0.010    372\n",
       "0.001    247\n",
       "0.100    241\n",
       "0.008    183\n",
       "0.000    170\n",
       "0.005    167\n",
       "0.002    163\n",
       "0.006    160\n",
       "0.007    156\n",
       "0.003    144\n",
       "0.004    143\n",
       "0.120    129\n",
       "0.110    116\n",
       "0.009     61\n",
       "0.130     42\n",
       "Name: count, dtype: int64"
      ]
     },
     "execution_count": 21,
     "metadata": {},
     "output_type": "execute_result"
    }
   ],
   "source": [
    "train[\"col5\"].value_counts()"
   ]
  },
  {
   "cell_type": "code",
   "execution_count": 22,
   "metadata": {},
   "outputs": [
    {
     "data": {
      "text/plain": [
       "count    5597.000000\n",
       "mean        0.042747\n",
       "std         0.036072\n",
       "min         0.000000\n",
       "25%         0.008000\n",
       "50%         0.040000\n",
       "75%         0.070000\n",
       "max         0.130000\n",
       "Name: col5, dtype: float64"
      ]
     },
     "execution_count": 22,
     "metadata": {},
     "output_type": "execute_result"
    }
   ],
   "source": [
    "train[\"col5\"].describe()"
   ]
  },
  {
   "cell_type": "code",
   "execution_count": 23,
   "metadata": {},
   "outputs": [
    {
     "data": {
      "text/plain": [
       "(array([ 0,  1,  2,  3,  4,  5,  6,  7,  8,  9, 10, 11, 12, 13, 14, 15, 16,\n",
       "        17, 18, 19, 20, 21, 22]),\n",
       " [Text(0, 0, '0.0'),\n",
       "  Text(1, 0, '0.001'),\n",
       "  Text(2, 0, '0.002'),\n",
       "  Text(3, 0, '0.003'),\n",
       "  Text(4, 0, '0.004'),\n",
       "  Text(5, 0, '0.005'),\n",
       "  Text(6, 0, '0.006'),\n",
       "  Text(7, 0, '0.007'),\n",
       "  Text(8, 0, '0.008'),\n",
       "  Text(9, 0, '0.009'),\n",
       "  Text(10, 0, '0.01'),\n",
       "  Text(11, 0, '0.02'),\n",
       "  Text(12, 0, '0.03'),\n",
       "  Text(13, 0, '0.04'),\n",
       "  Text(14, 0, '0.05'),\n",
       "  Text(15, 0, '0.06'),\n",
       "  Text(16, 0, '0.07'),\n",
       "  Text(17, 0, '0.08'),\n",
       "  Text(18, 0, '0.09'),\n",
       "  Text(19, 0, '0.1'),\n",
       "  Text(20, 0, '0.11'),\n",
       "  Text(21, 0, '0.12'),\n",
       "  Text(22, 0, '0.13')])"
      ]
     },
     "execution_count": 23,
     "metadata": {},
     "output_type": "execute_result"
    },
    {
     "data": {
      "image/png": "[encoded data removed]",
      "text/plain": [
       "<Figure size 640x480 with 1 Axes>"
      ]
     },
     "metadata": {},
     "output_type": "display_data"
    }
   ],
   "source": [
    "sns.countplot(data= train, x=\"col5\" )\n",
    "plt.xticks(rotation=70)"
   ]
  },
  {
   "cell_type": "code",
   "execution_count": 24,
   "metadata": {},
   "outputs": [
    {
     "data": {
      "text/plain": [
       "col6\n",
       "0.09    162\n",
       "0.02    160\n",
       "0.04    153\n",
       "0.05    151\n",
       "0.03    142\n",
       "       ... \n",
       "8.31      1\n",
       "2.60      1\n",
       "8.12      1\n",
       "7.69      1\n",
       "3.80      1\n",
       "Name: count, Length: 784, dtype: int64"
      ]
     },
     "execution_count": 24,
     "metadata": {},
     "output_type": "execute_result"
    }
   ],
   "source": [
    "train[\"col6\"].value_counts()"
   ]
  },
  {
   "cell_type": "code",
   "execution_count": 25,
   "metadata": {},
   "outputs": [
    {
     "data": {
      "text/plain": [
       "count    5597.000000\n",
       "mean        2.213093\n",
       "std         2.581244\n",
       "min         0.000000\n",
       "25%         0.100000\n",
       "50%         0.550000\n",
       "75%         4.330000\n",
       "max         8.660000\n",
       "Name: col6, dtype: float64"
      ]
     },
     "execution_count": 25,
     "metadata": {},
     "output_type": "execute_result"
    }
   ],
   "source": [
    "train[\"col6\"].describe()"
   ]
  },
  {
   "cell_type": "code",
   "execution_count": 26,
   "metadata": {},
   "outputs": [
    {
     "data": {
      "text/plain": [
       "col7\n",
       "0.06    345\n",
       "0.08    334\n",
       "0.07    333\n",
       "0.03    333\n",
       "0.04    323\n",
       "       ... \n",
       "0.81     16\n",
       "0.60     15\n",
       "0.50     12\n",
       "0.75     10\n",
       "0.90      9\n",
       "Name: count, Length: 91, dtype: int64"
      ]
     },
     "execution_count": 26,
     "metadata": {},
     "output_type": "execute_result"
    }
   ],
   "source": [
    "train[\"col7\"].value_counts()"
   ]
  },
  {
   "cell_type": "code",
   "execution_count": 27,
   "metadata": {},
   "outputs": [
    {
     "data": {
      "text/plain": [
       "count    5597.000000\n",
       "mean        0.250890\n",
       "std         0.272472\n",
       "min         0.000000\n",
       "25%         0.050000\n",
       "50%         0.090000\n",
       "75%         0.450000\n",
       "max         0.900000\n",
       "Name: col7, dtype: float64"
      ]
     },
     "execution_count": 27,
     "metadata": {},
     "output_type": "execute_result"
    }
   ],
   "source": [
    "train[\"col7\"].describe()"
   ]
  },
  {
   "cell_type": "code",
   "execution_count": 28,
   "metadata": {},
   "outputs": [
    {
     "data": {
      "text/plain": [
       "col8\n",
       "0.05    176\n",
       "0.04    164\n",
       "0.08    157\n",
       "0.02    147\n",
       "0.06    144\n",
       "       ... \n",
       "0.32      3\n",
       "1.70      3\n",
       "0.45      3\n",
       "2.00      2\n",
       "0.64      2\n",
       "Name: count, Length: 201, dtype: int64"
      ]
     },
     "execution_count": 28,
     "metadata": {},
     "output_type": "execute_result"
    }
   ],
   "source": [
    "train[\"col8\"].value_counts()"
   ]
  },
  {
   "cell_type": "code",
   "execution_count": 29,
   "metadata": {},
   "outputs": [
    {
     "data": {
      "text/plain": [
       "count    5597.000000\n",
       "mean        0.807654\n",
       "std         0.652471\n",
       "min         0.000000\n",
       "25%         0.090000\n",
       "50%         0.750000\n",
       "75%         1.390000\n",
       "max         2.000000\n",
       "Name: col8, dtype: float64"
      ]
     },
     "execution_count": 29,
     "metadata": {},
     "output_type": "execute_result"
    }
   ],
   "source": [
    "train[\"col8\"].describe()"
   ]
  },
  {
   "cell_type": "code",
   "execution_count": 30,
   "metadata": {},
   "outputs": [
    {
     "data": {
      "text/plain": [
       "col9\n",
       "1.43    88\n",
       "0.63    76\n",
       "0.33    69\n",
       "1.39    68\n",
       "0.79    67\n",
       "        ..\n",
       "0.35    13\n",
       "1.11    13\n",
       "0.39    13\n",
       "1.22    12\n",
       "0.60     4\n",
       "Name: count, Length: 151, dtype: int64"
      ]
     },
     "execution_count": 30,
     "metadata": {},
     "output_type": "execute_result"
    }
   ],
   "source": [
    "train[\"col9\"].value_counts()"
   ]
  },
  {
   "cell_type": "code",
   "execution_count": 31,
   "metadata": {},
   "outputs": [
    {
     "data": {
      "text/plain": [
       "count    5597.000000\n",
       "mean        0.766057\n",
       "std         0.436435\n",
       "min         0.000000\n",
       "25%         0.400000\n",
       "50%         0.760000\n",
       "75%         1.160000\n",
       "max         1.500000\n",
       "Name: col9, dtype: float64"
      ]
     },
     "execution_count": 31,
     "metadata": {},
     "output_type": "execute_result"
    }
   ],
   "source": [
    "train[\"col9\"].describe()"
   ]
  },
  {
   "cell_type": "code",
   "execution_count": 32,
   "metadata": {},
   "outputs": [
    {
     "data": {
      "text/plain": [
       "col10\n",
       "0.00    1937\n",
       "0.84      61\n",
       "0.89      59\n",
       "0.13      57\n",
       "0.75      56\n",
       "        ... \n",
       "0.90      17\n",
       "0.86      17\n",
       "0.47      17\n",
       "0.12      16\n",
       "0.88      11\n",
       "Name: count, Length: 101, dtype: int64"
      ]
     },
     "execution_count": 32,
     "metadata": {},
     "output_type": "execute_result"
    }
   ],
   "source": [
    "train[\"col10\"].value_counts()"
   ]
  },
  {
   "cell_type": "code",
   "execution_count": 33,
   "metadata": {},
   "outputs": [
    {
     "data": {
      "text/plain": [
       "count    5597.000000\n",
       "mean        0.324309\n",
       "std         0.328954\n",
       "min         0.000000\n",
       "25%         0.000000\n",
       "50%         0.230000\n",
       "75%         0.610000\n",
       "max         1.000000\n",
       "Name: col10, dtype: float64"
      ]
     },
     "execution_count": 33,
     "metadata": {},
     "output_type": "execute_result"
    }
   ],
   "source": [
    "train[\"col10\"].describe()"
   ]
  },
  {
   "cell_type": "code",
   "execution_count": 34,
   "metadata": {},
   "outputs": [
    {
     "data": {
      "text/plain": [
       "col11\n",
       "0.000    921\n",
       "0.001    312\n",
       "0.008    303\n",
       "0.002    291\n",
       "0.005    258\n",
       "        ... \n",
       "0.860     27\n",
       "0.710     27\n",
       "0.900     23\n",
       "0.810     22\n",
       "0.880     13\n",
       "Name: count, Length: 61, dtype: int64"
      ]
     },
     "execution_count": 34,
     "metadata": {},
     "output_type": "execute_result"
    }
   ],
   "source": [
    "train[\"col11\"].value_counts()"
   ]
  },
  {
   "cell_type": "code",
   "execution_count": 35,
   "metadata": {},
   "outputs": [
    {
     "data": {
      "text/plain": [
       "count    5597.000000\n",
       "mean        0.329693\n",
       "std         0.377353\n",
       "min         0.000000\n",
       "25%         0.002000\n",
       "50%         0.008000\n",
       "75%         0.700000\n",
       "max         1.000000\n",
       "Name: col11, dtype: float64"
      ]
     },
     "execution_count": 35,
     "metadata": {},
     "output_type": "execute_result"
    }
   ],
   "source": [
    "train[\"col11\"].describe()"
   ]
  },
  {
   "cell_type": "code",
   "execution_count": 36,
   "metadata": {},
   "outputs": [
    {
     "data": {
      "text/plain": [
       "col12\n",
       "0.001    198\n",
       "0.105     57\n",
       "0.075     56\n",
       "0.100     56\n",
       "0.097     55\n",
       "        ... \n",
       "0.084      4\n",
       "0.094      4\n",
       "0.173      4\n",
       "0.171      4\n",
       "0.056      4\n",
       "Name: count, Length: 199, dtype: int64"
      ]
     },
     "execution_count": 36,
     "metadata": {},
     "output_type": "execute_result"
    }
   ],
   "source": [
    "train[\"col12\"].value_counts()"
   ]
  },
  {
   "cell_type": "code",
   "execution_count": 37,
   "metadata": {},
   "outputs": [
    {
     "data": {
      "text/plain": [
       "count    5597.000000\n",
       "mean        0.100050\n",
       "std         0.057997\n",
       "min         0.001000\n",
       "25%         0.049000\n",
       "50%         0.103000\n",
       "75%         0.151000\n",
       "max         0.200000\n",
       "Name: col12, dtype: float64"
      ]
     },
     "execution_count": 37,
     "metadata": {},
     "output_type": "execute_result"
    }
   ],
   "source": [
    "train[\"col12\"].describe()"
   ]
  },
  {
   "cell_type": "code",
   "execution_count": 38,
   "metadata": {},
   "outputs": [
    {
     "data": {
      "text/plain": [
       "col13\n",
       "8.50     14\n",
       "10.90    13\n",
       "7.85     12\n",
       "4.94     12\n",
       "16.88    12\n",
       "         ..\n",
       "12.96     1\n",
       "1.17      1\n",
       "2.25      1\n",
       "19.71     1\n",
       "8.15      1\n",
       "Name: count, Length: 1664, dtype: int64"
      ]
     },
     "execution_count": 38,
     "metadata": {},
     "output_type": "execute_result"
    }
   ],
   "source": [
    "train[\"col13\"].value_counts()"
   ]
  },
  {
   "cell_type": "code",
   "execution_count": 39,
   "metadata": {},
   "outputs": [
    {
     "data": {
      "text/plain": [
       "count    5597.000000\n",
       "mean        9.819267\n",
       "std         5.581795\n",
       "min         0.010000\n",
       "25%         4.940000\n",
       "50%         9.860000\n",
       "75%        14.690000\n",
       "max        19.820000\n",
       "Name: col13, dtype: float64"
      ]
     },
     "execution_count": 39,
     "metadata": {},
     "output_type": "execute_result"
    }
   ],
   "source": [
    "train[\"col13\"].describe()"
   ]
  },
  {
   "cell_type": "code",
   "execution_count": 40,
   "metadata": {},
   "outputs": [
    {
     "data": {
      "text/plain": [
       "col14\n",
       "1.36    62\n",
       "1.20    58\n",
       "1.58    55\n",
       "1.37    55\n",
       "1.77    53\n",
       "        ..\n",
       "2.65     1\n",
       "2.51     1\n",
       "2.64     1\n",
       "2.58     1\n",
       "2.57     1\n",
       "Name: count, Length: 274, dtype: int64"
      ]
     },
     "execution_count": 40,
     "metadata": {},
     "output_type": "execute_result"
    }
   ],
   "source": [
    "train[\"col14\"].value_counts()"
   ]
  },
  {
   "cell_type": "code",
   "execution_count": 41,
   "metadata": {},
   "outputs": [
    {
     "data": {
      "text/plain": [
       "count    5597.000000\n",
       "mean        1.331880\n",
       "std         0.568734\n",
       "min         0.000000\n",
       "25%         1.010000\n",
       "50%         1.420000\n",
       "75%         1.760000\n",
       "max         2.890000\n",
       "Name: col14, dtype: float64"
      ]
     },
     "execution_count": 41,
     "metadata": {},
     "output_type": "execute_result"
    }
   ],
   "source": [
    "train[\"col14\"].describe()"
   ]
  },
  {
   "cell_type": "code",
   "execution_count": 42,
   "metadata": {},
   "outputs": [
    {
     "data": {
      "text/plain": [
       "col15\n",
       "0.006    647\n",
       "0.008    620\n",
       "0.007    573\n",
       "0.001    570\n",
       "0.009    542\n",
       "0.005    527\n",
       "0.002    503\n",
       "0.003    501\n",
       "0.004    477\n",
       "0.010    372\n",
       "0.000    265\n",
       "Name: count, dtype: int64"
      ]
     },
     "execution_count": 42,
     "metadata": {},
     "output_type": "execute_result"
    }
   ],
   "source": [
    "train[\"col15\"].value_counts()"
   ]
  },
  {
   "cell_type": "code",
   "execution_count": 43,
   "metadata": {},
   "outputs": [
    {
     "data": {
      "text/plain": [
       "count    5597.000000\n",
       "mean        0.005194\n",
       "std         0.002960\n",
       "min         0.000000\n",
       "25%         0.003000\n",
       "50%         0.005000\n",
       "75%         0.008000\n",
       "max         0.010000\n",
       "Name: col15, dtype: float64"
      ]
     },
     "execution_count": 43,
     "metadata": {},
     "output_type": "execute_result"
    }
   ],
   "source": [
    "train[\"col15\"].describe()"
   ]
  },
  {
   "cell_type": "code",
   "execution_count": 44,
   "metadata": {},
   "outputs": [
    {
     "data": {
      "text/plain": [
       "(array([ 0,  1,  2,  3,  4,  5,  6,  7,  8,  9, 10]),\n",
       " [Text(0, 0, '0.0'),\n",
       "  Text(1, 0, '0.001'),\n",
       "  Text(2, 0, '0.002'),\n",
       "  Text(3, 0, '0.003'),\n",
       "  Text(4, 0, '0.004'),\n",
       "  Text(5, 0, '0.005'),\n",
       "  Text(6, 0, '0.006'),\n",
       "  Text(7, 0, '0.007'),\n",
       "  Text(8, 0, '0.008'),\n",
       "  Text(9, 0, '0.009'),\n",
       "  Text(10, 0, '0.01')])"
      ]
     },
     "execution_count": 44,
     "metadata": {},
     "output_type": "execute_result"
    },
    {
     "data": {
      "image/png": "[encoded data removed]",
      "text/plain": [
       "<Figure size 640x480 with 1 Axes>"
      ]
     },
     "metadata": {},
     "output_type": "display_data"
    }
   ],
   "source": [
    "sns.countplot(data= train, x=\"col15\" )\n",
    "plt.xticks(rotation=70)"
   ]
  },
  {
   "cell_type": "code",
   "execution_count": 45,
   "metadata": {},
   "outputs": [
    {
     "data": {
      "text/plain": [
       "col16\n",
       "0.18     21\n",
       "0.05     20\n",
       "0.10     18\n",
       "0.35     17\n",
       "0.34     17\n",
       "         ..\n",
       "3.41      1\n",
       "6.32      1\n",
       "54.24     1\n",
       "31.16     1\n",
       "17.18     1\n",
       "Name: count, Length: 2562, dtype: int64"
      ]
     },
     "execution_count": 45,
     "metadata": {},
     "output_type": "execute_result"
    }
   ],
   "source": [
    "train[\"col16\"].value_counts()"
   ]
  },
  {
   "cell_type": "code",
   "execution_count": 46,
   "metadata": {},
   "outputs": [
    {
     "data": {
      "text/plain": [
       "count    5597.000000\n",
       "mean       16.621249\n",
       "std        17.729833\n",
       "min         0.000000\n",
       "25%         2.220000\n",
       "50%         7.840000\n",
       "75%        29.980000\n",
       "max        60.010000\n",
       "Name: col16, dtype: float64"
      ]
     },
     "execution_count": 46,
     "metadata": {},
     "output_type": "execute_result"
    }
   ],
   "source": [
    "train[\"col16\"].describe()"
   ]
  },
  {
   "cell_type": "code",
   "execution_count": 47,
   "metadata": {},
   "outputs": [
    {
     "data": {
      "text/plain": [
       "col17\n",
       "0.06    34\n",
       "0.27    29\n",
       "0.96    27\n",
       "0.82    27\n",
       "0.15    27\n",
       "        ..\n",
       "2.70     1\n",
       "4.46     1\n",
       "4.19     1\n",
       "6.01     1\n",
       "5.44     1\n",
       "Name: count, Length: 724, dtype: int64"
      ]
     },
     "execution_count": 47,
     "metadata": {},
     "output_type": "execute_result"
    }
   ],
   "source": [
    "train[\"col17\"].value_counts()"
   ]
  },
  {
   "cell_type": "code",
   "execution_count": 48,
   "metadata": {},
   "outputs": [
    {
     "data": {
      "text/plain": [
       "count    5597.000000\n",
       "mean        2.931896\n",
       "std         2.327347\n",
       "min         0.000000\n",
       "25%         0.820000\n",
       "50%         2.430000\n",
       "75%         4.670000\n",
       "max         7.990000\n",
       "Name: col17, dtype: float64"
      ]
     },
     "execution_count": 48,
     "metadata": {},
     "output_type": "execute_result"
    }
   ],
   "source": [
    "train[\"col17\"].describe()"
   ]
  },
  {
   "cell_type": "code",
   "execution_count": 49,
   "metadata": {},
   "outputs": [
    {
     "data": {
      "text/plain": [
       "col18\n",
       "0.06    649\n",
       "0.02    607\n",
       "0.05    593\n",
       "0.03    578\n",
       "0.07    573\n",
       "0.01    529\n",
       "0.09    527\n",
       "0.04    495\n",
       "0.08    484\n",
       "0.10    282\n",
       "0.00    280\n",
       "Name: count, dtype: int64"
      ]
     },
     "execution_count": 49,
     "metadata": {},
     "output_type": "execute_result"
    }
   ],
   "source": [
    "train[\"col18\"].value_counts()"
   ]
  },
  {
   "cell_type": "code",
   "execution_count": 50,
   "metadata": {},
   "outputs": [
    {
     "data": {
      "text/plain": [
       "count    5597.000000\n",
       "mean        0.049602\n",
       "std         0.028827\n",
       "min         0.000000\n",
       "25%         0.020000\n",
       "50%         0.050000\n",
       "75%         0.070000\n",
       "max         0.100000\n",
       "Name: col18, dtype: float64"
      ]
     },
     "execution_count": 50,
     "metadata": {},
     "output_type": "execute_result"
    }
   ],
   "source": [
    "train[\"col18\"].describe()"
   ]
  },
  {
   "cell_type": "code",
   "execution_count": 51,
   "metadata": {},
   "outputs": [
    {
     "data": {
      "text/plain": [
       "(array([ 0,  1,  2,  3,  4,  5,  6,  7,  8,  9, 10]),\n",
       " [Text(0, 0, '0.0'),\n",
       "  Text(1, 0, '0.01'),\n",
       "  Text(2, 0, '0.02'),\n",
       "  Text(3, 0, '0.03'),\n",
       "  Text(4, 0, '0.04'),\n",
       "  Text(5, 0, '0.05'),\n",
       "  Text(6, 0, '0.06'),\n",
       "  Text(7, 0, '0.07'),\n",
       "  Text(8, 0, '0.08'),\n",
       "  Text(9, 0, '0.09'),\n",
       "  Text(10, 0, '0.1')])"
      ]
     },
     "execution_count": 51,
     "metadata": {},
     "output_type": "execute_result"
    },
    {
     "data": {
      "image/png": "[encoded data removed]",
      "text/plain": [
       "<Figure size 640x480 with 1 Axes>"
      ]
     },
     "metadata": {},
     "output_type": "display_data"
    }
   ],
   "source": [
    "sns.countplot(data= train, x=\"col18\" )\n",
    "plt.xticks(rotation=70)"
   ]
  },
  {
   "cell_type": "code",
   "execution_count": 52,
   "metadata": {},
   "outputs": [
    {
     "data": {
      "text/plain": [
       "col19\n",
       "0.09    346\n",
       "0.04    346\n",
       "0.06    346\n",
       "0.01    342\n",
       "0.07    337\n",
       "0.03    335\n",
       "0.02    329\n",
       "0.05    320\n",
       "0.08    317\n",
       "0.00    167\n",
       "0.10    164\n",
       "0.12     91\n",
       "0.42     81\n",
       "0.18     79\n",
       "0.11     74\n",
       "0.33     70\n",
       "0.37     70\n",
       "0.27     69\n",
       "0.20     69\n",
       "0.49     68\n",
       "0.21     64\n",
       "0.31     62\n",
       "0.41     61\n",
       "0.24     61\n",
       "0.35     60\n",
       "0.13     60\n",
       "0.45     58\n",
       "0.23     57\n",
       "0.16     56\n",
       "0.47     56\n",
       "0.34     55\n",
       "0.15     55\n",
       "0.44     54\n",
       "0.40     54\n",
       "0.36     52\n",
       "0.26     51\n",
       "0.38     51\n",
       "0.48     50\n",
       "0.19     50\n",
       "0.39     50\n",
       "0.17     50\n",
       "0.29     49\n",
       "0.28     49\n",
       "0.22     47\n",
       "0.32     46\n",
       "0.25     44\n",
       "0.46     42\n",
       "0.30     40\n",
       "0.43     37\n",
       "0.14     29\n",
       "0.50     27\n",
       "Name: count, dtype: int64"
      ]
     },
     "execution_count": 52,
     "metadata": {},
     "output_type": "execute_result"
    }
   ],
   "source": [
    "train[\"col19\"].value_counts()"
   ]
  },
  {
   "cell_type": "code",
   "execution_count": 53,
   "metadata": {},
   "outputs": [
    {
     "data": {
      "text/plain": [
       "count    5597.000000\n",
       "mean        0.149855\n",
       "std         0.144170\n",
       "min         0.000000\n",
       "25%         0.040000\n",
       "50%         0.080000\n",
       "75%         0.250000\n",
       "max         0.500000\n",
       "Name: col19, dtype: float64"
      ]
     },
     "execution_count": 53,
     "metadata": {},
     "output_type": "execute_result"
    }
   ],
   "source": [
    "train[\"col19\"].describe()"
   ]
  },
  {
   "cell_type": "code",
   "execution_count": 54,
   "metadata": {},
   "outputs": [
    {
     "data": {
      "text/plain": [
       "col20\n",
       "0.02    664\n",
       "0.08    661\n",
       "0.06    651\n",
       "0.05    645\n",
       "0.07    604\n",
       "0.01    577\n",
       "0.04    550\n",
       "0.03    527\n",
       "0.00    401\n",
       "0.09    317\n",
       "Name: count, dtype: int64"
      ]
     },
     "execution_count": 54,
     "metadata": {},
     "output_type": "execute_result"
    }
   ],
   "source": [
    "train[\"col20\"].value_counts()"
   ]
  },
  {
   "cell_type": "code",
   "execution_count": 55,
   "metadata": {},
   "outputs": [
    {
     "data": {
      "text/plain": [
       "count    5597.000000\n",
       "mean        0.044999\n",
       "std         0.026929\n",
       "min         0.000000\n",
       "25%         0.020000\n",
       "50%         0.050000\n",
       "75%         0.070000\n",
       "max         0.090000\n",
       "Name: col20, dtype: float64"
      ]
     },
     "execution_count": 55,
     "metadata": {},
     "output_type": "execute_result"
    }
   ],
   "source": [
    "train[\"col20\"].describe()"
   ]
  },
  {
   "cell_type": "code",
   "execution_count": 56,
   "metadata": {},
   "outputs": [
    {
     "data": {
      "text/plain": [
       "(array([0, 1, 2, 3, 4, 5, 6, 7, 8, 9]),\n",
       " [Text(0, 0, '0.0'),\n",
       "  Text(1, 0, '0.01'),\n",
       "  Text(2, 0, '0.02'),\n",
       "  Text(3, 0, '0.03'),\n",
       "  Text(4, 0, '0.04'),\n",
       "  Text(5, 0, '0.05'),\n",
       "  Text(6, 0, '0.06'),\n",
       "  Text(7, 0, '0.07'),\n",
       "  Text(8, 0, '0.08'),\n",
       "  Text(9, 0, '0.09')])"
      ]
     },
     "execution_count": 56,
     "metadata": {},
     "output_type": "execute_result"
    },
    {
     "data": {
      "image/png": "[encoded data removed]",
      "text/plain": [
       "<Figure size 640x480 with 1 Axes>"
      ]
     },
     "metadata": {},
     "output_type": "display_data"
    }
   ],
   "source": [
    "sns.countplot(data= train, x=\"col20\" )\n",
    "plt.xticks(rotation=70)"
   ]
  },
  {
   "attachments": {},
   "cell_type": "markdown",
   "metadata": {},
   "source": [
    "Comenzamos con el modelo de Regresión logística"
   ]
  },
  {
   "cell_type": "code",
   "execution_count": 57,
   "metadata": {},
   "outputs": [],
   "source": [
    "X=train.drop(\"target\", axis=1)\n",
    "y=train[\"target\"]"
   ]
  },
  {
   "cell_type": "code",
   "execution_count": 58,
   "metadata": {},
   "outputs": [],
   "source": [
    "from sklearn.model_selection import train_test_split"
   ]
  },
  {
   "cell_type": "code",
   "execution_count": 59,
   "metadata": {},
   "outputs": [],
   "source": [
    "from sklearn.preprocessing import StandardScaler"
   ]
  },
  {
   "cell_type": "code",
   "execution_count": 60,
   "metadata": {},
   "outputs": [],
   "source": [
    "x_train, x_test, y_train, y_test = train_test_split(X, y, test_size=0.1, random_state=101)"
   ]
  },
  {
   "cell_type": "code",
   "execution_count": 61,
   "metadata": {},
   "outputs": [],
   "source": [
    "scaler = StandardScaler()"
   ]
  },
  {
   "cell_type": "code",
   "execution_count": 62,
   "metadata": {},
   "outputs": [
    {
     "data": {
      "text/html": [
       "<style>#sk-container-id-1 {color: black;background-color: white;}#sk-container-id-1 pre{padding: 0;}#sk-container-id-1 div.sk-toggleable {background-color: white;}#sk-container-id-1 label.sk-toggleable__label {cursor: pointer;display: block;width: 100%;margin-bottom: 0;padding: 0.3em;box-sizing: border-box;text-align: center;}#sk-container-id-1 label.sk-toggleable__label-arrow:before {content: \"▸\";float: left;margin-right: 0.25em;color: #696969;}#sk-container-id-1 label.sk-toggleable__label-arrow:hover:before {color: black;}#sk-container-id-1 div.sk-estimator:hover label.sk-toggleable__label-arrow:before {color: black;}#sk-container-id-1 div.sk-toggleable__content {max-height: 0;max-width: 0;overflow: hidden;text-align: left;background-color: #f0f8ff;}#sk-container-id-1 div.sk-toggleable__content pre {margin: 0.2em;color: black;border-radius: 0.25em;background-color: #f0f8ff;}#sk-container-id-1 input.sk-toggleable__control:checked~div.sk-toggleable__content {max-height: 200px;max-width: 100%;overflow: auto;}#sk-container-id-1 input.sk-toggleable__control:checked~label.sk-toggleable__label-arrow:before {content: \"▾\";}#sk-container-id-1 div.sk-estimator input.sk-toggleable__control:checked~label.sk-toggleable__label {background-color: #d4ebff;}#sk-container-id-1 div.sk-label input.sk-toggleable__control:checked~label.sk-toggleable__label {background-color: #d4ebff;}#sk-container-id-1 input.sk-hidden--visually {border: 0;clip: rect(1px 1px 1px 1px);clip: rect(1px, 1px, 1px, 1px);height: 1px;margin: -1px;overflow: hidden;padding: 0;position: absolute;width: 1px;}#sk-container-id-1 div.sk-estimator {font-family: monospace;background-color: #f0f8ff;border: 1px dotted black;border-radius: 0.25em;box-sizing: border-box;margin-bottom: 0.5em;}#sk-container-id-1 div.sk-estimator:hover {background-color: #d4ebff;}#sk-container-id-1 div.sk-parallel-item::after {content: \"\";width: 100%;border-bottom: 1px solid gray;flex-grow: 1;}#sk-container-id-1 div.sk-label:hover label.sk-toggleable__label {background-color: #d4ebff;}#sk-container-id-1 div.sk-serial::before {content: \"\";position: absolute;border-left: 1px solid gray;box-sizing: border-box;top: 0;bottom: 0;left: 50%;z-index: 0;}#sk-container-id-1 div.sk-serial {display: flex;flex-direction: column;align-items: center;background-color: white;padding-right: 0.2em;padding-left: 0.2em;position: relative;}#sk-container-id-1 div.sk-item {position: relative;z-index: 1;}#sk-container-id-1 div.sk-parallel {display: flex;align-items: stretch;justify-content: center;background-color: white;position: relative;}#sk-container-id-1 div.sk-item::before, #sk-container-id-1 div.sk-parallel-item::before {content: \"\";position: absolute;border-left: 1px solid gray;box-sizing: border-box;top: 0;bottom: 0;left: 50%;z-index: -1;}#sk-container-id-1 div.sk-parallel-item {display: flex;flex-direction: column;z-index: 1;position: relative;background-color: white;}#sk-container-id-1 div.sk-parallel-item:first-child::after {align-self: flex-end;width: 50%;}#sk-container-id-1 div.sk-parallel-item:last-child::after {align-self: flex-start;width: 50%;}#sk-container-id-1 div.sk-parallel-item:only-child::after {width: 0;}#sk-container-id-1 div.sk-dashed-wrapped {border: 1px dashed gray;margin: 0 0.4em 0.5em 0.4em;box-sizing: border-box;padding-bottom: 0.4em;background-color: white;}#sk-container-id-1 div.sk-label label {font-family: monospace;font-weight: bold;display: inline-block;line-height: 1.2em;}#sk-container-id-1 div.sk-label-container {text-align: center;}#sk-container-id-1 div.sk-container {/* jupyter's `normalize.less` sets `[hidden] { display: none; }` but bootstrap.min.css set `[hidden] { display: none !important; }` so we also need the `!important` here to be able to override the default hidden behavior on the sphinx rendered scikit-learn.org. See: https://github.com/scikit-learn/scikit-learn/issues/21755 */display: inline-block !important;position: relative;}#sk-container-id-1 div.sk-text-repr-fallback {display: none;}</style><div id=\"sk-container-id-1\" class=\"sk-top-container\"><div class=\"sk-text-repr-fallback\"><pre>StandardScaler()</pre><b>In a Jupyter environment, please rerun this cell to show the HTML representation or trust the notebook. <br />On GitHub, the HTML representation is unable to render, please try loading this page with nbviewer.org.</b></div><div class=\"sk-container\" hidden><div class=\"sk-item\"><div class=\"sk-estimator sk-toggleable\"><input class=\"sk-toggleable__control sk-hidden--visually\" id=\"sk-estimator-id-1\" type=\"checkbox\" checked><label for=\"sk-estimator-id-1\" class=\"sk-toggleable__label sk-toggleable__label-arrow\">StandardScaler</label><div class=\"sk-toggleable__content\"><pre>StandardScaler()</pre></div></div></div></div></div>"
      ],
      "text/plain": [
       "StandardScaler()"
      ]
     },
     "execution_count": 62,
     "metadata": {},
     "output_type": "execute_result"
    }
   ],
   "source": [
    "scaler.fit(x_train)"
   ]
  },
  {
   "cell_type": "code",
   "execution_count": 63,
   "metadata": {},
   "outputs": [],
   "source": [
    "scaler_Xtrain = scaler.transform(x_train)"
   ]
  },
  {
   "cell_type": "code",
   "execution_count": 64,
   "metadata": {},
   "outputs": [],
   "source": [
    "scaler_Xtest = scaler.transform(x_test)"
   ]
  },
  {
   "cell_type": "code",
   "execution_count": 65,
   "metadata": {},
   "outputs": [],
   "source": [
    "from sklearn.linear_model import LogisticRegression"
   ]
  },
  {
   "cell_type": "code",
   "execution_count": 66,
   "metadata": {},
   "outputs": [
    {
     "data": {
      "text/html": [
       "<style>#sk-container-id-2 {color: black;background-color: white;}#sk-container-id-2 pre{padding: 0;}#sk-container-id-2 div.sk-toggleable {background-color: white;}#sk-container-id-2 label.sk-toggleable__label {cursor: pointer;display: block;width: 100%;margin-bottom: 0;padding: 0.3em;box-sizing: border-box;text-align: center;}#sk-container-id-2 label.sk-toggleable__label-arrow:before {content: \"▸\";float: left;margin-right: 0.25em;color: #696969;}#sk-container-id-2 label.sk-toggleable__label-arrow:hover:before {color: black;}#sk-container-id-2 div.sk-estimator:hover label.sk-toggleable__label-arrow:before {color: black;}#sk-container-id-2 div.sk-toggleable__content {max-height: 0;max-width: 0;overflow: hidden;text-align: left;background-color: #f0f8ff;}#sk-container-id-2 div.sk-toggleable__content pre {margin: 0.2em;color: black;border-radius: 0.25em;background-color: #f0f8ff;}#sk-container-id-2 input.sk-toggleable__control:checked~div.sk-toggleable__content {max-height: 200px;max-width: 100%;overflow: auto;}#sk-container-id-2 input.sk-toggleable__control:checked~label.sk-toggleable__label-arrow:before {content: \"▾\";}#sk-container-id-2 div.sk-estimator input.sk-toggleable__control:checked~label.sk-toggleable__label {background-color: #d4ebff;}#sk-container-id-2 div.sk-label input.sk-toggleable__control:checked~label.sk-toggleable__label {background-color: #d4ebff;}#sk-container-id-2 input.sk-hidden--visually {border: 0;clip: rect(1px 1px 1px 1px);clip: rect(1px, 1px, 1px, 1px);height: 1px;margin: -1px;overflow: hidden;padding: 0;position: absolute;width: 1px;}#sk-container-id-2 div.sk-estimator {font-family: monospace;background-color: #f0f8ff;border: 1px dotted black;border-radius: 0.25em;box-sizing: border-box;margin-bottom: 0.5em;}#sk-container-id-2 div.sk-estimator:hover {background-color: #d4ebff;}#sk-container-id-2 div.sk-parallel-item::after {content: \"\";width: 100%;border-bottom: 1px solid gray;flex-grow: 1;}#sk-container-id-2 div.sk-label:hover label.sk-toggleable__label {background-color: #d4ebff;}#sk-container-id-2 div.sk-serial::before {content: \"\";position: absolute;border-left: 1px solid gray;box-sizing: border-box;top: 0;bottom: 0;left: 50%;z-index: 0;}#sk-container-id-2 div.sk-serial {display: flex;flex-direction: column;align-items: center;background-color: white;padding-right: 0.2em;padding-left: 0.2em;position: relative;}#sk-container-id-2 div.sk-item {position: relative;z-index: 1;}#sk-container-id-2 div.sk-parallel {display: flex;align-items: stretch;justify-content: center;background-color: white;position: relative;}#sk-container-id-2 div.sk-item::before, #sk-container-id-2 div.sk-parallel-item::before {content: \"\";position: absolute;border-left: 1px solid gray;box-sizing: border-box;top: 0;bottom: 0;left: 50%;z-index: -1;}#sk-container-id-2 div.sk-parallel-item {display: flex;flex-direction: column;z-index: 1;position: relative;background-color: white;}#sk-container-id-2 div.sk-parallel-item:first-child::after {align-self: flex-end;width: 50%;}#sk-container-id-2 div.sk-parallel-item:last-child::after {align-self: flex-start;width: 50%;}#sk-container-id-2 div.sk-parallel-item:only-child::after {width: 0;}#sk-container-id-2 div.sk-dashed-wrapped {border: 1px dashed gray;margin: 0 0.4em 0.5em 0.4em;box-sizing: border-box;padding-bottom: 0.4em;background-color: white;}#sk-container-id-2 div.sk-label label {font-family: monospace;font-weight: bold;display: inline-block;line-height: 1.2em;}#sk-container-id-2 div.sk-label-container {text-align: center;}#sk-container-id-2 div.sk-container {/* jupyter's `normalize.less` sets `[hidden] { display: none; }` but bootstrap.min.css set `[hidden] { display: none !important; }` so we also need the `!important` here to be able to override the default hidden behavior on the sphinx rendered scikit-learn.org. See: https://github.com/scikit-learn/scikit-learn/issues/21755 */display: inline-block !important;position: relative;}#sk-container-id-2 div.sk-text-repr-fallback {display: none;}</style><div id=\"sk-container-id-2\" class=\"sk-top-container\"><div class=\"sk-text-repr-fallback\"><pre>LogisticRegression()</pre><b>In a Jupyter environment, please rerun this cell to show the HTML representation or trust the notebook. <br />On GitHub, the HTML representation is unable to render, please try loading this page with nbviewer.org.</b></div><div class=\"sk-container\" hidden><div class=\"sk-item\"><div class=\"sk-estimator sk-toggleable\"><input class=\"sk-toggleable__control sk-hidden--visually\" id=\"sk-estimator-id-2\" type=\"checkbox\" checked><label for=\"sk-estimator-id-2\" class=\"sk-toggleable__label sk-toggleable__label-arrow\">LogisticRegression</label><div class=\"sk-toggleable__content\"><pre>LogisticRegression()</pre></div></div></div></div></div>"
      ],
      "text/plain": [
       "LogisticRegression()"
      ]
     },
     "execution_count": 66,
     "metadata": {},
     "output_type": "execute_result"
    }
   ],
   "source": [
    "model = LogisticRegression()\n",
    "model.fit(scaler_Xtrain, y_train)"
   ]
  },
  {
   "cell_type": "code",
   "execution_count": 67,
   "metadata": {},
   "outputs": [],
   "source": [
    "y_pred = model.predict_log_proba(scaler_Xtest)"
   ]
  },
  {
   "cell_type": "code",
   "execution_count": 68,
   "metadata": {},
   "outputs": [],
   "source": [
    "y_pred=model.predict(scaler_Xtest)"
   ]
  },
  {
   "cell_type": "code",
   "execution_count": 69,
   "metadata": {},
   "outputs": [
    {
     "data": {
      "text/plain": [
       "array([0, 0, 0, 0, 0, 0, 0, 0, 0, 0, 0, 1, 0, 0, 0, 0, 0, 0, 0, 0, 0, 0,\n",
       "       0, 0, 0, 0, 0, 0, 0, 0, 0, 0, 0, 0, 0, 0, 0, 0, 0, 0, 1, 0, 0, 0,\n",
       "       0, 0, 1, 0, 1, 0, 0, 0, 0, 0, 0, 0, 1, 0, 0, 0, 0, 0, 1, 0, 0, 0,\n",
       "       0, 0, 0, 0, 1, 0, 0, 0, 1, 1, 0, 1, 0, 0, 0, 0, 0, 0, 0, 0, 1, 0,\n",
       "       0, 0, 0, 0, 0, 0, 0, 0, 0, 0, 1, 0, 0, 0, 0, 0, 0, 0, 0, 0, 0, 0,\n",
       "       0, 0, 0, 0, 0, 0, 0, 0, 0, 0, 1, 0, 0, 0, 0, 0, 0, 0, 1, 0, 0, 0,\n",
       "       0, 0, 0, 0, 0, 0, 0, 0, 0, 0, 0, 0, 0, 0, 0, 0, 0, 0, 0, 0, 0, 0,\n",
       "       0, 1, 0, 0, 0, 0, 0, 0, 0, 0, 0, 0, 0, 0, 0, 0, 0, 0, 0, 0, 0, 0,\n",
       "       0, 0, 0, 0, 0, 0, 0, 0, 0, 1, 0, 0, 0, 0, 0, 0, 0, 0, 0, 1, 0, 0,\n",
       "       0, 0, 0, 0, 0, 0, 0, 0, 0, 0, 0, 0, 0, 0, 0, 1, 0, 0, 0, 0, 0, 0,\n",
       "       0, 0, 0, 0, 1, 0, 0, 0, 0, 0, 0, 1, 0, 0, 0, 0, 0, 0, 0, 1, 1, 0,\n",
       "       0, 0, 0, 0, 0, 0, 0, 0, 0, 1, 0, 0, 0, 0, 0, 0, 0, 0, 0, 0, 0, 0,\n",
       "       0, 0, 0, 1, 0, 0, 0, 0, 0, 0, 0, 0, 0, 0, 0, 0, 0, 0, 0, 0, 0, 0,\n",
       "       0, 0, 0, 0, 1, 1, 0, 0, 0, 0, 0, 0, 1, 0, 0, 0, 1, 0, 0, 0, 0, 0,\n",
       "       0, 0, 0, 0, 0, 0, 0, 0, 0, 0, 0, 0, 0, 0, 0, 0, 0, 0, 0, 0, 0, 0,\n",
       "       0, 0, 1, 1, 0, 0, 1, 0, 0, 0, 0, 0, 0, 0, 0, 0, 0, 0, 0, 0, 0, 0,\n",
       "       0, 0, 0, 0, 0, 0, 0, 0, 0, 0, 0, 0, 0, 0, 0, 0, 0, 0, 0, 0, 0, 0,\n",
       "       0, 0, 0, 0, 0, 0, 0, 1, 0, 0, 0, 0, 0, 0, 0, 0, 0, 0, 0, 0, 1, 0,\n",
       "       0, 0, 0, 0, 0, 0, 0, 0, 1, 1, 0, 0, 0, 0, 0, 0, 0, 0, 0, 0, 0, 0,\n",
       "       0, 0, 0, 0, 0, 0, 0, 0, 0, 0, 0, 0, 0, 0, 0, 0, 0, 0, 0, 0, 0, 0,\n",
       "       0, 0, 1, 0, 0, 0, 0, 0, 0, 0, 0, 0, 0, 0, 1, 0, 0, 0, 0, 0, 0, 0,\n",
       "       0, 0, 0, 0, 0, 0, 0, 0, 0, 0, 0, 0, 1, 0, 0, 0, 0, 0, 0, 0, 0, 1,\n",
       "       0, 1, 0, 0, 1, 0, 0, 0, 0, 0, 0, 0, 0, 0, 1, 0, 0, 0, 0, 0, 0, 0,\n",
       "       0, 0, 0, 0, 0, 0, 0, 0, 0, 0, 0, 0, 0, 0, 0, 0, 0, 0, 0, 0, 0, 0,\n",
       "       0, 0, 0, 0, 0, 1, 0, 0, 1, 0, 0, 0, 0, 0, 0, 0, 0, 0, 0, 0, 0, 0,\n",
       "       0, 0, 0, 0, 0, 0, 0, 1, 0, 0], dtype=int64)"
      ]
     },
     "execution_count": 69,
     "metadata": {},
     "output_type": "execute_result"
    }
   ],
   "source": [
    "y_pred"
   ]
  },
  {
   "cell_type": "code",
   "execution_count": 70,
   "metadata": {},
   "outputs": [
    {
     "data": {
      "text/plain": [
       "1633    0\n",
       "4546    0\n",
       "2506    0\n",
       "3131    0\n",
       "3366    0\n",
       "       ..\n",
       "1461    0\n",
       "4812    0\n",
       "3312    1\n",
       "830     0\n",
       "4140    0\n",
       "Name: target, Length: 560, dtype: int64"
      ]
     },
     "execution_count": 70,
     "metadata": {},
     "output_type": "execute_result"
    }
   ],
   "source": [
    "y_test"
   ]
  },
  {
   "cell_type": "code",
   "execution_count": 71,
   "metadata": {},
   "outputs": [],
   "source": [
    "from sklearn.metrics import accuracy_score, confusion_matrix, classification_report,precision_score, recall_score,roc_auc_score"
   ]
  },
  {
   "cell_type": "code",
   "execution_count": 72,
   "metadata": {},
   "outputs": [
    {
     "data": {
      "text/plain": [
       "0.9357142857142857"
      ]
     },
     "execution_count": 72,
     "metadata": {},
     "output_type": "execute_result"
    }
   ],
   "source": [
    "accuracy_score(y_test, y_pred)"
   ]
  },
  {
   "cell_type": "code",
   "execution_count": 73,
   "metadata": {},
   "outputs": [
    {
     "name": "stdout",
     "output_type": "stream",
     "text": [
      "[[487   8]\n",
      " [ 28  37]]\n"
     ]
    }
   ],
   "source": [
    "print(confusion_matrix(y_test, y_pred))"
   ]
  },
  {
   "cell_type": "code",
   "execution_count": 74,
   "metadata": {},
   "outputs": [
    {
     "name": "stdout",
     "output_type": "stream",
     "text": [
      "              precision    recall  f1-score   support\n",
      "\n",
      "           0       0.95      0.98      0.96       495\n",
      "           1       0.82      0.57      0.67        65\n",
      "\n",
      "    accuracy                           0.94       560\n",
      "   macro avg       0.88      0.78      0.82       560\n",
      "weighted avg       0.93      0.94      0.93       560\n",
      "\n"
     ]
    }
   ],
   "source": [
    "print(classification_report(y_test, y_pred))"
   ]
  },
  {
   "cell_type": "code",
   "execution_count": 75,
   "metadata": {},
   "outputs": [
    {
     "data": {
      "text/plain": [
       "0.8222222222222222"
      ]
     },
     "execution_count": 75,
     "metadata": {},
     "output_type": "execute_result"
    }
   ],
   "source": [
    "precision_score(y_test, y_pred)"
   ]
  },
  {
   "cell_type": "code",
   "execution_count": 76,
   "metadata": {},
   "outputs": [
    {
     "data": {
      "text/plain": [
       "0.5692307692307692"
      ]
     },
     "execution_count": 76,
     "metadata": {},
     "output_type": "execute_result"
    }
   ],
   "source": [
    "recall_score(y_test, y_pred)"
   ]
  },
  {
   "cell_type": "code",
   "execution_count": 77,
   "metadata": {},
   "outputs": [],
   "source": [
    "y_probs = model.predict_proba(scaler_Xtest)"
   ]
  },
  {
   "cell_type": "code",
   "execution_count": 78,
   "metadata": {},
   "outputs": [
    {
     "data": {
      "text/plain": [
       "0.9214296814296814"
      ]
     },
     "execution_count": 78,
     "metadata": {},
     "output_type": "execute_result"
    }
   ],
   "source": [
    "roc_auc_score(y_test,y_probs[:,1])"
   ]
  },
  {
   "cell_type": "code",
   "execution_count": 79,
   "metadata": {},
   "outputs": [
    {
     "name": "stdout",
     "output_type": "stream",
     "text": [
      "Coeficiente determinación 0.3734265734265735\n",
      "MAE 0.06428571428571428\n",
      "MAPE 64337137533864.27\n",
      "MSE 0.06428571428571428\n",
      "RMSE 0.253546276418555\n"
     ]
    }
   ],
   "source": [
    "from sklearn.metrics import mean_absolute_error, mean_absolute_percentage_error, mean_squared_error, r2_score\n",
    "\n",
    "print(\"Coeficiente determinación\", r2_score(y_test, y_pred))\n",
    "print(\"MAE\", mean_absolute_error(y_test, y_pred))\n",
    "print(\"MAPE\", mean_absolute_percentage_error(y_test, y_pred))\n",
    "print(\"MSE\", mean_squared_error(y_test, y_pred))\n",
    "print(\"RMSE\", np.sqrt(mean_squared_error(y_test, y_pred)))"
   ]
  },
  {
   "attachments": {},
   "cell_type": "markdown",
   "metadata": {},
   "source": [
    "Empezamos con el modelo decision Tree"
   ]
  },
  {
   "cell_type": "code",
   "execution_count": 80,
   "metadata": {},
   "outputs": [
    {
     "data": {
      "text/html": [
       "<style>#sk-container-id-3 {color: black;background-color: white;}#sk-container-id-3 pre{padding: 0;}#sk-container-id-3 div.sk-toggleable {background-color: white;}#sk-container-id-3 label.sk-toggleable__label {cursor: pointer;display: block;width: 100%;margin-bottom: 0;padding: 0.3em;box-sizing: border-box;text-align: center;}#sk-container-id-3 label.sk-toggleable__label-arrow:before {content: \"▸\";float: left;margin-right: 0.25em;color: #696969;}#sk-container-id-3 label.sk-toggleable__label-arrow:hover:before {color: black;}#sk-container-id-3 div.sk-estimator:hover label.sk-toggleable__label-arrow:before {color: black;}#sk-container-id-3 div.sk-toggleable__content {max-height: 0;max-width: 0;overflow: hidden;text-align: left;background-color: #f0f8ff;}#sk-container-id-3 div.sk-toggleable__content pre {margin: 0.2em;color: black;border-radius: 0.25em;background-color: #f0f8ff;}#sk-container-id-3 input.sk-toggleable__control:checked~div.sk-toggleable__content {max-height: 200px;max-width: 100%;overflow: auto;}#sk-container-id-3 input.sk-toggleable__control:checked~label.sk-toggleable__label-arrow:before {content: \"▾\";}#sk-container-id-3 div.sk-estimator input.sk-toggleable__control:checked~label.sk-toggleable__label {background-color: #d4ebff;}#sk-container-id-3 div.sk-label input.sk-toggleable__control:checked~label.sk-toggleable__label {background-color: #d4ebff;}#sk-container-id-3 input.sk-hidden--visually {border: 0;clip: rect(1px 1px 1px 1px);clip: rect(1px, 1px, 1px, 1px);height: 1px;margin: -1px;overflow: hidden;padding: 0;position: absolute;width: 1px;}#sk-container-id-3 div.sk-estimator {font-family: monospace;background-color: #f0f8ff;border: 1px dotted black;border-radius: 0.25em;box-sizing: border-box;margin-bottom: 0.5em;}#sk-container-id-3 div.sk-estimator:hover {background-color: #d4ebff;}#sk-container-id-3 div.sk-parallel-item::after {content: \"\";width: 100%;border-bottom: 1px solid gray;flex-grow: 1;}#sk-container-id-3 div.sk-label:hover label.sk-toggleable__label {background-color: #d4ebff;}#sk-container-id-3 div.sk-serial::before {content: \"\";position: absolute;border-left: 1px solid gray;box-sizing: border-box;top: 0;bottom: 0;left: 50%;z-index: 0;}#sk-container-id-3 div.sk-serial {display: flex;flex-direction: column;align-items: center;background-color: white;padding-right: 0.2em;padding-left: 0.2em;position: relative;}#sk-container-id-3 div.sk-item {position: relative;z-index: 1;}#sk-container-id-3 div.sk-parallel {display: flex;align-items: stretch;justify-content: center;background-color: white;position: relative;}#sk-container-id-3 div.sk-item::before, #sk-container-id-3 div.sk-parallel-item::before {content: \"\";position: absolute;border-left: 1px solid gray;box-sizing: border-box;top: 0;bottom: 0;left: 50%;z-index: -1;}#sk-container-id-3 div.sk-parallel-item {display: flex;flex-direction: column;z-index: 1;position: relative;background-color: white;}#sk-container-id-3 div.sk-parallel-item:first-child::after {align-self: flex-end;width: 50%;}#sk-container-id-3 div.sk-parallel-item:last-child::after {align-self: flex-start;width: 50%;}#sk-container-id-3 div.sk-parallel-item:only-child::after {width: 0;}#sk-container-id-3 div.sk-dashed-wrapped {border: 1px dashed gray;margin: 0 0.4em 0.5em 0.4em;box-sizing: border-box;padding-bottom: 0.4em;background-color: white;}#sk-container-id-3 div.sk-label label {font-family: monospace;font-weight: bold;display: inline-block;line-height: 1.2em;}#sk-container-id-3 div.sk-label-container {text-align: center;}#sk-container-id-3 div.sk-container {/* jupyter's `normalize.less` sets `[hidden] { display: none; }` but bootstrap.min.css set `[hidden] { display: none !important; }` so we also need the `!important` here to be able to override the default hidden behavior on the sphinx rendered scikit-learn.org. See: https://github.com/scikit-learn/scikit-learn/issues/21755 */display: inline-block !important;position: relative;}#sk-container-id-3 div.sk-text-repr-fallback {display: none;}</style><div id=\"sk-container-id-3\" class=\"sk-top-container\"><div class=\"sk-text-repr-fallback\"><pre>DecisionTreeRegressor()</pre><b>In a Jupyter environment, please rerun this cell to show the HTML representation or trust the notebook. <br />On GitHub, the HTML representation is unable to render, please try loading this page with nbviewer.org.</b></div><div class=\"sk-container\" hidden><div class=\"sk-item\"><div class=\"sk-estimator sk-toggleable\"><input class=\"sk-toggleable__control sk-hidden--visually\" id=\"sk-estimator-id-3\" type=\"checkbox\" checked><label for=\"sk-estimator-id-3\" class=\"sk-toggleable__label sk-toggleable__label-arrow\">DecisionTreeRegressor</label><div class=\"sk-toggleable__content\"><pre>DecisionTreeRegressor()</pre></div></div></div></div></div>"
      ],
      "text/plain": [
       "DecisionTreeRegressor()"
      ]
     },
     "execution_count": 80,
     "metadata": {},
     "output_type": "execute_result"
    }
   ],
   "source": [
    "from sklearn.tree import DecisionTreeRegressor, plot_tree\n",
    "\n",
    "dtr = DecisionTreeRegressor()\n",
    "dtr.fit(scaler_Xtrain,y_train)"
   ]
  },
  {
   "cell_type": "code",
   "execution_count": 81,
   "metadata": {},
   "outputs": [
    {
     "data": {
      "text/plain": [
       "array([0., 0., 0., 0., 0., 0., 0., 0., 0., 0., 0., 1., 0., 0., 0., 0., 0.,\n",
       "       0., 0., 0., 0., 0., 0., 0., 0., 0., 0., 0., 0., 0., 0., 0., 0., 0.,\n",
       "       0., 0., 0., 0., 1., 0., 1., 0., 0., 0., 1., 1., 1., 0., 1., 0., 0.,\n",
       "       0., 0., 0., 1., 0., 1., 0., 0., 0., 0., 0., 0., 0., 0., 1., 0., 0.,\n",
       "       0., 0., 0., 0., 0., 0., 1., 0., 1., 0., 0., 0., 0., 0., 0., 0., 0.,\n",
       "       0., 1., 0., 0., 0., 0., 0., 0., 0., 0., 0., 0., 0., 0., 0., 0., 0.,\n",
       "       0., 0., 0., 0., 0., 0., 0., 0., 0., 0., 0., 0., 0., 0., 1., 1., 0.,\n",
       "       0., 1., 1., 0., 0., 0., 0., 0., 0., 1., 0., 0., 0., 0., 0., 0., 0.,\n",
       "       0., 0., 0., 0., 0., 0., 0., 0., 0., 0., 0., 0., 0., 0., 0., 0., 0.,\n",
       "       0., 0., 1., 0., 0., 0., 0., 0., 0., 0., 0., 0., 0., 0., 0., 0., 0.,\n",
       "       0., 0., 0., 0., 0., 1., 0., 0., 0., 0., 0., 0., 0., 0., 0., 1., 0.,\n",
       "       0., 0., 0., 0., 0., 0., 1., 0., 1., 0., 0., 0., 0., 0., 0., 0., 0.,\n",
       "       0., 0., 0., 0., 0., 0., 0., 0., 0., 1., 1., 0., 0., 0., 0., 0., 0.,\n",
       "       0., 0., 0., 1., 0., 0., 0., 0., 1., 0., 1., 0., 0., 1., 0., 0., 0.,\n",
       "       0., 1., 1., 0., 0., 0., 0., 0., 0., 0., 0., 0., 0., 1., 0., 0., 0.,\n",
       "       0., 0., 0., 0., 0., 0., 0., 0., 0., 1., 0., 0., 0., 0., 1., 0., 0.,\n",
       "       0., 0., 0., 0., 0., 0., 0., 0., 1., 0., 0., 0., 0., 0., 0., 0., 0.,\n",
       "       0., 1., 1., 0., 0., 0., 0., 0., 0., 1., 0., 0., 0., 1., 0., 0., 1.,\n",
       "       0., 0., 0., 0., 0., 0., 0., 0., 0., 0., 0., 0., 0., 0., 0., 0., 0.,\n",
       "       0., 0., 0., 0., 0., 0., 0., 0., 0., 1., 1., 0., 0., 0., 0., 0., 0.,\n",
       "       0., 0., 0., 0., 0., 0., 0., 0., 0., 0., 0., 0., 0., 1., 0., 0., 0.,\n",
       "       0., 0., 0., 0., 0., 0., 0., 0., 0., 0., 0., 0., 0., 0., 0., 1., 0.,\n",
       "       0., 0., 0., 0., 0., 0., 0., 1., 0., 0., 0., 0., 0., 0., 0., 0., 0.,\n",
       "       0., 0., 0., 1., 0., 0., 0., 0., 0., 0., 0., 0., 0., 0., 1., 0., 0.,\n",
       "       0., 0., 0., 0., 1., 0., 0., 0., 0., 1., 0., 0., 0., 0., 0., 0., 0.,\n",
       "       0., 0., 0., 0., 0., 0., 0., 0., 0., 0., 0., 0., 0., 0., 0., 1., 0.,\n",
       "       1., 0., 0., 0., 0., 0., 0., 0., 0., 0., 0., 0., 1., 0., 0., 0., 0.,\n",
       "       1., 0., 0., 0., 0., 0., 0., 0., 1., 0., 0., 0., 0., 0., 0., 1., 0.,\n",
       "       0., 0., 1., 0., 0., 0., 0., 1., 0., 1., 0., 0., 0., 0., 0., 0., 0.,\n",
       "       0., 0., 0., 0., 0., 1., 0., 0., 0., 1., 0., 0., 0., 0., 0., 0., 0.,\n",
       "       0., 0., 0., 0., 0., 0., 0., 0., 1., 0., 0., 1., 0., 0., 1., 0., 0.,\n",
       "       0., 0., 0., 0., 0., 0., 1., 0., 0., 1., 0., 0., 0., 0., 0., 1., 0.,\n",
       "       0., 0., 0., 0., 0., 0., 0., 0., 0., 0., 0., 0., 0., 1., 0., 0.])"
      ]
     },
     "execution_count": 81,
     "metadata": {},
     "output_type": "execute_result"
    }
   ],
   "source": [
    "y_pred = dtr.predict(scaler_Xtest)\n",
    "y_pred"
   ]
  },
  {
   "cell_type": "code",
   "execution_count": 82,
   "metadata": {},
   "outputs": [],
   "source": [
    "from sklearn.metrics import accuracy_score, confusion_matrix, classification_report,precision_score, recall_score,roc_auc_score"
   ]
  },
  {
   "cell_type": "code",
   "execution_count": 83,
   "metadata": {},
   "outputs": [
    {
     "data": {
      "text/plain": [
       "0.9642857142857143"
      ]
     },
     "execution_count": 83,
     "metadata": {},
     "output_type": "execute_result"
    }
   ],
   "source": [
    "accuracy_score(y_test, y_pred)"
   ]
  },
  {
   "cell_type": "code",
   "execution_count": 84,
   "metadata": {},
   "outputs": [
    {
     "name": "stdout",
     "output_type": "stream",
     "text": [
      "[[484  11]\n",
      " [  9  56]]\n"
     ]
    }
   ],
   "source": [
    "print(confusion_matrix(y_test, y_pred))"
   ]
  },
  {
   "cell_type": "code",
   "execution_count": 85,
   "metadata": {},
   "outputs": [
    {
     "name": "stdout",
     "output_type": "stream",
     "text": [
      "              precision    recall  f1-score   support\n",
      "\n",
      "           0       0.98      0.98      0.98       495\n",
      "           1       0.84      0.86      0.85        65\n",
      "\n",
      "    accuracy                           0.96       560\n",
      "   macro avg       0.91      0.92      0.91       560\n",
      "weighted avg       0.96      0.96      0.96       560\n",
      "\n"
     ]
    }
   ],
   "source": [
    "print(classification_report(y_test, y_pred))"
   ]
  },
  {
   "cell_type": "code",
   "execution_count": 86,
   "metadata": {},
   "outputs": [
    {
     "data": {
      "text/plain": [
       "0.835820895522388"
      ]
     },
     "execution_count": 86,
     "metadata": {},
     "output_type": "execute_result"
    }
   ],
   "source": [
    "precision_score(y_test, y_pred)"
   ]
  },
  {
   "cell_type": "code",
   "execution_count": 87,
   "metadata": {},
   "outputs": [
    {
     "data": {
      "text/plain": [
       "0.8615384615384616"
      ]
     },
     "execution_count": 87,
     "metadata": {},
     "output_type": "execute_result"
    }
   ],
   "source": [
    "recall_score(y_test, y_pred)"
   ]
  },
  {
   "cell_type": "code",
   "execution_count": 88,
   "metadata": {},
   "outputs": [],
   "source": [
    "y_probs = model.predict_proba(scaler_Xtest)"
   ]
  },
  {
   "cell_type": "code",
   "execution_count": 89,
   "metadata": {},
   "outputs": [
    {
     "data": {
      "text/plain": [
       "0.9214296814296814"
      ]
     },
     "execution_count": 89,
     "metadata": {},
     "output_type": "execute_result"
    }
   ],
   "source": [
    "roc_auc_score(y_test,y_probs[:,1])"
   ]
  },
  {
   "cell_type": "code",
   "execution_count": 90,
   "metadata": {},
   "outputs": [
    {
     "name": "stdout",
     "output_type": "stream",
     "text": [
      "Coeficiente determinación 0.651903651903652\n",
      "MAE 0.03571428571428571\n",
      "MAPE 88463564109063.31\n",
      "MSE 0.03571428571428571\n",
      "RMSE 0.1889822365046136\n"
     ]
    }
   ],
   "source": [
    "from sklearn.metrics import mean_absolute_error, mean_absolute_percentage_error, mean_squared_error, r2_score\n",
    "\n",
    "print(\"Coeficiente determinación\", r2_score(y_test, y_pred))\n",
    "print(\"MAE\", mean_absolute_error(y_test, y_pred))\n",
    "print(\"MAPE\", mean_absolute_percentage_error(y_test, y_pred))\n",
    "print(\"MSE\", mean_squared_error(y_test, y_pred))\n",
    "print(\"RMSE\", np.sqrt(mean_squared_error(y_test, y_pred)))"
   ]
  },
  {
   "attachments": {},
   "cell_type": "markdown",
   "metadata": {},
   "source": [
    "Modelo KNN"
   ]
  },
  {
   "cell_type": "code",
   "execution_count": 91,
   "metadata": {},
   "outputs": [],
   "source": [
    "from sklearn.neighbors import KNeighborsClassifier"
   ]
  },
  {
   "cell_type": "code",
   "execution_count": 92,
   "metadata": {},
   "outputs": [],
   "source": [
    "knn = KNeighborsClassifier(n_neighbors=5)\n"
   ]
  },
  {
   "cell_type": "code",
   "execution_count": 93,
   "metadata": {},
   "outputs": [
    {
     "data": {
      "text/html": [
       "<style>#sk-container-id-4 {color: black;background-color: white;}#sk-container-id-4 pre{padding: 0;}#sk-container-id-4 div.sk-toggleable {background-color: white;}#sk-container-id-4 label.sk-toggleable__label {cursor: pointer;display: block;width: 100%;margin-bottom: 0;padding: 0.3em;box-sizing: border-box;text-align: center;}#sk-container-id-4 label.sk-toggleable__label-arrow:before {content: \"▸\";float: left;margin-right: 0.25em;color: #696969;}#sk-container-id-4 label.sk-toggleable__label-arrow:hover:before {color: black;}#sk-container-id-4 div.sk-estimator:hover label.sk-toggleable__label-arrow:before {color: black;}#sk-container-id-4 div.sk-toggleable__content {max-height: 0;max-width: 0;overflow: hidden;text-align: left;background-color: #f0f8ff;}#sk-container-id-4 div.sk-toggleable__content pre {margin: 0.2em;color: black;border-radius: 0.25em;background-color: #f0f8ff;}#sk-container-id-4 input.sk-toggleable__control:checked~div.sk-toggleable__content {max-height: 200px;max-width: 100%;overflow: auto;}#sk-container-id-4 input.sk-toggleable__control:checked~label.sk-toggleable__label-arrow:before {content: \"▾\";}#sk-container-id-4 div.sk-estimator input.sk-toggleable__control:checked~label.sk-toggleable__label {background-color: #d4ebff;}#sk-container-id-4 div.sk-label input.sk-toggleable__control:checked~label.sk-toggleable__label {background-color: #d4ebff;}#sk-container-id-4 input.sk-hidden--visually {border: 0;clip: rect(1px 1px 1px 1px);clip: rect(1px, 1px, 1px, 1px);height: 1px;margin: -1px;overflow: hidden;padding: 0;position: absolute;width: 1px;}#sk-container-id-4 div.sk-estimator {font-family: monospace;background-color: #f0f8ff;border: 1px dotted black;border-radius: 0.25em;box-sizing: border-box;margin-bottom: 0.5em;}#sk-container-id-4 div.sk-estimator:hover {background-color: #d4ebff;}#sk-container-id-4 div.sk-parallel-item::after {content: \"\";width: 100%;border-bottom: 1px solid gray;flex-grow: 1;}#sk-container-id-4 div.sk-label:hover label.sk-toggleable__label {background-color: #d4ebff;}#sk-container-id-4 div.sk-serial::before {content: \"\";position: absolute;border-left: 1px solid gray;box-sizing: border-box;top: 0;bottom: 0;left: 50%;z-index: 0;}#sk-container-id-4 div.sk-serial {display: flex;flex-direction: column;align-items: center;background-color: white;padding-right: 0.2em;padding-left: 0.2em;position: relative;}#sk-container-id-4 div.sk-item {position: relative;z-index: 1;}#sk-container-id-4 div.sk-parallel {display: flex;align-items: stretch;justify-content: center;background-color: white;position: relative;}#sk-container-id-4 div.sk-item::before, #sk-container-id-4 div.sk-parallel-item::before {content: \"\";position: absolute;border-left: 1px solid gray;box-sizing: border-box;top: 0;bottom: 0;left: 50%;z-index: -1;}#sk-container-id-4 div.sk-parallel-item {display: flex;flex-direction: column;z-index: 1;position: relative;background-color: white;}#sk-container-id-4 div.sk-parallel-item:first-child::after {align-self: flex-end;width: 50%;}#sk-container-id-4 div.sk-parallel-item:last-child::after {align-self: flex-start;width: 50%;}#sk-container-id-4 div.sk-parallel-item:only-child::after {width: 0;}#sk-container-id-4 div.sk-dashed-wrapped {border: 1px dashed gray;margin: 0 0.4em 0.5em 0.4em;box-sizing: border-box;padding-bottom: 0.4em;background-color: white;}#sk-container-id-4 div.sk-label label {font-family: monospace;font-weight: bold;display: inline-block;line-height: 1.2em;}#sk-container-id-4 div.sk-label-container {text-align: center;}#sk-container-id-4 div.sk-container {/* jupyter's `normalize.less` sets `[hidden] { display: none; }` but bootstrap.min.css set `[hidden] { display: none !important; }` so we also need the `!important` here to be able to override the default hidden behavior on the sphinx rendered scikit-learn.org. See: https://github.com/scikit-learn/scikit-learn/issues/21755 */display: inline-block !important;position: relative;}#sk-container-id-4 div.sk-text-repr-fallback {display: none;}</style><div id=\"sk-container-id-4\" class=\"sk-top-container\"><div class=\"sk-text-repr-fallback\"><pre>KNeighborsClassifier()</pre><b>In a Jupyter environment, please rerun this cell to show the HTML representation or trust the notebook. <br />On GitHub, the HTML representation is unable to render, please try loading this page with nbviewer.org.</b></div><div class=\"sk-container\" hidden><div class=\"sk-item\"><div class=\"sk-estimator sk-toggleable\"><input class=\"sk-toggleable__control sk-hidden--visually\" id=\"sk-estimator-id-4\" type=\"checkbox\" checked><label for=\"sk-estimator-id-4\" class=\"sk-toggleable__label sk-toggleable__label-arrow\">KNeighborsClassifier</label><div class=\"sk-toggleable__content\"><pre>KNeighborsClassifier()</pre></div></div></div></div></div>"
      ],
      "text/plain": [
       "KNeighborsClassifier()"
      ]
     },
     "execution_count": 93,
     "metadata": {},
     "output_type": "execute_result"
    }
   ],
   "source": [
    "knn.fit(scaler_Xtrain, y_train)\n",
    "\n"
   ]
  },
  {
   "cell_type": "code",
   "execution_count": 94,
   "metadata": {},
   "outputs": [
    {
     "data": {
      "text/plain": [
       "array([0, 0, 0, 0, 0, 0, 0, 0, 0, 0, 0, 1, 0, 0, 0, 0, 0, 0, 0, 0, 0, 0,\n",
       "       1, 0, 0, 0, 0, 0, 0, 0, 0, 0, 0, 0, 0, 0, 0, 0, 1, 0, 0, 0, 0, 0,\n",
       "       0, 0, 1, 0, 1, 0, 0, 0, 0, 0, 0, 0, 1, 0, 0, 0, 0, 0, 1, 0, 0, 0,\n",
       "       0, 0, 0, 0, 0, 0, 0, 1, 0, 0, 0, 0, 0, 0, 0, 0, 0, 0, 0, 0, 0, 1,\n",
       "       0, 0, 0, 0, 0, 0, 0, 0, 0, 0, 0, 0, 0, 0, 0, 0, 0, 0, 0, 0, 0, 0,\n",
       "       0, 0, 0, 0, 0, 0, 0, 0, 0, 0, 1, 0, 0, 0, 0, 0, 0, 0, 1, 0, 0, 0,\n",
       "       0, 0, 0, 0, 0, 0, 0, 0, 0, 0, 0, 0, 0, 0, 0, 0, 0, 0, 0, 0, 0, 0,\n",
       "       0, 1, 0, 0, 0, 0, 0, 0, 0, 0, 0, 0, 0, 0, 0, 0, 0, 0, 0, 0, 0, 1,\n",
       "       0, 0, 0, 0, 0, 0, 0, 0, 0, 1, 0, 0, 0, 0, 0, 0, 0, 0, 0, 1, 0, 0,\n",
       "       0, 0, 0, 0, 0, 0, 0, 1, 0, 0, 0, 0, 0, 0, 0, 1, 0, 0, 0, 0, 0, 0,\n",
       "       0, 0, 0, 0, 1, 1, 0, 0, 0, 1, 0, 1, 0, 0, 0, 0, 0, 0, 0, 1, 1, 0,\n",
       "       0, 0, 0, 0, 0, 0, 0, 0, 0, 1, 0, 0, 0, 0, 0, 0, 0, 0, 0, 0, 0, 0,\n",
       "       1, 0, 0, 0, 0, 0, 0, 0, 0, 0, 0, 0, 0, 0, 0, 0, 1, 0, 0, 0, 0, 0,\n",
       "       0, 0, 0, 0, 1, 1, 0, 0, 0, 0, 0, 0, 1, 0, 0, 0, 0, 0, 0, 0, 0, 0,\n",
       "       0, 0, 0, 0, 0, 0, 0, 0, 1, 0, 0, 0, 0, 0, 0, 0, 0, 0, 0, 0, 0, 0,\n",
       "       0, 0, 1, 0, 0, 0, 0, 0, 1, 0, 0, 0, 0, 0, 0, 0, 0, 0, 0, 0, 0, 0,\n",
       "       0, 0, 0, 0, 0, 0, 0, 0, 0, 0, 0, 0, 0, 0, 0, 0, 0, 0, 0, 0, 0, 0,\n",
       "       0, 0, 0, 0, 0, 0, 0, 1, 0, 0, 0, 0, 0, 0, 0, 0, 0, 0, 0, 0, 0, 0,\n",
       "       0, 0, 0, 0, 0, 0, 0, 0, 0, 0, 0, 0, 0, 0, 0, 0, 1, 0, 0, 0, 0, 0,\n",
       "       0, 0, 0, 0, 0, 0, 0, 0, 0, 0, 0, 0, 0, 0, 0, 0, 0, 0, 0, 0, 0, 0,\n",
       "       0, 0, 0, 0, 0, 0, 0, 0, 0, 1, 0, 0, 0, 0, 0, 0, 0, 0, 0, 0, 0, 0,\n",
       "       0, 0, 0, 0, 0, 1, 0, 0, 0, 0, 0, 0, 0, 0, 0, 0, 0, 0, 0, 0, 0, 0,\n",
       "       0, 1, 0, 0, 0, 0, 0, 0, 0, 0, 0, 0, 0, 0, 1, 0, 0, 0, 1, 0, 0, 0,\n",
       "       0, 0, 0, 0, 0, 0, 0, 0, 0, 1, 0, 0, 0, 0, 0, 0, 0, 0, 0, 0, 0, 0,\n",
       "       0, 0, 0, 0, 0, 1, 0, 0, 1, 0, 0, 0, 0, 0, 0, 0, 0, 0, 0, 0, 0, 0,\n",
       "       0, 0, 0, 0, 0, 0, 0, 0, 0, 0], dtype=int64)"
      ]
     },
     "execution_count": 94,
     "metadata": {},
     "output_type": "execute_result"
    }
   ],
   "source": [
    "y_pred = knn.predict(scaler_Xtest)\n",
    "y_pred"
   ]
  },
  {
   "cell_type": "code",
   "execution_count": 95,
   "metadata": {},
   "outputs": [],
   "source": [
    "from sklearn.metrics import accuracy_score, confusion_matrix, classification_report,precision_score, recall_score,roc_auc_score"
   ]
  },
  {
   "cell_type": "code",
   "execution_count": 96,
   "metadata": {},
   "outputs": [
    {
     "data": {
      "text/plain": [
       "0.9196428571428571"
      ]
     },
     "execution_count": 96,
     "metadata": {},
     "output_type": "execute_result"
    }
   ],
   "source": [
    "accuracy_score(y_test, y_pred)"
   ]
  },
  {
   "cell_type": "code",
   "execution_count": 97,
   "metadata": {},
   "outputs": [
    {
     "data": {
      "text/plain": [
       "array([[484,  11],\n",
       "       [ 34,  31]], dtype=int64)"
      ]
     },
     "execution_count": 97,
     "metadata": {},
     "output_type": "execute_result"
    }
   ],
   "source": [
    "confusion_matrix(y_test, y_pred)"
   ]
  },
  {
   "cell_type": "code",
   "execution_count": 98,
   "metadata": {},
   "outputs": [
    {
     "name": "stdout",
     "output_type": "stream",
     "text": [
      "              precision    recall  f1-score   support\n",
      "\n",
      "           0       0.93      0.98      0.96       495\n",
      "           1       0.74      0.48      0.58        65\n",
      "\n",
      "    accuracy                           0.92       560\n",
      "   macro avg       0.84      0.73      0.77       560\n",
      "weighted avg       0.91      0.92      0.91       560\n",
      "\n"
     ]
    }
   ],
   "source": [
    "print(classification_report(y_test, y_pred))"
   ]
  },
  {
   "cell_type": "code",
   "execution_count": 99,
   "metadata": {},
   "outputs": [
    {
     "data": {
      "text/plain": [
       "0.7380952380952381"
      ]
     },
     "execution_count": 99,
     "metadata": {},
     "output_type": "execute_result"
    }
   ],
   "source": [
    "precision_score(y_test, y_pred)"
   ]
  },
  {
   "cell_type": "code",
   "execution_count": 100,
   "metadata": {},
   "outputs": [
    {
     "data": {
      "text/plain": [
       "0.47692307692307695"
      ]
     },
     "execution_count": 100,
     "metadata": {},
     "output_type": "execute_result"
    }
   ],
   "source": [
    "recall_score(y_test, y_pred)"
   ]
  },
  {
   "cell_type": "code",
   "execution_count": 101,
   "metadata": {},
   "outputs": [],
   "source": [
    "y_probs = model.predict_proba(scaler_Xtest)"
   ]
  },
  {
   "cell_type": "code",
   "execution_count": 102,
   "metadata": {},
   "outputs": [
    {
     "data": {
      "text/plain": [
       "0.9214296814296814"
      ]
     },
     "execution_count": 102,
     "metadata": {},
     "output_type": "execute_result"
    }
   ],
   "source": [
    "roc_auc_score(y_test,y_probs[:,1])"
   ]
  },
  {
   "cell_type": "code",
   "execution_count": 103,
   "metadata": {},
   "outputs": [
    {
     "name": "stdout",
     "output_type": "stream",
     "text": [
      "Coeficiente determinación 0.21678321678321688\n",
      "MAE 0.08035714285714286\n",
      "MAPE 88463564109063.38\n",
      "MSE 0.08035714285714286\n",
      "RMSE 0.2834733547569204\n"
     ]
    }
   ],
   "source": [
    "from sklearn.metrics import mean_absolute_error, mean_absolute_percentage_error, mean_squared_error, r2_score\n",
    "\n",
    "print(\"Coeficiente determinación\", r2_score(y_test, y_pred))\n",
    "print(\"MAE\", mean_absolute_error(y_test, y_pred))\n",
    "print(\"MAPE\", mean_absolute_percentage_error(y_test, y_pred))\n",
    "print(\"MSE\", mean_squared_error(y_test, y_pred))\n",
    "print(\"RMSE\", np.sqrt(mean_squared_error(y_test, y_pred)))"
   ]
  },
  {
   "attachments": {},
   "cell_type": "markdown",
   "metadata": {},
   "source": [
    "Comenzamos el modelo SVM"
   ]
  },
  {
   "cell_type": "code",
   "execution_count": 104,
   "metadata": {},
   "outputs": [],
   "source": [
    "from sklearn.svm import SVC\n"
   ]
  },
  {
   "cell_type": "code",
   "execution_count": 105,
   "metadata": {},
   "outputs": [],
   "source": [
    "svm_clf = SVC(kernel='linear', C = float(10000000))"
   ]
  },
  {
   "cell_type": "code",
   "execution_count": 106,
   "metadata": {},
   "outputs": [],
   "source": [
    "#svm_clf.fit(scaler_Xtrain, y_train)   lo quito pq se ha pasado 20 min calculando y no acababa de funcionar"
   ]
  },
  {
   "cell_type": "code",
   "execution_count": 107,
   "metadata": {},
   "outputs": [
    {
     "ename": "NotFittedError",
     "evalue": "This SVC instance is not fitted yet. Call 'fit' with appropriate arguments before using this estimator.",
     "output_type": "error",
     "traceback": [
      "\u001b[1;31m---------------------------------------------------------------------------\u001b[0m",
      "\u001b[1;31mNotFittedError\u001b[0m                            Traceback (most recent call last)",
      "Cell \u001b[1;32mIn[107], line 1\u001b[0m\n\u001b[1;32m----> 1\u001b[0m y_pred \u001b[39m=\u001b[39m svm_clf\u001b[39m.\u001b[39;49mpredict(scaler_Xtest)\n\u001b[0;32m      2\u001b[0m y_pred\n",
      "File \u001b[1;32mc:\\Users\\suert\\AppData\\Local\\Programs\\Python\\Python311\\Lib\\site-packages\\sklearn\\svm\\_base.py:807\u001b[0m, in \u001b[0;36mBaseSVC.predict\u001b[1;34m(self, X)\u001b[0m\n\u001b[0;32m    790\u001b[0m \u001b[39mdef\u001b[39;00m \u001b[39mpredict\u001b[39m(\u001b[39mself\u001b[39m, X):\n\u001b[0;32m    791\u001b[0m \u001b[39m    \u001b[39m\u001b[39m\"\"\"Perform classification on samples in X.\u001b[39;00m\n\u001b[0;32m    792\u001b[0m \n\u001b[0;32m    793\u001b[0m \u001b[39m    For an one-class model, +1 or -1 is returned.\u001b[39;00m\n\u001b[1;32m   (...)\u001b[0m\n\u001b[0;32m    805\u001b[0m \u001b[39m        Class labels for samples in X.\u001b[39;00m\n\u001b[0;32m    806\u001b[0m \u001b[39m    \"\"\"\u001b[39;00m\n\u001b[1;32m--> 807\u001b[0m     check_is_fitted(\u001b[39mself\u001b[39;49m)\n\u001b[0;32m    808\u001b[0m     \u001b[39mif\u001b[39;00m \u001b[39mself\u001b[39m\u001b[39m.\u001b[39mbreak_ties \u001b[39mand\u001b[39;00m \u001b[39mself\u001b[39m\u001b[39m.\u001b[39mdecision_function_shape \u001b[39m==\u001b[39m \u001b[39m\"\u001b[39m\u001b[39movo\u001b[39m\u001b[39m\"\u001b[39m:\n\u001b[0;32m    809\u001b[0m         \u001b[39mraise\u001b[39;00m \u001b[39mValueError\u001b[39;00m(\n\u001b[0;32m    810\u001b[0m             \u001b[39m\"\u001b[39m\u001b[39mbreak_ties must be False when decision_function_shape is \u001b[39m\u001b[39m'\u001b[39m\u001b[39movo\u001b[39m\u001b[39m'\u001b[39m\u001b[39m\"\u001b[39m\n\u001b[0;32m    811\u001b[0m         )\n",
      "File \u001b[1;32mc:\\Users\\suert\\AppData\\Local\\Programs\\Python\\Python311\\Lib\\site-packages\\sklearn\\utils\\validation.py:1390\u001b[0m, in \u001b[0;36mcheck_is_fitted\u001b[1;34m(estimator, attributes, msg, all_or_any)\u001b[0m\n\u001b[0;32m   1385\u001b[0m     fitted \u001b[39m=\u001b[39m [\n\u001b[0;32m   1386\u001b[0m         v \u001b[39mfor\u001b[39;00m v \u001b[39min\u001b[39;00m \u001b[39mvars\u001b[39m(estimator) \u001b[39mif\u001b[39;00m v\u001b[39m.\u001b[39mendswith(\u001b[39m\"\u001b[39m\u001b[39m_\u001b[39m\u001b[39m\"\u001b[39m) \u001b[39mand\u001b[39;00m \u001b[39mnot\u001b[39;00m v\u001b[39m.\u001b[39mstartswith(\u001b[39m\"\u001b[39m\u001b[39m__\u001b[39m\u001b[39m\"\u001b[39m)\n\u001b[0;32m   1387\u001b[0m     ]\n\u001b[0;32m   1389\u001b[0m \u001b[39mif\u001b[39;00m \u001b[39mnot\u001b[39;00m fitted:\n\u001b[1;32m-> 1390\u001b[0m     \u001b[39mraise\u001b[39;00m NotFittedError(msg \u001b[39m%\u001b[39m {\u001b[39m\"\u001b[39m\u001b[39mname\u001b[39m\u001b[39m\"\u001b[39m: \u001b[39mtype\u001b[39m(estimator)\u001b[39m.\u001b[39m\u001b[39m__name__\u001b[39m})\n",
      "\u001b[1;31mNotFittedError\u001b[0m: This SVC instance is not fitted yet. Call 'fit' with appropriate arguments before using this estimator."
     ]
    }
   ],
   "source": [
    "y_pred = svm_clf.predict(scaler_Xtest)\n",
    "y_pred"
   ]
  },
  {
   "cell_type": "code",
   "execution_count": null,
   "metadata": {},
   "outputs": [],
   "source": []
  }
 ],
 "metadata": {
  "kernelspec": {
   "display_name": "Python 3",
   "language": "python",
   "name": "python3"
  },
  "language_info": {
   "codemirror_mode": {
    "name": "ipython",
    "version": 3
   },
   "file_extension": ".py",
   "mimetype": "text/x-python",
   "name": "python",
   "nbconvert_exporter": "python",
   "pygments_lexer": "ipython3",
   "version": "3.11.3"
  },
  "orig_nbformat": 4
 },
 "nbformat": 4,
 "nbformat_minor": 2
}
